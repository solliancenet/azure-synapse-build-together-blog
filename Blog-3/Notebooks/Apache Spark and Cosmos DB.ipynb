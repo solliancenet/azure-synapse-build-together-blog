{
  "cells": [
    {
      "cell_type": "markdown",
      "source": [
        "Use Synapse Link for Cosmos DB to load data from Cosmos DB (an operational system) to a Spark DataFrame for in-memory analysis with the Spark engine."
      ],
      "metadata": {
        "nteract": {
          "transient": {
            "deleting": false
          }
        }
      }
    },
    {
      "cell_type": "code",
      "source": [
        "df_products = spark.read \\\r\n",
        "    .format(\"cosmos.olap\") \\\r\n",
        "    .option(\"spark.synapse.linkedService\", \"RetailSalesDemoDB\") \\\r\n",
        "    .option(\"spark.cosmos.container\", \"Products\") \\\r\n",
        "    .load()"
      ],
      "outputs": [
        {
          "output_type": "display_data",
          "data": {
            "application/vnd.livy.statement-meta+json": {
              "spark_pool": "livedemo",
              "session_id": 12,
              "statement_id": 1,
              "state": "finished",
              "livy_statement_state": "available",
              "queued_time": "2021-08-25T23:23:19.6253336Z",
              "session_start_time": "2021-08-25T23:23:19.6556794Z",
              "execution_start_time": "2021-08-25T23:27:17.1085981Z",
              "execution_finish_time": "2021-08-25T23:27:29.8148091Z"
            },
            "text/plain": "StatementMeta(livedemo, 12, 1, Finished, Available)"
          },
          "metadata": {}
        },
        {
          "output_type": "stream",
          "name": "stdout",
          "text": []
        }
      ],
      "execution_count": 1,
      "metadata": {}
    },
    {
      "cell_type": "code",
      "source": [
        "df_retailsales = spark.read \\\r\n",
        "    .format(\"cosmos.olap\") \\\r\n",
        "    .option(\"spark.synapse.linkedService\", \"RetailSalesDemoDB\") \\\r\n",
        "    .option(\"spark.cosmos.container\", \"RetailSales\") \\\r\n",
        "    .load()"
      ],
      "outputs": [
        {
          "output_type": "display_data",
          "data": {
            "application/vnd.livy.statement-meta+json": {
              "spark_pool": "livedemo",
              "session_id": 12,
              "statement_id": 2,
              "state": "finished",
              "livy_statement_state": "available",
              "queued_time": "2021-08-25T23:28:04.1680272Z",
              "session_start_time": null,
              "execution_start_time": "2021-08-25T23:28:04.2669656Z",
              "execution_finish_time": "2021-08-25T23:28:06.1018852Z"
            },
            "text/plain": "StatementMeta(livedemo, 12, 2, Finished, Available)"
          },
          "metadata": {}
        },
        {
          "output_type": "stream",
          "name": "stdout",
          "text": []
        }
      ],
      "execution_count": 2,
      "metadata": {
        "collapsed": true,
        "jupyter": {
          "source_hidden": false,
          "outputs_hidden": false
        },
        "nteract": {
          "transient": {
            "deleting": false
          }
        }
      }
    },
    {
      "cell_type": "markdown",
      "source": [
        "In the Cosmos DB database, the `Products` container contains very few items; it is a lookup table. As a result, we leverage the `broadcast()` function to replicate its DataFrame across all nodes in the cluster. This enables local joins. Using `broadcast()` is a powerful optimization when joining with smaller DataFrames.\r\n",
        "\r\n",
        "Besides the `broadcast()` keyword, the Apache Spark engine is performing a standard left join on the `productCode` column."
      ],
      "metadata": {
        "nteract": {
          "transient": {
            "deleting": false
          }
        }
      }
    },
    {
      "cell_type": "code",
      "source": [
        "from pyspark.sql.functions import broadcast\r\n",
        "\r\n",
        "df = df_retailsales.join(broadcast(df_products), on=['productCode'], how='left')"
      ],
      "outputs": [
        {
          "output_type": "display_data",
          "data": {
            "application/vnd.livy.statement-meta+json": {
              "spark_pool": "livedemo",
              "session_id": 12,
              "statement_id": 3,
              "state": "finished",
              "livy_statement_state": "available",
              "queued_time": "2021-08-25T23:32:52.3522458Z",
              "session_start_time": null,
              "execution_start_time": "2021-08-25T23:32:52.4774748Z",
              "execution_finish_time": "2021-08-25T23:32:52.6347991Z"
            },
            "text/plain": "StatementMeta(livedemo, 12, 3, Finished, Available)"
          },
          "metadata": {}
        },
        {
          "output_type": "stream",
          "name": "stdout",
          "text": []
        }
      ],
      "execution_count": 3,
      "metadata": {
        "collapsed": true,
        "jupyter": {
          "source_hidden": false,
          "outputs_hidden": false
        },
        "nteract": {
          "transient": {
            "deleting": false
          }
        }
      }
    },
    {
      "cell_type": "markdown",
      "source": [
        "Since we are working with DataFrames, standard manipulation is possible, like dropping Cosmos DB system-provided keys that are irrelevant to the data engineering task from the DataFrame."
      ],
      "metadata": {
        "nteract": {
          "transient": {
            "deleting": false
          }
        }
      }
    },
    {
      "cell_type": "code",
      "source": [
        "# Prior to data cleansing\r\n",
        "display(df.limit(10))"
      ],
      "outputs": [
        {
          "output_type": "display_data",
          "data": {
            "application/vnd.livy.statement-meta+json": {
              "spark_pool": "livedemo",
              "session_id": 12,
              "statement_id": 5,
              "state": "finished",
              "livy_statement_state": "available",
              "queued_time": "2021-08-25T23:39:22.2743944Z",
              "session_start_time": null,
              "execution_start_time": "2021-08-25T23:39:22.3635181Z",
              "execution_finish_time": "2021-08-25T23:39:22.872579Z"
            },
            "text/plain": "StatementMeta(livedemo, 12, 5, Finished, Available)"
          },
          "metadata": {}
        },
        {
          "output_type": "display_data",
          "data": {
            "application/vnd.synapse.widget-view+json": {
              "widget_id": "071ff296-1013-4627-b576-d79574c5df6b",
              "widget_type": "Synapse.DataFrame"
            },
            "text/plain": "SynapseWidget(Synapse.DataFrame, 071ff296-1013-4627-b576-d79574c5df6b)"
          },
          "metadata": {}
        },
        {
          "output_type": "execute_result",
          "execution_count": 5,
          "data": {},
          "metadata": {}
        }
      ],
      "execution_count": 5,
      "metadata": {
        "collapsed": false,
        "jupyter": {
          "source_hidden": false,
          "outputs_hidden": false
        },
        "nteract": {
          "transient": {
            "deleting": false
          }
        }
      }
    },
    {
      "cell_type": "code",
      "source": [
        "df = df.drop(\"_rid\", \"_ts\", \"_etag\", \"id\")\r\n",
        "\r\n",
        "# Post-data cleansing\r\n",
        "display(df.limit(10))"
      ],
      "outputs": [],
      "execution_count": null,
      "metadata": {
        "collapsed": true,
        "jupyter": {
          "source_hidden": false,
          "outputs_hidden": false
        },
        "nteract": {
          "transient": {
            "deleting": false
          }
        }
      }
    },
    {
      "cell_type": "markdown",
      "source": [
        "Besides dropping unnecessary DataFrame columns, Data Engineers also ensure that the proper data types are used."
      ],
      "metadata": {
        "nteract": {
          "transient": {
            "deleting": false
          }
        }
      }
    },
    {
      "cell_type": "code",
      "source": [
        "from pyspark.sql.types import IntegerType, DoubleType, FloatType, DateType\r\n",
        "from pyspark.sql.functions import to_date\r\n",
        "\r\n",
        "clean_df = df.withColumn(\"basePrice\", df[\"basePrice\"].cast(FloatType())) \\\r\n",
        "    .withColumn(\"quantity\", df[\"quantity\"].cast(FloatType())) \\\r\n",
        "    .withColumn(\"price\", df[\"price\"].cast(FloatType())) \\\r\n",
        "    .withColumn(\"logQuantity\", df[\"logQuantity\"].cast(FloatType())) \\\r\n",
        "    .withColumn(\"wholeSaleCost\", df[\"wholeSaleCost\"].cast(FloatType())) \\\r\n",
        "    .withColumn(\"weekStarting\", to_date(df[\"weekStarting\"], 'mm/dd/yyyy'))"
      ],
      "outputs": [
        {
          "output_type": "display_data",
          "data": {
            "application/vnd.livy.statement-meta+json": {
              "spark_pool": "livedemo",
              "session_id": 12,
              "statement_id": 6,
              "state": "finished",
              "livy_statement_state": "available",
              "queued_time": "2021-08-25T23:45:57.2027208Z",
              "session_start_time": null,
              "execution_start_time": "2021-08-25T23:45:57.315928Z",
              "execution_finish_time": "2021-08-25T23:45:57.4708571Z"
            },
            "text/plain": "StatementMeta(livedemo, 12, 6, Finished, Available)"
          },
          "metadata": {}
        },
        {
          "output_type": "stream",
          "name": "stdout",
          "text": []
        }
      ],
      "execution_count": 6,
      "metadata": {
        "collapsed": true,
        "jupyter": {
          "source_hidden": false,
          "outputs_hidden": false
        },
        "nteract": {
          "transient": {
            "deleting": false
          }
        }
      }
    },
    {
      "cell_type": "markdown",
      "source": [
        "It is also possible to create derived columns. They are based on existing data in the DataFrame. In this case, the `sales` column references the `price` and `quantity` columns in the existing DataFrame."
      ],
      "metadata": {
        "nteract": {
          "transient": {
            "deleting": false
          }
        }
      }
    },
    {
      "cell_type": "code",
      "source": [
        "feature_df = clean_df.withColumn(\"sales\", (clean_df.price * clean_df.quantity))"
      ],
      "outputs": [
        {
          "output_type": "display_data",
          "data": {
            "application/vnd.livy.statement-meta+json": {
              "spark_pool": "livedemo",
              "session_id": 12,
              "statement_id": 7,
              "state": "finished",
              "livy_statement_state": "available",
              "queued_time": "2021-08-25T23:50:10.3419164Z",
              "session_start_time": null,
              "execution_start_time": "2021-08-25T23:50:10.4498189Z",
              "execution_finish_time": "2021-08-25T23:50:10.6073482Z"
            },
            "text/plain": "StatementMeta(livedemo, 12, 7, Finished, Available)"
          },
          "metadata": {}
        },
        {
          "output_type": "stream",
          "name": "stdout",
          "text": []
        }
      ],
      "execution_count": 7,
      "metadata": {
        "collapsed": true,
        "jupyter": {
          "source_hidden": false,
          "outputs_hidden": false
        },
        "nteract": {
          "transient": {
            "deleting": false
          }
        }
      }
    },
    {
      "cell_type": "code",
      "source": [
        "feature_df.printSchema()"
      ],
      "outputs": [
        {
          "output_type": "display_data",
          "data": {
            "application/vnd.livy.statement-meta+json": {
              "spark_pool": "livedemo",
              "session_id": 12,
              "statement_id": 8,
              "state": "finished",
              "livy_statement_state": "available",
              "queued_time": "2021-08-25T23:51:04.6021786Z",
              "session_start_time": null,
              "execution_start_time": "2021-08-25T23:51:04.7141833Z",
              "execution_finish_time": "2021-08-25T23:51:04.8637118Z"
            },
            "text/plain": "StatementMeta(livedemo, 12, 8, Finished, Available)"
          },
          "metadata": {}
        },
        {
          "output_type": "stream",
          "name": "stdout",
          "text": [
            "root\n",
            " |-- productCode: string (nullable = true)\n",
            " |-- logQuantity: float (nullable = true)\n",
            " |-- quantity: float (nullable = true)\n",
            " |-- price: float (nullable = true)\n",
            " |-- advertising: long (nullable = true)\n",
            " |-- storeId: long (nullable = true)\n",
            " |-- weekStarting: date (nullable = true)\n",
            " |-- wholeSaleCost: float (nullable = true)\n",
            " |-- basePrice: float (nullable = true)\n",
            " |-- sales: float (nullable = true)"
          ]
        }
      ],
      "execution_count": 8,
      "metadata": {
        "collapsed": true,
        "jupyter": {
          "source_hidden": false,
          "outputs_hidden": false
        },
        "nteract": {
          "transient": {
            "deleting": false
          }
        }
      }
    },
    {
      "cell_type": "markdown",
      "source": [
        "Note that you can use the built-in visualization tool of Synapse Notebooks to visualize result sets. To generate your own line chart, use the following parameters:\r\n",
        "\r\n",
        "- **Chart type**: Line chart\r\n",
        "- **Key**: `weekStarting`\r\n",
        "- **Values**: `quantity`\r\n",
        "- **Series Group**: `productCode`\r\n",
        "- **Aggregation**: Sum"
      ],
      "metadata": {
        "nteract": {
          "transient": {
            "deleting": false
          }
        }
      }
    },
    {
      "cell_type": "code",
      "source": [
        "display(feature_df)"
      ],
      "outputs": [
        {
          "output_type": "display_data",
          "data": {
            "application/vnd.livy.statement-meta+json": {
              "spark_pool": "livedemo",
              "session_id": 12,
              "statement_id": 9,
              "state": "finished",
              "livy_statement_state": "available",
              "queued_time": "2021-08-25T23:51:17.6323557Z",
              "session_start_time": null,
              "execution_start_time": "2021-08-25T23:51:17.7481299Z",
              "execution_finish_time": "2021-08-25T23:51:20.8487773Z"
            },
            "text/plain": "StatementMeta(livedemo, 12, 9, Finished, Available)"
          },
          "metadata": {}
        },
        {
          "output_type": "display_data",
          "data": {
            "application/vnd.synapse.widget-view+json": {
              "widget_id": "41b4ee03-f19b-4070-a943-a2c6e003b414",
              "widget_type": "Synapse.DataFrame"
            },
            "text/plain": "SynapseWidget(Synapse.DataFrame, 41b4ee03-f19b-4070-a943-a2c6e003b414)"
          },
          "metadata": {}
        },
        {
          "output_type": "execute_result",
          "execution_count": 9,
          "data": {},
          "metadata": {}
        }
      ],
      "execution_count": 9,
      "metadata": {
        "collapsed": false,
        "jupyter": {
          "source_hidden": false,
          "outputs_hidden": false
        },
        "nteract": {
          "transient": {
            "deleting": false
          }
        }
      }
    },
    {
      "cell_type": "markdown",
      "source": [
        "As shown previously, you can write Apache Spark DataFrames as tables that can be  queried through the SQL magic. In this case, the `SurfaceSales_FeatureDF` table is present in the `default` database."
      ],
      "metadata": {
        "nteract": {
          "transient": {
            "deleting": false
          }
        }
      }
    },
    {
      "cell_type": "code",
      "source": [
        "feature_df.write.mode(\"overwrite\").saveAsTable(\"SurfaceSales_FeatureDF\")"
      ],
      "outputs": [
        {
          "output_type": "display_data",
          "data": {
            "application/vnd.livy.statement-meta+json": {
              "spark_pool": "livedemo",
              "session_id": 12,
              "statement_id": 10,
              "state": "finished",
              "livy_statement_state": "available",
              "queued_time": "2021-08-25T23:58:22.2432538Z",
              "session_start_time": null,
              "execution_start_time": "2021-08-25T23:58:22.3709299Z",
              "execution_finish_time": "2021-08-25T23:58:39.1289016Z"
            },
            "text/plain": "StatementMeta(livedemo, 12, 10, Finished, Available)"
          },
          "metadata": {}
        },
        {
          "output_type": "stream",
          "name": "stdout",
          "text": []
        }
      ],
      "execution_count": 10,
      "metadata": {
        "collapsed": true,
        "jupyter": {
          "source_hidden": false,
          "outputs_hidden": false
        },
        "nteract": {
          "transient": {
            "deleting": false
          }
        }
      }
    },
    {
      "cell_type": "code",
      "source": [
        "%%sql\r\n",
        "\r\n",
        "SELECT productCode, SUM(sales), weekStarting\r\n",
        "FROM surfacesales_featuredf\r\n",
        "GROUP BY productCode, weekStarting"
      ],
      "outputs": [
        {
          "output_type": "display_data",
          "data": {
            "application/vnd.livy.statement-meta+json": {
              "spark_pool": "livedemo",
              "session_id": 12,
              "statement_id": 11,
              "state": "finished",
              "livy_statement_state": "available",
              "queued_time": "2021-08-25T23:59:43.0312354Z",
              "session_start_time": null,
              "execution_start_time": "2021-08-25T23:59:43.163718Z",
              "execution_finish_time": "2021-08-25T23:59:47.1220422Z"
            },
            "text/plain": "StatementMeta(livedemo, 12, 11, Finished, Available)"
          },
          "metadata": {}
        },
        {
          "output_type": "execute_result",
          "execution_count": 11,
          "data": {
            "application/vnd.synapse.sparksql-result+json": {
              "schema": {
                "type": "struct",
                "fields": [
                  {
                    "name": "productCode",
                    "type": "string",
                    "nullable": true,
                    "metadata": {}
                  },
                  {
                    "name": "sum(sales)",
                    "type": "double",
                    "nullable": true,
                    "metadata": {}
                  },
                  {
                    "name": "weekStarting",
                    "type": "date",
                    "nullable": true,
                    "metadata": {}
                  }
                ]
              },
              "data": [
                [
                  "surface.go",
                  759507,
                  "2017-01-06"
                ],
                [
                  "surface.go",
                  422127,
                  "2017-01-29"
                ],
                [
                  "surface.pro7",
                  1117272,
                  "2019-01-01"
                ],
                [
                  "surface.laptop3",
                  1860542,
                  "2019-01-08"
                ],
                [
                  "surface.go",
                  13398909,
                  "2018-01-19"
                ],
                [
                  "surface.laptop3",
                  1602256,
                  "2017-01-27"
                ],
                [
                  "surface.laptop3",
                  1862885,
                  "2017-01-15"
                ],
                [
                  "surface.laptop3",
                  1604684,
                  "2019-01-23"
                ],
                [
                  "surface.laptop3",
                  13308054,
                  "2019-01-06"
                ],
                [
                  "surface.laptop3",
                  3183198,
                  "2018-01-28"
                ],
                [
                  "surface.go",
                  4865718,
                  "2018-01-24"
                ],
                [
                  "surface.pro7",
                  2498633,
                  "2017-01-28"
                ],
                [
                  "surface.pro7",
                  1990364,
                  "2018-01-26"
                ],
                [
                  "surface.go",
                  1227863,
                  "2018-01-17"
                ],
                [
                  "surface.pro7",
                  12918521,
                  "2018-01-10"
                ],
                [
                  "surface.pro7",
                  2423309,
                  "2018-01-06"
                ],
                [
                  "surface.pro7",
                  5033172,
                  "2019-01-22"
                ],
                [
                  "surface.laptop3",
                  2859113,
                  "2019-01-22"
                ],
                [
                  "surface.go",
                  9300615,
                  "2017-01-30"
                ],
                [
                  "surface.laptop3",
                  4843241,
                  "2018-01-01"
                ],
                [
                  "surface.pro7",
                  2136357,
                  "2018-01-19"
                ],
                [
                  "surface.go",
                  629675,
                  "2018-01-28"
                ],
                [
                  "surface.laptop3",
                  3563029,
                  "2019-01-18"
                ],
                [
                  "surface.laptop3",
                  4631887,
                  "2019-01-13"
                ],
                [
                  "surface.go",
                  3485248,
                  "2018-01-27"
                ],
                [
                  "surface.laptop3",
                  10694377,
                  "2018-01-26"
                ],
                [
                  "surface.laptop3",
                  1933573,
                  "2019-01-16"
                ],
                [
                  "surface.laptop3",
                  2943897,
                  "2017-01-23"
                ],
                [
                  "surface.pro7",
                  901747,
                  "2017-01-15"
                ],
                [
                  "surface.laptop3",
                  7768767,
                  "2018-01-08"
                ],
                [
                  "surface.laptop3",
                  1494401,
                  "2018-01-30"
                ],
                [
                  "surface.laptop3",
                  1889917,
                  "2017-01-10"
                ],
                [
                  "surface.laptop3",
                  7504706,
                  "2019-01-04"
                ],
                [
                  "surface.pro7",
                  1459100,
                  "2018-01-17"
                ],
                [
                  "surface.go",
                  1504937,
                  "2019-01-02"
                ],
                [
                  "surface.laptop3",
                  3049326,
                  "2018-01-25"
                ],
                [
                  "surface.go",
                  9520585,
                  "2019-01-18"
                ],
                [
                  "surface.laptop3",
                  1630162,
                  "2017-01-26"
                ],
                [
                  "surface.pro7",
                  809623,
                  "2018-01-09"
                ],
                [
                  "surface.go",
                  581841,
                  "2019-01-05"
                ],
                [
                  "surface.laptop3",
                  1693873,
                  "2017-01-31"
                ],
                [
                  "surface.pro7",
                  6215964,
                  "2017-01-12"
                ],
                [
                  "surface.go",
                  5345823,
                  "2018-01-06"
                ],
                [
                  "surface.laptop3",
                  1362403,
                  "2019-01-15"
                ],
                [
                  "surface.pro7",
                  1850103,
                  "2017-01-23"
                ],
                [
                  "surface.pro7",
                  6565408,
                  "2017-01-16"
                ],
                [
                  "surface.pro7",
                  1956028,
                  "2019-01-24"
                ],
                [
                  "surface.laptop3",
                  2398945,
                  "2018-01-14"
                ],
                [
                  "surface.pro7",
                  1747419,
                  "2019-01-05"
                ],
                [
                  "surface.pro7",
                  3237142,
                  "2018-01-14"
                ],
                [
                  "surface.laptop3",
                  1498669,
                  "2019-01-01"
                ],
                [
                  "surface.laptop3",
                  1533931,
                  "2018-01-21"
                ],
                [
                  "surface.pro7",
                  740873,
                  "2018-01-02"
                ],
                [
                  "surface.pro7",
                  5165540,
                  "2017-01-02"
                ],
                [
                  "surface.go",
                  1811930,
                  "2018-01-26"
                ],
                [
                  "surface.go",
                  379540,
                  "2017-01-12"
                ],
                [
                  "surface.pro7",
                  6164718,
                  "2017-01-13"
                ],
                [
                  "surface.pro7",
                  2708267,
                  "2019-01-17"
                ],
                [
                  "surface.pro7",
                  2898330,
                  "2019-01-11"
                ],
                [
                  "surface.laptop3",
                  1745038,
                  "2017-01-24"
                ],
                [
                  "surface.go",
                  2133611,
                  "2019-01-22"
                ],
                [
                  "surface.laptop3",
                  1401435,
                  "2018-01-24"
                ],
                [
                  "surface.laptop3",
                  1433049,
                  "2018-01-16"
                ],
                [
                  "surface.laptop3",
                  11089642,
                  "2019-01-14"
                ],
                [
                  "surface.go",
                  2220676,
                  "2019-01-24"
                ],
                [
                  "surface.pro7",
                  4530116,
                  "2018-01-29"
                ],
                [
                  "surface.go",
                  2785761,
                  "2017-01-16"
                ],
                [
                  "surface.pro7",
                  4988218,
                  "2018-01-13"
                ],
                [
                  "surface.laptop3",
                  11986334,
                  "2019-01-28"
                ],
                [
                  "surface.go",
                  8956072,
                  "2018-01-01"
                ],
                [
                  "surface.pro7",
                  849732,
                  "2018-01-30"
                ],
                [
                  "surface.pro7",
                  2448163,
                  "2019-01-29"
                ],
                [
                  "surface.pro7",
                  978722,
                  "2019-01-13"
                ],
                [
                  "surface.go",
                  2800950,
                  "2019-01-28"
                ],
                [
                  "surface.pro7",
                  27451848,
                  "2018-01-18"
                ],
                [
                  "surface.go",
                  2461888,
                  "2018-01-25"
                ],
                [
                  "surface.pro7",
                  10870190,
                  "2019-01-03"
                ],
                [
                  "surface.pro7",
                  6730458,
                  "2019-01-04"
                ],
                [
                  "surface.go",
                  7373242,
                  "2017-01-14"
                ],
                [
                  "surface.go",
                  1977094,
                  "2018-01-15"
                ],
                [
                  "surface.pro7",
                  856304,
                  "2017-01-29"
                ],
                [
                  "surface.go",
                  9014687,
                  "2019-01-07"
                ],
                [
                  "surface.go",
                  881664,
                  "2017-01-27"
                ],
                [
                  "surface.go",
                  505327,
                  "2019-01-10"
                ],
                [
                  "surface.go",
                  1862330,
                  "2018-01-14"
                ],
                [
                  "surface.pro7",
                  1054321,
                  "2019-01-31"
                ],
                [
                  "surface.pro7",
                  992589,
                  "2017-01-26"
                ],
                [
                  "surface.laptop3",
                  4475150,
                  "2019-01-11"
                ],
                [
                  "surface.go",
                  1022428,
                  "2019-01-19"
                ],
                [
                  "surface.laptop3",
                  1736512,
                  "2019-01-17"
                ],
                [
                  "surface.go",
                  1862834,
                  "2019-01-13"
                ],
                [
                  "surface.laptop3",
                  1541403,
                  "2017-01-03"
                ],
                [
                  "surface.laptop3",
                  2206276,
                  "2019-01-12"
                ],
                [
                  "surface.laptop3",
                  1571130,
                  "2017-01-19"
                ],
                [
                  "surface.go",
                  1450731,
                  "2019-01-09"
                ],
                [
                  "surface.pro7",
                  880550,
                  "2019-01-08"
                ],
                [
                  "surface.go",
                  1121304,
                  "2019-01-08"
                ],
                [
                  "surface.pro7",
                  854213,
                  "2019-01-02"
                ],
                [
                  "surface.laptop3",
                  1372525,
                  "2019-01-24"
                ],
                [
                  "surface.go",
                  2224913,
                  "2018-01-18"
                ],
                [
                  "surface.go",
                  5431040,
                  "2019-01-26"
                ],
                [
                  "surface.go",
                  4965665,
                  "2017-01-31"
                ],
                [
                  "surface.laptop3",
                  3631708,
                  "2018-01-04"
                ],
                [
                  "surface.pro7",
                  923634,
                  "2017-01-20"
                ],
                [
                  "surface.laptop3",
                  4396959,
                  "2019-01-03"
                ],
                [
                  "surface.pro7",
                  5086150,
                  "2018-01-27"
                ],
                [
                  "surface.go",
                  1501334,
                  "2018-01-21"
                ],
                [
                  "surface.pro7",
                  948415,
                  "2019-01-27"
                ],
                [
                  "surface.pro7",
                  2565215,
                  "2019-01-07"
                ],
                [
                  "surface.go",
                  1026928,
                  "2017-01-03"
                ],
                [
                  "surface.go",
                  4108064,
                  "2019-01-06"
                ],
                [
                  "surface.go",
                  5431335,
                  "2019-01-01"
                ],
                [
                  "surface.laptop3",
                  5405032,
                  "2019-01-02"
                ],
                [
                  "surface.go",
                  285578,
                  "2018-01-10"
                ],
                [
                  "surface.pro7",
                  3090307,
                  "2018-01-05"
                ],
                [
                  "surface.laptop3",
                  3909350,
                  "2017-01-28"
                ],
                [
                  "surface.pro7",
                  1164928,
                  "2019-01-09"
                ],
                [
                  "surface.go",
                  444538,
                  "2017-01-17"
                ],
                [
                  "surface.laptop3",
                  3579495,
                  "2017-01-07"
                ],
                [
                  "surface.pro7",
                  10100940,
                  "2018-01-23"
                ],
                [
                  "surface.laptop3",
                  1715793,
                  "2017-01-12"
                ],
                [
                  "surface.pro7",
                  6421889,
                  "2017-01-07"
                ],
                [
                  "surface.go",
                  599500,
                  "2018-01-07"
                ],
                [
                  "surface.laptop3",
                  3382632,
                  "2019-01-25"
                ],
                [
                  "surface.pro7",
                  2613314,
                  "2019-01-18"
                ],
                [
                  "surface.pro7",
                  2521828,
                  "2018-01-11"
                ],
                [
                  "surface.pro7",
                  3196518,
                  "2017-01-21"
                ],
                [
                  "surface.pro7",
                  5224352,
                  "2018-01-15"
                ],
                [
                  "surface.laptop3",
                  4525824,
                  "2019-01-05"
                ],
                [
                  "surface.laptop3",
                  4158759,
                  "2018-01-02"
                ],
                [
                  "surface.pro7",
                  5784134,
                  "2017-01-22"
                ],
                [
                  "surface.pro7",
                  6756050,
                  "2017-01-17"
                ],
                [
                  "surface.laptop3",
                  2167062,
                  "2019-01-29"
                ],
                [
                  "surface.go",
                  2522217,
                  "2017-01-23"
                ],
                [
                  "surface.laptop3",
                  3229571,
                  "2018-01-03"
                ],
                [
                  "surface.pro7",
                  3679345,
                  "2018-01-04"
                ],
                [
                  "surface.pro7",
                  2147973,
                  "2018-01-20"
                ],
                [
                  "surface.laptop3",
                  2745492,
                  "2017-01-05"
                ],
                [
                  "surface.go",
                  442971,
                  "2017-01-20"
                ],
                [
                  "surface.laptop3",
                  4511506,
                  "2018-01-19"
                ],
                [
                  "surface.pro7",
                  868370,
                  "2017-01-24"
                ],
                [
                  "surface.go",
                  9008554,
                  "2017-01-19"
                ],
                [
                  "surface.go",
                  946870,
                  "2019-01-27"
                ],
                [
                  "surface.go",
                  6060794,
                  "2019-01-21"
                ],
                [
                  "surface.go",
                  2717486,
                  "2019-01-03"
                ],
                [
                  "surface.laptop3",
                  2874468,
                  "2019-01-26"
                ],
                [
                  "surface.laptop3",
                  9186009,
                  "2018-01-05"
                ],
                [
                  "surface.go",
                  3777855,
                  "2018-01-16"
                ],
                [
                  "surface.go",
                  925975,
                  "2019-01-15"
                ],
                [
                  "surface.laptop3",
                  4701306,
                  "2018-01-11"
                ],
                [
                  "surface.go",
                  921622,
                  "2019-01-17"
                ],
                [
                  "surface.pro7",
                  4453928,
                  "2019-01-12"
                ],
                [
                  "surface.pro7",
                  907137,
                  "2018-01-07"
                ],
                [
                  "surface.pro7",
                  10110737,
                  "2018-01-01"
                ],
                [
                  "surface.laptop3",
                  1525990,
                  "2017-01-09"
                ],
                [
                  "surface.pro7",
                  1945171,
                  "2017-01-27"
                ],
                [
                  "surface.laptop3",
                  1513477,
                  "2019-01-31"
                ],
                [
                  "surface.go",
                  357291,
                  "2017-01-24"
                ],
                [
                  "surface.laptop3",
                  1525957,
                  "2018-01-10"
                ],
                [
                  "surface.go",
                  433368,
                  "2017-01-22"
                ],
                [
                  "surface.go",
                  3636152,
                  "2019-01-14"
                ],
                [
                  "surface.go",
                  1053301,
                  "2019-01-29"
                ],
                [
                  "surface.laptop3",
                  12063203,
                  "2018-01-22"
                ],
                [
                  "surface.go",
                  2814288,
                  "2018-01-20"
                ],
                [
                  "surface.go",
                  9320757,
                  "2019-01-30"
                ],
                [
                  "surface.go",
                  4636121,
                  "2018-01-13"
                ],
                [
                  "surface.laptop3",
                  3468874,
                  "2018-01-18"
                ],
                [
                  "surface.pro7",
                  7901823,
                  "2018-01-25"
                ],
                [
                  "surface.go",
                  1654465,
                  "2018-01-30"
                ],
                [
                  "surface.laptop3",
                  4066353,
                  "2018-01-17"
                ],
                [
                  "surface.pro7",
                  4665089,
                  "2019-01-14"
                ],
                [
                  "surface.laptop3",
                  1791447,
                  "2019-01-19"
                ],
                [
                  "surface.go",
                  561835,
                  "2017-01-10"
                ],
                [
                  "surface.go",
                  16561788,
                  "2018-01-11"
                ],
                [
                  "surface.pro7",
                  2074095,
                  "2018-01-12"
                ],
                [
                  "surface.go",
                  4579200,
                  "2018-01-12"
                ],
                [
                  "surface.go",
                  2125226,
                  "2018-01-09"
                ],
                [
                  "surface.go",
                  2114167,
                  "2019-01-04"
                ],
                [
                  "surface.go",
                  1379911,
                  "2017-01-05"
                ],
                [
                  "surface.laptop3",
                  3547601,
                  "2018-01-13"
                ],
                [
                  "surface.go",
                  925602,
                  "2019-01-20"
                ],
                [
                  "surface.laptop3",
                  2145372,
                  "2019-01-10"
                ],
                [
                  "surface.pro7",
                  1516648,
                  "2019-01-16"
                ],
                [
                  "surface.laptop3",
                  1893865,
                  "2019-01-09"
                ],
                [
                  "surface.go",
                  11017659,
                  "2018-01-08"
                ],
                [
                  "surface.go",
                  5760519,
                  "2018-01-29"
                ],
                [
                  "surface.pro7",
                  1289600,
                  "2019-01-19"
                ],
                [
                  "surface.go",
                  3655490,
                  "2017-01-07"
                ],
                [
                  "surface.laptop3",
                  2498916,
                  "2017-01-16"
                ],
                [
                  "surface.pro7",
                  2476045,
                  "2018-01-16"
                ],
                [
                  "surface.pro7",
                  3194104,
                  "2018-01-08"
                ],
                [
                  "surface.laptop3",
                  1523725,
                  "2017-01-02"
                ],
                [
                  "surface.pro7",
                  3875624,
                  "2017-01-03"
                ],
                [
                  "surface.laptop3",
                  1995156,
                  "2018-01-09"
                ],
                [
                  "surface.pro7",
                  7057528,
                  "2018-01-28"
                ],
                [
                  "surface.go",
                  2436101,
                  "2018-01-04"
                ],
                [
                  "surface.laptop3",
                  1522057,
                  "2018-01-31"
                ],
                [
                  "surface.laptop3",
                  1440015,
                  "2017-01-17"
                ],
                [
                  "surface.pro7",
                  1405420,
                  "2018-01-31"
                ],
                [
                  "surface.pro7",
                  868212,
                  "2017-01-09"
                ],
                [
                  "surface.pro7",
                  20396995,
                  "2019-01-21"
                ],
                [
                  "surface.laptop3",
                  5007259,
                  "2019-01-07"
                ],
                [
                  "surface.pro7",
                  3432120,
                  "2018-01-03"
                ],
                [
                  "surface.laptop3",
                  1502405,
                  "2018-01-23"
                ],
                [
                  "surface.go",
                  3187816,
                  "2019-01-25"
                ],
                [
                  "surface.pro7",
                  947189,
                  "2019-01-30"
                ],
                [
                  "surface.laptop3",
                  7127957,
                  "2017-01-21"
                ],
                [
                  "surface.pro7",
                  982505,
                  "2019-01-10"
                ],
                [
                  "surface.go",
                  2546202,
                  "2017-01-09"
                ],
                [
                  "surface.pro7",
                  1177091,
                  "2017-01-19"
                ],
                [
                  "surface.laptop3",
                  1862064,
                  "2019-01-30"
                ],
                [
                  "surface.pro7",
                  1145616,
                  "2017-01-31"
                ],
                [
                  "surface.pro7",
                  4793562,
                  "2019-01-23"
                ],
                [
                  "surface.go",
                  2355732,
                  "2019-01-23"
                ],
                [
                  "surface.laptop3",
                  1629126,
                  "2017-01-20"
                ],
                [
                  "surface.laptop3",
                  9824783,
                  "2018-01-12"
                ],
                [
                  "surface.go",
                  2608114,
                  "2018-01-05"
                ],
                [
                  "surface.laptop3",
                  5666636,
                  "2018-01-15"
                ],
                [
                  "surface.go",
                  604075,
                  "2019-01-12"
                ],
                [
                  "surface.laptop3",
                  3830658,
                  "2019-01-21"
                ],
                [
                  "surface.go",
                  1439427,
                  "2018-01-31"
                ],
                [
                  "surface.laptop3",
                  1300298,
                  "2017-01-22"
                ],
                [
                  "surface.go",
                  1215926,
                  "2019-01-16"
                ],
                [
                  "surface.laptop3",
                  9129715,
                  "2018-01-06"
                ],
                [
                  "surface.go",
                  350754,
                  "2017-01-26"
                ],
                [
                  "surface.go",
                  556127,
                  "2018-01-03"
                ],
                [
                  "surface.pro7",
                  2689101,
                  "2017-01-30"
                ],
                [
                  "surface.pro7",
                  740074,
                  "2019-01-06"
                ],
                [
                  "surface.go",
                  3278103,
                  "2017-01-02"
                ],
                [
                  "surface.laptop3",
                  1641961,
                  "2019-01-27"
                ],
                [
                  "surface.laptop3",
                  8684758,
                  "2019-01-20"
                ],
                [
                  "surface.laptop3",
                  12585598,
                  "2018-01-29"
                ],
                [
                  "surface.pro7",
                  870859,
                  "2019-01-20"
                ],
                [
                  "surface.laptop3",
                  1420286,
                  "2017-01-13"
                ],
                [
                  "surface.laptop3",
                  1681817,
                  "2017-01-06"
                ],
                [
                  "surface.pro7",
                  1116302,
                  "2018-01-24"
                ],
                [
                  "surface.go",
                  7119387,
                  "2018-01-02"
                ],
                [
                  "surface.go",
                  5955647,
                  "2017-01-28"
                ],
                [
                  "surface.go",
                  421682,
                  "2017-01-13"
                ],
                [
                  "surface.pro7",
                  2596965,
                  "2018-01-21"
                ],
                [
                  "surface.laptop3",
                  7736523,
                  "2018-01-07"
                ],
                [
                  "surface.go",
                  2337806,
                  "2017-01-21"
                ],
                [
                  "surface.pro7",
                  885333,
                  "2017-01-10"
                ],
                [
                  "surface.pro7",
                  1110951,
                  "2017-01-06"
                ],
                [
                  "surface.laptop3",
                  1824557,
                  "2017-01-29"
                ],
                [
                  "surface.laptop3",
                  2504859,
                  "2017-01-30"
                ],
                [
                  "surface.go",
                  2967578,
                  "2019-01-11"
                ],
                [
                  "surface.go",
                  2554776,
                  "2018-01-22"
                ],
                [
                  "surface.pro7",
                  6897978,
                  "2017-01-14"
                ],
                [
                  "surface.laptop3",
                  3454516,
                  "2017-01-14"
                ],
                [
                  "surface.go",
                  944978,
                  "2018-01-23"
                ],
                [
                  "surface.pro7",
                  15587974,
                  "2018-01-22"
                ],
                [
                  "surface.go",
                  871797,
                  "2017-01-15"
                ],
                [
                  "surface.pro7",
                  9168141,
                  "2019-01-15"
                ],
                [
                  "surface.pro7",
                  962856,
                  "2019-01-26"
                ],
                [
                  "surface.laptop3",
                  4544605,
                  "2018-01-27"
                ],
                [
                  "surface.pro7",
                  3695073,
                  "2019-01-28"
                ],
                [
                  "surface.laptop3",
                  3766150,
                  "2018-01-20"
                ],
                [
                  "surface.pro7",
                  11974947,
                  "2019-01-25"
                ],
                [
                  "surface.pro7",
                  2309652,
                  "2017-01-05"
                ],
                [
                  "surface.go",
                  7668343,
                  "2019-01-31"
                ]
              ]
            },
            "text/plain": "<Spark SQL result set with 261 rows and 3 fields>"
          },
          "metadata": {}
        }
      ],
      "execution_count": 11,
      "metadata": {
        "collapsed": false,
        "jupyter": {
          "source_hidden": false,
          "outputs_hidden": false
        },
        "nteract": {
          "transient": {
            "deleting": false
          }
        },
        "microsoft": {
          "language": "sparksql"
        }
      }
    },
    {
      "cell_type": "markdown",
      "source": [
        "With Synapse Link, you do not need to first write data from an operational store to a file system, and then query it with Apache Spark. The integration is natively available to Apache Spark pools. "
      ],
      "metadata": {
        "nteract": {
          "transient": {
            "deleting": false
          }
        }
      }
    }
  ],
  "metadata": {
    "language_info": {
      "name": "python"
    },
    "kernelspec": {
      "name": "synapse_pyspark",
      "language": "Python",
      "display_name": "Synapse PySpark"
    },
    "kernel_info": {
      "name": "synapse_pyspark"
    },
    "save_output": false,
    "synapse_widget": {
      "version": "0.1",
      "state": {
        "071ff296-1013-4627-b576-d79574c5df6b": {
          "type": "Synapse.DataFrame",
          "sync_state": {
            "table": {
              "rows": [
                {
                  "0": "surface.pro7",
                  "1": "8.129174997",
                  "2": "33",
                  "3": "317",
                  "4": "0",
                  "5": "128",
                  "6": "8/24/2017",
                  "7": "400.83",
                  "8": "899.99"
                },
                {
                  "0": "surface.go",
                  "1": "9.041685006",
                  "2": "84",
                  "3": "139",
                  "4": "0",
                  "5": "117",
                  "6": "9/6/2018",
                  "7": "220.55",
                  "8": "499.99"
                },
                {
                  "0": "surface.go",
                  "1": "8.565602331",
                  "2": "52",
                  "3": "179",
                  "4": "0",
                  "5": "54",
                  "6": "1/17/2019",
                  "7": "220.55",
                  "8": "499.99"
                },
                {
                  "0": "surface.laptop3",
                  "1": "10.4559924",
                  "2": "347",
                  "3": "229",
                  "4": "1",
                  "5": "112",
                  "6": "5/17/2018",
                  "7": "623.15",
                  "8": "1199.99"
                },
                {
                  "0": "surface.go",
                  "1": "9.056722883",
                  "2": "85",
                  "3": "139",
                  "4": "0",
                  "5": "107",
                  "6": "9/6/2018",
                  "7": "220.55",
                  "8": "499.99"
                },
                {
                  "0": "surface.pro7",
                  "1": "8.803273983",
                  "2": "66",
                  "3": "229",
                  "4": "0",
                  "5": "70",
                  "6": "7/18/2019",
                  "7": "400.83",
                  "8": "899.99"
                },
                {
                  "0": "surface.go",
                  "1": "9.17616292",
                  "2": "96",
                  "3": "199",
                  "4": "1",
                  "5": "32",
                  "6": "8/8/2019",
                  "7": "220.55",
                  "8": "499.99"
                },
                {
                  "0": "surface.pro7",
                  "1": "9.55251063",
                  "2": "140",
                  "3": "199",
                  "4": "0",
                  "5": "76",
                  "6": "3/21/2019",
                  "7": "400.83",
                  "8": "899.99"
                },
                {
                  "0": "surface.pro7",
                  "1": "11.0716259",
                  "2": "643",
                  "3": "219",
                  "4": "1",
                  "5": "95",
                  "6": "10/3/2019",
                  "7": "400.83",
                  "8": "899.99"
                },
                {
                  "0": "surface.pro7",
                  "1": "9.264828557",
                  "2": "105",
                  "3": "217",
                  "4": "0",
                  "5": "119",
                  "6": "3/15/2018",
                  "7": "400.83",
                  "8": "899.99"
                }
              ],
              "schema": [
                {
                  "key": "0",
                  "name": "productCode",
                  "type": "string"
                },
                {
                  "key": "1",
                  "name": "logQuantity",
                  "type": "double"
                },
                {
                  "key": "2",
                  "name": "quantity",
                  "type": "bigint"
                },
                {
                  "key": "3",
                  "name": "price",
                  "type": "bigint"
                },
                {
                  "key": "4",
                  "name": "advertising",
                  "type": "bigint"
                },
                {
                  "key": "5",
                  "name": "storeId",
                  "type": "bigint"
                },
                {
                  "key": "6",
                  "name": "weekStarting",
                  "type": "string"
                },
                {
                  "key": "7",
                  "name": "wholeSaleCost",
                  "type": "double"
                },
                {
                  "key": "8",
                  "name": "basePrice",
                  "type": "double"
                }
              ]
            },
            "isSummary": false,
            "language": "scala"
          },
          "persist_state": {
            "view": {
              "type": "details",
              "tableOptions": {},
              "chartOptions": {
                "chartType": "bar",
                "aggregationType": "sum",
                "categoryFieldKeys": [
                  "0"
                ],
                "seriesFieldKeys": [
                  "1"
                ],
                "isStacked": false
              }
            }
          }
        },
        "41b4ee03-f19b-4070-a943-a2c6e003b414": {
          "type": "Synapse.DataFrame",
          "sync_state": {
            "table": {
              "rows": [
                {
                  "0": "surface.pro7",
                  "1": "8.129175",
                  "2": "33.0",
                  "3": "317.0",
                  "4": "0",
                  "5": "128",
                  "6": "2017-01-24",
                  "7": "400.83",
                  "8": "899.99",
                  "9": "10461.0"
                },
                {
                  "0": "surface.go",
                  "1": "9.041685",
                  "2": "84.0",
                  "3": "139.0",
                  "4": "0",
                  "5": "117",
                  "6": "2018-01-06",
                  "7": "220.55",
                  "8": "499.99",
                  "9": "11676.0"
                },
                {
                  "0": "surface.go",
                  "1": "8.565602",
                  "2": "52.0",
                  "3": "179.0",
                  "4": "0",
                  "5": "54",
                  "6": "2019-01-17",
                  "7": "220.55",
                  "8": "499.99",
                  "9": "9308.0"
                },
                {
                  "0": "surface.laptop3",
                  "1": "10.455993",
                  "2": "347.0",
                  "3": "229.0",
                  "4": "1",
                  "5": "112",
                  "6": "2018-01-17",
                  "7": "623.15",
                  "8": "1199.99",
                  "9": "79463.0"
                },
                {
                  "0": "surface.go",
                  "1": "9.056723",
                  "2": "85.0",
                  "3": "139.0",
                  "4": "0",
                  "5": "107",
                  "6": "2018-01-06",
                  "7": "220.55",
                  "8": "499.99",
                  "9": "11815.0"
                },
                {
                  "0": "surface.pro7",
                  "1": "8.803274",
                  "2": "66.0",
                  "3": "229.0",
                  "4": "0",
                  "5": "70",
                  "6": "2019-01-18",
                  "7": "400.83",
                  "8": "899.99",
                  "9": "15114.0"
                },
                {
                  "0": "surface.go",
                  "1": "9.176163",
                  "2": "96.0",
                  "3": "199.0",
                  "4": "1",
                  "5": "32",
                  "6": "2019-01-08",
                  "7": "220.55",
                  "8": "499.99",
                  "9": "19104.0"
                },
                {
                  "0": "surface.pro7",
                  "1": "9.55251",
                  "2": "140.0",
                  "3": "199.0",
                  "4": "0",
                  "5": "76",
                  "6": "2019-01-21",
                  "7": "400.83",
                  "8": "899.99",
                  "9": "27860.0"
                },
                {
                  "0": "surface.pro7",
                  "1": "11.071626",
                  "2": "643.0",
                  "3": "219.0",
                  "4": "1",
                  "5": "95",
                  "6": "2019-01-03",
                  "7": "400.83",
                  "8": "899.99",
                  "9": "140817.0"
                },
                {
                  "0": "surface.pro7",
                  "1": "9.264829",
                  "2": "105.0",
                  "3": "217.0",
                  "4": "0",
                  "5": "119",
                  "6": "2018-01-15",
                  "7": "400.83",
                  "8": "899.99",
                  "9": "22785.0"
                },
                {
                  "0": "surface.pro7",
                  "1": "8.929567",
                  "2": "75.0",
                  "3": "225.0",
                  "4": "0",
                  "5": "80",
                  "6": "2019-01-09",
                  "7": "400.83",
                  "8": "899.99",
                  "9": "16875.0"
                },
                {
                  "0": "surface.laptop3",
                  "1": "6.9920964",
                  "2": "10.0",
                  "3": "315.0",
                  "4": "0",
                  "5": "97",
                  "6": "2018-01-13",
                  "7": "623.15",
                  "8": "1199.99",
                  "9": "3150.0"
                },
                {
                  "0": "surface.laptop3",
                  "1": "9.660141",
                  "2": "156.0",
                  "3": "366.0",
                  "4": "0",
                  "5": "113",
                  "6": "2017-01-31",
                  "7": "623.15",
                  "8": "1199.99",
                  "9": "57096.0"
                },
                {
                  "0": "surface.laptop3",
                  "1": "8.754003",
                  "2": "63.0",
                  "3": "273.0",
                  "4": "0",
                  "5": "70",
                  "6": "2018-01-27",
                  "7": "623.15",
                  "8": "1199.99",
                  "9": "17199.0"
                },
                {
                  "0": "surface.pro7",
                  "1": "8.54091",
                  "2": "51.0",
                  "3": "317.0",
                  "4": "0",
                  "5": "52",
                  "6": "2017-01-15",
                  "7": "400.83",
                  "8": "899.99",
                  "9": "16167.0"
                },
                {
                  "0": "surface.laptop3",
                  "1": "8.733594",
                  "2": "62.0",
                  "3": "339.0",
                  "4": "0",
                  "5": "74",
                  "6": "2018-01-15",
                  "7": "623.15",
                  "8": "1199.99",
                  "9": "21018.0"
                },
                {
                  "0": "surface.pro7",
                  "1": "7.943073",
                  "2": "28.0",
                  "3": "226.0",
                  "4": "0",
                  "5": "91",
                  "6": "2018-01-13",
                  "7": "400.83",
                  "8": "899.99",
                  "9": "6328.0"
                },
                {
                  "0": "surface.pro7",
                  "1": "9.692272",
                  "2": "161.0",
                  "3": "149.0",
                  "4": "0",
                  "5": "90",
                  "6": "2018-01-01",
                  "7": "400.83",
                  "8": "899.99",
                  "9": "23989.0"
                },
                {
                  "0": "surface.pro7",
                  "1": "8.859364",
                  "2": "70.0",
                  "3": "169.0",
                  "4": "0",
                  "5": "45",
                  "6": "2018-01-05",
                  "7": "400.83",
                  "8": "899.99",
                  "9": "11830.0"
                },
                {
                  "0": "surface.laptop3",
                  "1": "9.82531",
                  "2": "184.0",
                  "3": "239.0",
                  "4": "0",
                  "5": "114",
                  "6": "2017-01-21",
                  "7": "623.15",
                  "8": "1199.99",
                  "9": "43976.0"
                },
                {
                  "0": "surface.laptop3",
                  "1": "8.803274",
                  "2": "66.0",
                  "3": "299.0",
                  "4": "0",
                  "5": "116",
                  "6": "2019-01-31",
                  "7": "623.15",
                  "8": "1199.99",
                  "9": "19734.0"
                },
                {
                  "0": "surface.go",
                  "1": "8.37839",
                  "2": "43.0",
                  "3": "189.0",
                  "4": "0",
                  "5": "49",
                  "6": "2018-01-26",
                  "7": "220.55",
                  "8": "499.99",
                  "9": "8127.0"
                },
                {
                  "0": "surface.pro7",
                  "1": "10.367473",
                  "2": "318.0",
                  "3": "199.0",
                  "4": "1",
                  "5": "119",
                  "6": "2017-01-12",
                  "7": "400.83",
                  "8": "899.99",
                  "9": "63282.0"
                },
                {
                  "0": "surface.laptop3",
                  "1": "8.774004",
                  "2": "64.0",
                  "3": "319.0",
                  "4": "0",
                  "5": "68",
                  "6": "2019-01-16",
                  "7": "623.15",
                  "8": "1199.99",
                  "9": "20416.0"
                },
                {
                  "0": "surface.go",
                  "1": "8.680672",
                  "2": "58.0",
                  "3": "158.0",
                  "4": "1",
                  "5": "48",
                  "6": "2018-01-08",
                  "7": "220.55",
                  "8": "499.99",
                  "9": "9164.0"
                },
                {
                  "0": "surface.pro7",
                  "1": "11.434748",
                  "2": "924.0",
                  "3": "199.0",
                  "4": "1",
                  "5": "102",
                  "6": "2019-01-15",
                  "7": "400.83",
                  "8": "899.99",
                  "9": "183876.0"
                },
                {
                  "0": "surface.pro7",
                  "1": "9.753594",
                  "2": "172.0",
                  "3": "249.0",
                  "4": "1",
                  "5": "111",
                  "6": "2019-01-24",
                  "7": "400.83",
                  "8": "899.99",
                  "9": "42828.0"
                },
                {
                  "0": "surface.go",
                  "1": "9.093357",
                  "2": "88.0",
                  "3": "158.0",
                  "4": "1",
                  "5": "83",
                  "6": "2018-01-20",
                  "7": "220.55",
                  "8": "499.99",
                  "9": "13904.0"
                },
                {
                  "0": "surface.pro7",
                  "1": "9.761002",
                  "2": "173.0",
                  "3": "169.0",
                  "4": "0",
                  "5": "68",
                  "6": "2018-01-05",
                  "7": "400.83",
                  "8": "899.99",
                  "9": "29237.0"
                },
                {
                  "0": "surface.go",
                  "1": "9.329367",
                  "2": "112.0",
                  "3": "189.0",
                  "4": "0",
                  "5": "132",
                  "6": "2018-01-22",
                  "7": "220.55",
                  "8": "499.99",
                  "9": "21168.0"
                },
                {
                  "0": "surface.laptop3",
                  "1": "9.149316",
                  "2": "94.0",
                  "3": "319.0",
                  "4": "0",
                  "5": "72",
                  "6": "2019-01-09",
                  "7": "623.15",
                  "8": "1199.99",
                  "9": "29986.0"
                },
                {
                  "0": "surface.pro7",
                  "1": "7.5600805",
                  "2": "19.0",
                  "3": "269.0",
                  "4": "0",
                  "5": "9",
                  "6": "2019-01-13",
                  "7": "400.83",
                  "8": "899.99",
                  "9": "5111.0"
                },
                {
                  "0": "surface.go",
                  "1": "7.6852436",
                  "2": "21.0",
                  "3": "209.0",
                  "4": "0",
                  "5": "109",
                  "6": "2019-01-16",
                  "7": "220.55",
                  "8": "499.99",
                  "9": "4389.0"
                },
                {
                  "0": "surface.pro7",
                  "1": "8.070906",
                  "2": "32.0",
                  "3": "286.0",
                  "4": "0",
                  "5": "71",
                  "6": "2019-01-01",
                  "7": "400.83",
                  "8": "899.99",
                  "9": "9152.0"
                },
                {
                  "0": "surface.laptop3",
                  "1": "9.885731",
                  "2": "196.0",
                  "3": "319.0",
                  "4": "0",
                  "5": "52",
                  "6": "2019-01-28",
                  "7": "623.15",
                  "8": "1199.99",
                  "9": "62524.0"
                },
                {
                  "0": "surface.go",
                  "1": "10.686841",
                  "2": "437.0",
                  "3": "139.0",
                  "4": "1",
                  "5": "51",
                  "6": "2017-01-14",
                  "7": "220.55",
                  "8": "499.99",
                  "9": "60743.0"
                },
                {
                  "0": "surface.laptop3",
                  "1": "9.849242",
                  "2": "189.0",
                  "3": "219.0",
                  "4": "0",
                  "5": "114",
                  "6": "2018-01-02",
                  "7": "623.15",
                  "8": "1199.99",
                  "9": "41391.0"
                },
                {
                  "0": "surface.pro7",
                  "1": "10.465158",
                  "2": "350.0",
                  "3": "199.0",
                  "4": "1",
                  "5": "121",
                  "6": "2017-01-22",
                  "7": "400.83",
                  "8": "899.99",
                  "9": "69650.0"
                },
                {
                  "0": "surface.pro7",
                  "1": "9.176163",
                  "2": "96.0",
                  "3": "317.0",
                  "4": "0",
                  "5": "62",
                  "6": "2017-01-05",
                  "7": "400.83",
                  "8": "899.99",
                  "9": "30432.0"
                },
                {
                  "0": "surface.pro7",
                  "1": "7.920083",
                  "2": "27.0",
                  "3": "262.0",
                  "4": "0",
                  "5": "103",
                  "6": "2017-01-20",
                  "7": "400.83",
                  "8": "899.99",
                  "9": "7074.0"
                },
                {
                  "0": "surface.go",
                  "1": "9.885731",
                  "2": "196.0",
                  "3": "139.0",
                  "4": "1",
                  "5": "48",
                  "6": "2017-01-14",
                  "7": "220.55",
                  "8": "499.99",
                  "9": "27244.0"
                },
                {
                  "0": "surface.go",
                  "1": "8.502688",
                  "2": "49.0",
                  "3": "169.0",
                  "4": "0",
                  "5": "132",
                  "6": "2018-01-28",
                  "7": "220.55",
                  "8": "499.99",
                  "9": "8281.0"
                },
                {
                  "0": "surface.go",
                  "1": "8.286017",
                  "2": "39.0",
                  "3": "229.0",
                  "4": "0",
                  "5": "78",
                  "6": "2017-01-06",
                  "7": "220.55",
                  "8": "499.99",
                  "9": "8931.0"
                },
                {
                  "0": "surface.go",
                  "1": "8.658692",
                  "2": "57.0",
                  "3": "158.0",
                  "4": "0",
                  "5": "95",
                  "6": "2018-01-15",
                  "7": "220.55",
                  "8": "499.99",
                  "9": "9006.0"
                },
                {
                  "0": "surface.laptop3",
                  "1": "8.702178",
                  "2": "60.0",
                  "3": "366.0",
                  "4": "0",
                  "5": "118",
                  "6": "2017-01-06",
                  "7": "623.15",
                  "8": "1199.99",
                  "9": "21960.0"
                },
                {
                  "0": "surface.go",
                  "1": "8.449343",
                  "2": "46.0",
                  "3": "209.0",
                  "4": "0",
                  "5": "98",
                  "6": "2017-01-24",
                  "7": "220.55",
                  "8": "499.99",
                  "9": "9614.0"
                },
                {
                  "0": "surface.pro7",
                  "1": "9.026418",
                  "2": "83.0",
                  "3": "209.0",
                  "4": "0",
                  "5": "44",
                  "6": "2018-01-12",
                  "7": "400.83",
                  "8": "899.99",
                  "9": "17347.0"
                },
                {
                  "0": "surface.laptop3",
                  "1": "10.0804615",
                  "2": "238.0",
                  "3": "199.0",
                  "4": "0",
                  "5": "54",
                  "6": "2018-01-05",
                  "7": "623.15",
                  "8": "1199.99",
                  "9": "47362.0"
                },
                {
                  "0": "surface.go",
                  "1": "8.37839",
                  "2": "43.0",
                  "3": "199.0",
                  "4": "0",
                  "5": "117",
                  "6": "2019-01-04",
                  "7": "220.55",
                  "8": "499.99",
                  "9": "8557.0"
                },
                {
                  "0": "surface.go",
                  "1": "9.908276",
                  "2": "200.0",
                  "3": "159.0",
                  "4": "1",
                  "5": "91",
                  "6": "2017-01-23",
                  "7": "220.55",
                  "8": "499.99",
                  "9": "31800.0"
                },
                {
                  "0": "surface.go",
                  "1": "8.286017",
                  "2": "39.0",
                  "3": "219.0",
                  "4": "0",
                  "5": "47",
                  "6": "2018-01-04",
                  "7": "220.55",
                  "8": "499.99",
                  "9": "8541.0"
                },
                {
                  "0": "surface.pro7",
                  "1": "8.691483",
                  "2": "59.0",
                  "3": "269.0",
                  "4": "0",
                  "5": "84",
                  "6": "2019-01-18",
                  "7": "400.83",
                  "8": "899.99",
                  "9": "15871.0"
                },
                {
                  "0": "surface.laptop3",
                  "1": "9.176163",
                  "2": "96.0",
                  "3": "387.0",
                  "4": "0",
                  "5": "72",
                  "6": "2017-01-27",
                  "7": "623.15",
                  "8": "1199.99",
                  "9": "37152.0"
                },
                {
                  "0": "surface.go",
                  "1": "7.9875245",
                  "2": "29.0",
                  "3": "200.0",
                  "4": "0",
                  "5": "137",
                  "6": "2019-01-05",
                  "7": "220.55",
                  "8": "499.99",
                  "9": "5800.0"
                },
                {
                  "0": "surface.laptop3",
                  "1": "8.528331",
                  "2": "50.0",
                  "3": "229.0",
                  "4": "0",
                  "5": "88",
                  "6": "2019-01-10",
                  "7": "623.15",
                  "8": "1199.99",
                  "9": "11450.0"
                },
                {
                  "0": "surface.go",
                  "1": "9.668271",
                  "2": "158.0",
                  "3": "129.0",
                  "4": "0",
                  "5": "107",
                  "6": "2019-01-25",
                  "7": "220.55",
                  "8": "499.99",
                  "9": "20382.0"
                },
                {
                  "0": "surface.pro7",
                  "1": "10.43176",
                  "2": "339.0",
                  "3": "199.0",
                  "4": "1",
                  "5": "126",
                  "6": "2017-01-07",
                  "7": "400.83",
                  "8": "899.99",
                  "9": "67461.0"
                },
                {
                  "0": "surface.pro7",
                  "1": "11.227056",
                  "2": "751.0",
                  "3": "169.0",
                  "4": "1",
                  "5": "88",
                  "6": "2018-01-22",
                  "7": "400.83",
                  "8": "899.99",
                  "9": "126919.0"
                },
                {
                  "0": "surface.pro7",
                  "1": "10.439279",
                  "2": "341.0",
                  "3": "129.0",
                  "4": "1",
                  "5": "48",
                  "6": "2018-01-23",
                  "7": "400.83",
                  "8": "899.99",
                  "9": "43989.0"
                },
                {
                  "0": "surface.pro7",
                  "1": "10.435527",
                  "2": "340.0",
                  "3": "199.0",
                  "4": "1",
                  "5": "126",
                  "6": "2017-01-22",
                  "7": "400.83",
                  "8": "899.99",
                  "9": "67660.0"
                },
                {
                  "0": "surface.go",
                  "1": "8.201935",
                  "2": "36.0",
                  "3": "269.0",
                  "4": "0",
                  "5": "100",
                  "6": "2017-01-06",
                  "7": "220.55",
                  "8": "499.99",
                  "9": "9684.0"
                },
                {
                  "0": "surface.laptop3",
                  "1": "9.0641575",
                  "2": "86.0",
                  "3": "259.0",
                  "4": "0",
                  "5": "122",
                  "6": "2019-01-09",
                  "7": "623.15",
                  "8": "1199.99",
                  "9": "22274.0"
                },
                {
                  "0": "surface.laptop3",
                  "1": "9.970024",
                  "2": "213.0",
                  "3": "319.0",
                  "4": "0",
                  "5": "109",
                  "6": "2019-01-28",
                  "7": "623.15",
                  "8": "1199.99",
                  "9": "67947.0"
                },
                {
                  "0": "surface.pro7",
                  "1": "8.129175",
                  "2": "33.0",
                  "3": "219.0",
                  "4": "1",
                  "5": "110",
                  "6": "2019-01-11",
                  "7": "400.83",
                  "8": "899.99",
                  "9": "7227.0"
                },
                {
                  "0": "surface.pro7",
                  "1": "8.962904",
                  "2": "78.0",
                  "3": "169.0",
                  "4": "0",
                  "5": "91",
                  "6": "2019-01-05",
                  "7": "400.83",
                  "8": "899.99",
                  "9": "13182.0"
                },
                {
                  "0": "surface.laptop3",
                  "1": "9.534162",
                  "2": "138.0",
                  "3": "273.0",
                  "4": "0",
                  "5": "80",
                  "6": "2018-01-15",
                  "7": "623.15",
                  "8": "1199.99",
                  "9": "37674.0"
                },
                {
                  "0": "surface.pro7",
                  "1": "8.090709",
                  "2": "32.0",
                  "3": "317.0",
                  "4": "0",
                  "5": "53",
                  "6": "2017-01-20",
                  "7": "400.83",
                  "8": "899.99",
                  "9": "10144.0"
                },
                {
                  "0": "surface.laptop3",
                  "1": "10.3009205",
                  "2": "297.0",
                  "3": "229.0",
                  "4": "1",
                  "5": "102",
                  "6": "2018-01-17",
                  "7": "623.15",
                  "8": "1199.99",
                  "9": "68013.0"
                },
                {
                  "0": "surface.go",
                  "1": "7.377759",
                  "2": "16.0",
                  "3": "269.0",
                  "4": "0",
                  "5": "124",
                  "6": "2017-01-22",
                  "7": "220.55",
                  "8": "499.99",
                  "9": "4304.0"
                },
                {
                  "0": "surface.laptop3",
                  "1": "9.221478",
                  "2": "101.0",
                  "3": "359.0",
                  "4": "0",
                  "5": "52",
                  "6": "2018-01-30",
                  "7": "623.15",
                  "8": "1199.99",
                  "9": "36259.0"
                },
                {
                  "0": "surface.laptop3",
                  "1": "8.987197",
                  "2": "80.0",
                  "3": "329.0",
                  "4": "0",
                  "5": "5",
                  "6": "2017-01-21",
                  "7": "623.15",
                  "8": "1199.99",
                  "9": "26320.0"
                },
                {
                  "0": "surface.pro7",
                  "1": "8.030084",
                  "2": "30.0",
                  "3": "244.0",
                  "4": "1",
                  "5": "71",
                  "6": "2019-01-11",
                  "7": "400.83",
                  "8": "899.99",
                  "9": "7320.0"
                },
                {
                  "0": "surface.go",
                  "1": "9.093357",
                  "2": "88.0",
                  "3": "139.0",
                  "4": "0",
                  "5": "134",
                  "6": "2019-01-25",
                  "7": "220.55",
                  "8": "499.99",
                  "9": "12232.0"
                },
                {
                  "0": "surface.pro7",
                  "1": "9.692272",
                  "2": "161.0",
                  "3": "239.0",
                  "4": "1",
                  "5": "104",
                  "6": "2017-01-03",
                  "7": "400.83",
                  "8": "899.99",
                  "9": "38479.0"
                },
                {
                  "0": "surface.pro7",
                  "1": "10.002427",
                  "2": "220.0",
                  "3": "239.0",
                  "4": "0",
                  "5": "111",
                  "6": "2018-01-16",
                  "7": "400.83",
                  "8": "899.99",
                  "9": "52580.0"
                },
                {
                  "0": "surface.laptop3",
                  "1": "9.169518",
                  "2": "96.0",
                  "3": "387.0",
                  "4": "0",
                  "5": "72",
                  "6": "2017-01-06",
                  "7": "623.15",
                  "8": "1199.99",
                  "9": "37152.0"
                },
                {
                  "0": "surface.pro7",
                  "1": "7.8965526",
                  "2": "26.0",
                  "3": "246.0",
                  "4": "1",
                  "5": "134",
                  "6": "2018-01-05",
                  "7": "400.83",
                  "8": "899.99",
                  "9": "6396.0"
                },
                {
                  "0": "surface.pro7",
                  "1": "8.348537",
                  "2": "42.0",
                  "3": "266.0",
                  "4": "0",
                  "5": "9",
                  "6": "2019-01-09",
                  "7": "400.83",
                  "8": "899.99",
                  "9": "11172.0"
                },
                {
                  "0": "surface.laptop3",
                  "1": "8.00903",
                  "2": "30.0",
                  "3": "319.0",
                  "4": "0",
                  "5": "130",
                  "6": "2019-01-24",
                  "7": "623.15",
                  "8": "1199.99",
                  "9": "9570.0"
                },
                {
                  "0": "surface.laptop3",
                  "1": "9.373818",
                  "2": "117.0",
                  "3": "387.0",
                  "4": "0",
                  "5": "52",
                  "6": "2017-01-06",
                  "7": "623.15",
                  "8": "1199.99",
                  "9": "45279.0"
                },
                {
                  "0": "surface.laptop3",
                  "1": "10.261441",
                  "2": "286.0",
                  "3": "199.0",
                  "4": "0",
                  "5": "73",
                  "6": "2018-01-12",
                  "7": "623.15",
                  "8": "1199.99",
                  "9": "56914.0"
                },
                {
                  "0": "surface.pro7",
                  "1": "8.528331",
                  "2": "50.0",
                  "3": "219.0",
                  "4": "1",
                  "5": "14",
                  "6": "2019-01-11",
                  "7": "400.83",
                  "8": "899.99",
                  "9": "10950.0"
                },
                {
                  "0": "surface.laptop3",
                  "1": "9.306377",
                  "2": "110.0",
                  "3": "259.0",
                  "4": "0",
                  "5": "122",
                  "6": "2019-01-11",
                  "7": "623.15",
                  "8": "1199.99",
                  "9": "28490.0"
                },
                {
                  "0": "surface.laptop3",
                  "1": "11.27284",
                  "2": "786.0",
                  "3": "249.0",
                  "4": "1",
                  "5": "72",
                  "6": "2019-01-06",
                  "7": "623.15",
                  "8": "1199.99",
                  "9": "195714.0"
                },
                {
                  "0": "surface.pro7",
                  "1": "9.142489",
                  "2": "93.0",
                  "3": "185.0",
                  "4": "1",
                  "5": "83",
                  "6": "2018-01-13",
                  "7": "400.83",
                  "8": "899.99",
                  "9": "17205.0"
                },
                {
                  "0": "surface.go",
                  "1": "9.601301",
                  "2": "147.0",
                  "3": "159.0",
                  "4": "1",
                  "5": "53",
                  "6": "2018-01-29",
                  "7": "220.55",
                  "8": "499.99",
                  "9": "23373.0"
                },
                {
                  "0": "surface.go",
                  "1": "8.269757",
                  "2": "39.0",
                  "3": "269.0",
                  "4": "0",
                  "5": "130",
                  "6": "2017-01-13",
                  "7": "220.55",
                  "8": "499.99",
                  "9": "10491.0"
                },
                {
                  "0": "surface.laptop3",
                  "1": "9.631154",
                  "2": "152.0",
                  "3": "309.0",
                  "4": "1",
                  "5": "62",
                  "6": "2019-01-08",
                  "7": "623.15",
                  "8": "1199.99",
                  "9": "46968.0"
                },
                {
                  "0": "surface.go",
                  "1": "9.529521",
                  "2": "137.0",
                  "3": "149.0",
                  "4": "1",
                  "5": "14",
                  "6": "2018-01-16",
                  "7": "220.55",
                  "8": "499.99",
                  "9": "20413.0"
                },
                {
                  "0": "surface.go",
                  "1": "11.10778",
                  "2": "666.0",
                  "3": "159.0",
                  "4": "1",
                  "5": "130",
                  "6": "2018-01-29",
                  "7": "220.55",
                  "8": "499.99",
                  "9": "105894.0"
                },
                {
                  "0": "surface.go",
                  "1": "9.264829",
                  "2": "105.0",
                  "3": "169.0",
                  "4": "1",
                  "5": "128",
                  "6": "2018-01-08",
                  "7": "220.55",
                  "8": "499.99",
                  "9": "17745.0"
                },
                {
                  "0": "surface.laptop3",
                  "1": "8.841014",
                  "2": "69.0",
                  "3": "319.0",
                  "4": "0",
                  "5": "123",
                  "6": "2019-01-31",
                  "7": "623.15",
                  "8": "1199.99",
                  "9": "22011.0"
                },
                {
                  "0": "surface.laptop3",
                  "1": "9.596962",
                  "2": "147.0",
                  "3": "249.0",
                  "4": "1",
                  "5": "119",
                  "6": "2019-01-05",
                  "7": "623.15",
                  "8": "1199.99",
                  "9": "36603.0"
                },
                {
                  "0": "surface.laptop3",
                  "1": "8.00903",
                  "2": "30.0",
                  "3": "366.0",
                  "4": "0",
                  "5": "47",
                  "6": "2017-01-06",
                  "7": "623.15",
                  "8": "1199.99",
                  "9": "10980.0"
                },
                {
                  "0": "surface.pro7",
                  "1": "9.704061",
                  "2": "163.0",
                  "3": "199.0",
                  "4": "0",
                  "5": "137",
                  "6": "2017-01-14",
                  "7": "400.83",
                  "8": "899.99",
                  "9": "32437.0"
                },
                {
                  "0": "surface.laptop3",
                  "1": "9.651944",
                  "2": "155.0",
                  "3": "304.0",
                  "4": "0",
                  "5": "112",
                  "6": "2017-01-26",
                  "7": "623.15",
                  "8": "1199.99",
                  "9": "47120.0"
                },
                {
                  "0": "surface.pro7",
                  "1": "9.306377",
                  "2": "110.0",
                  "3": "199.0",
                  "4": "0",
                  "5": "67",
                  "6": "2019-01-11",
                  "7": "400.83",
                  "8": "899.99",
                  "9": "21890.0"
                },
                {
                  "0": "surface.laptop3",
                  "1": "9.018696",
                  "2": "82.0",
                  "3": "299.0",
                  "4": "0",
                  "5": "119",
                  "6": "2018-01-29",
                  "7": "623.15",
                  "8": "1199.99",
                  "9": "24518.0"
                },
                {
                  "0": "surface.laptop3",
                  "1": "8.8862705",
                  "2": "72.0",
                  "3": "339.0",
                  "4": "0",
                  "5": "107",
                  "6": "2018-01-01",
                  "7": "623.15",
                  "8": "1199.99",
                  "9": "24408.0"
                },
                {
                  "0": "surface.pro7",
                  "1": "8.407378",
                  "2": "44.0",
                  "3": "226.0",
                  "4": "0",
                  "5": "126",
                  "6": "2018-01-07",
                  "7": "400.83",
                  "8": "899.99",
                  "9": "9944.0"
                },
                {
                  "0": "surface.go",
                  "1": "8.166216",
                  "2": "35.0",
                  "3": "189.0",
                  "4": "0",
                  "5": "101",
                  "6": "2018-01-28",
                  "7": "220.55",
                  "8": "499.99",
                  "9": "6615.0"
                },
                {
                  "0": "surface.laptop3",
                  "1": "9.215129",
                  "2": "100.0",
                  "3": "299.0",
                  "4": "0",
                  "5": "107",
                  "6": "2019-01-24",
                  "7": "623.15",
                  "8": "1199.99",
                  "9": "29900.0"
                },
                {
                  "0": "surface.go",
                  "1": "5.2574954",
                  "2": "1.0",
                  "3": "249.0",
                  "4": "0",
                  "5": "134",
                  "6": "2018-01-15",
                  "7": "220.55",
                  "8": "499.99",
                  "9": "249.0"
                },
                {
                  "0": "surface.pro7",
                  "1": "8.348537",
                  "2": "42.0",
                  "3": "279.0",
                  "4": "0",
                  "5": "123",
                  "6": "2019-01-02",
                  "7": "400.83",
                  "8": "899.99",
                  "9": "11718.0"
                },
                {
                  "0": "surface.pro7",
                  "1": "8.392989",
                  "2": "44.0",
                  "3": "269.0",
                  "4": "0",
                  "5": "113",
                  "6": "2019-01-20",
                  "7": "400.83",
                  "8": "899.99",
                  "9": "11836.0"
                },
                {
                  "0": "surface.go",
                  "1": "6.5567784",
                  "2": "7.0",
                  "3": "209.0",
                  "4": "0",
                  "5": "9",
                  "6": "2017-01-17",
                  "7": "220.55",
                  "8": "499.99",
                  "9": "1463.0"
                },
                {
                  "0": "surface.pro7",
                  "1": "7.920083",
                  "2": "27.0",
                  "3": "269.0",
                  "4": "0",
                  "5": "116",
                  "6": "2019-01-20",
                  "7": "400.83",
                  "8": "899.99",
                  "9": "7263.0"
                },
                {
                  "0": "surface.laptop3",
                  "1": "8.37839",
                  "2": "43.0",
                  "3": "319.0",
                  "4": "0",
                  "5": "105",
                  "6": "2017-01-03",
                  "7": "623.15",
                  "8": "1199.99",
                  "9": "13717.0"
                },
                {
                  "0": "surface.go",
                  "1": "9.82531",
                  "2": "184.0",
                  "3": "179.0",
                  "4": "0",
                  "5": "70",
                  "6": "2019-01-03",
                  "7": "220.55",
                  "8": "499.99",
                  "9": "32936.0"
                },
                {
                  "0": "surface.pro7",
                  "1": "9.491602",
                  "2": "132.0",
                  "3": "199.0",
                  "4": "1",
                  "5": "21",
                  "6": "2019-01-12",
                  "7": "400.83",
                  "8": "899.99",
                  "9": "26268.0"
                },
                {
                  "0": "surface.laptop3",
                  "1": "9.100526",
                  "2": "89.0",
                  "3": "387.0",
                  "4": "0",
                  "5": "33",
                  "6": "2017-01-15",
                  "7": "623.15",
                  "8": "1199.99",
                  "9": "34443.0"
                },
                {
                  "0": "surface.laptop3",
                  "1": "10.039416",
                  "2": "229.0",
                  "3": "199.0",
                  "4": "0",
                  "5": "80",
                  "6": "2018-01-12",
                  "7": "623.15",
                  "8": "1199.99",
                  "9": "45571.0"
                },
                {
                  "0": "surface.laptop3",
                  "1": "8.680672",
                  "2": "58.0",
                  "3": "339.0",
                  "4": "0",
                  "5": "89",
                  "6": "2018-01-19",
                  "7": "623.15",
                  "8": "1199.99",
                  "9": "19662.0"
                },
                {
                  "0": "surface.go",
                  "1": "9.340667",
                  "2": "113.0",
                  "3": "159.0",
                  "4": "1",
                  "5": "64",
                  "6": "2017-01-02",
                  "7": "220.55",
                  "8": "499.99",
                  "9": "17967.0"
                },
                {
                  "0": "surface.go",
                  "1": "11.231305",
                  "2": "754.0",
                  "3": "99.0",
                  "4": "1",
                  "5": "49",
                  "6": "2018-01-19",
                  "7": "220.55",
                  "8": "499.99",
                  "9": "74646.0"
                },
                {
                  "0": "surface.go",
                  "1": "8.219326",
                  "2": "37.0",
                  "3": "209.0",
                  "4": "0",
                  "5": "90",
                  "6": "2017-01-10",
                  "7": "220.55",
                  "8": "499.99",
                  "9": "7733.0"
                },
                {
                  "0": "surface.laptop3",
                  "1": "9.839056",
                  "2": "187.0",
                  "3": "249.0",
                  "4": "1",
                  "5": "80",
                  "6": "2019-01-05",
                  "7": "623.15",
                  "8": "1199.99",
                  "9": "46563.0"
                },
                {
                  "0": "surface.go",
                  "1": "10.083138",
                  "2": "239.0",
                  "3": "150.0",
                  "4": "1",
                  "5": "126",
                  "6": "2018-01-29",
                  "7": "220.55",
                  "8": "499.99",
                  "9": "35850.0"
                },
                {
                  "0": "surface.laptop3",
                  "1": "8.743851",
                  "2": "62.0",
                  "3": "299.0",
                  "4": "0",
                  "5": "132",
                  "6": "2018-01-23",
                  "7": "623.15",
                  "8": "1199.99",
                  "9": "18538.0"
                },
                {
                  "0": "surface.laptop3",
                  "1": "9.583833",
                  "2": "145.0",
                  "3": "219.0",
                  "4": "0",
                  "5": "80",
                  "6": "2018-01-09",
                  "7": "623.15",
                  "8": "1199.99",
                  "9": "31755.0"
                },
                {
                  "0": "surface.laptop3",
                  "1": "8.070906",
                  "2": "32.0",
                  "3": "329.0",
                  "4": "0",
                  "5": "117",
                  "6": "2017-01-14",
                  "7": "623.15",
                  "8": "1199.99",
                  "9": "10528.0"
                },
                {
                  "0": "surface.laptop3",
                  "1": "8.1101265",
                  "2": "33.0",
                  "3": "366.0",
                  "4": "0",
                  "5": "64",
                  "6": "2017-01-28",
                  "7": "623.15",
                  "8": "1199.99",
                  "9": "12078.0"
                },
                {
                  "0": "surface.pro7",
                  "1": "11.348051",
                  "2": "848.0",
                  "3": "129.0",
                  "4": "1",
                  "5": "103",
                  "6": "2018-01-23",
                  "7": "400.83",
                  "8": "899.99",
                  "9": "109392.0"
                },
                {
                  "0": "surface.pro7",
                  "1": "8.030084",
                  "2": "30.0",
                  "3": "262.0",
                  "4": "0",
                  "5": "40",
                  "6": "2017-01-15",
                  "7": "400.83",
                  "8": "899.99",
                  "9": "7860.0"
                },
                {
                  "0": "surface.go",
                  "1": "9.505991",
                  "2": "134.0",
                  "3": "158.0",
                  "4": "0",
                  "5": "95",
                  "6": "2018-01-20",
                  "7": "220.55",
                  "8": "499.99",
                  "9": "21172.0"
                },
                {
                  "0": "surface.laptop3",
                  "1": "11.248126",
                  "2": "767.0",
                  "3": "179.0",
                  "4": "0",
                  "5": "12",
                  "6": "2019-01-14",
                  "7": "623.15",
                  "8": "1199.99",
                  "9": "137293.0"
                },
                {
                  "0": "surface.pro7",
                  "1": "10.454149",
                  "2": "346.0",
                  "3": "219.0",
                  "4": "1",
                  "5": "62",
                  "6": "2019-01-03",
                  "7": "400.83",
                  "8": "899.99",
                  "9": "75774.0"
                },
                {
                  "0": "surface.go",
                  "1": "8.528331",
                  "2": "50.0",
                  "3": "196.0",
                  "4": "0",
                  "5": "54",
                  "6": "2019-01-15",
                  "7": "220.55",
                  "8": "499.99",
                  "9": "9800.0"
                },
                {
                  "0": "surface.laptop3",
                  "1": "8.812843",
                  "2": "67.0",
                  "3": "329.0",
                  "4": "1",
                  "5": "28",
                  "6": "2017-01-05",
                  "7": "623.15",
                  "8": "1199.99",
                  "9": "22043.0"
                },
                {
                  "0": "surface.pro7",
                  "1": "8.302018",
                  "2": "40.0",
                  "3": "262.0",
                  "4": "0",
                  "5": "132",
                  "6": "2017-01-15",
                  "7": "400.83",
                  "8": "899.99",
                  "9": "10480.0"
                },
                {
                  "0": "surface.laptop3",
                  "1": "9.026418",
                  "2": "83.0",
                  "3": "299.0",
                  "4": "0",
                  "5": "131",
                  "6": "2019-01-30",
                  "7": "623.15",
                  "8": "1199.99",
                  "9": "24817.0"
                },
                {
                  "0": "surface.pro7",
                  "1": "8.317766",
                  "2": "40.0",
                  "3": "266.0",
                  "4": "0",
                  "5": "86",
                  "6": "2019-01-18",
                  "7": "400.83",
                  "8": "899.99",
                  "9": "10640.0"
                },
                {
                  "0": "surface.laptop3",
                  "1": "9.442087",
                  "2": "126.0",
                  "3": "387.0",
                  "4": "0",
                  "5": "52",
                  "6": "2017-01-10",
                  "7": "623.15",
                  "8": "1199.99",
                  "9": "48762.0"
                },
                {
                  "0": "surface.laptop3",
                  "1": "9.0641575",
                  "2": "86.0",
                  "3": "299.0",
                  "4": "0",
                  "5": "44",
                  "6": "2019-01-11",
                  "7": "623.15",
                  "8": "1199.99",
                  "9": "25714.0"
                },
                {
                  "0": "surface.go",
                  "1": "10.523634",
                  "2": "371.0",
                  "3": "159.0",
                  "4": "0",
                  "5": "130",
                  "6": "2018-01-31",
                  "7": "220.55",
                  "8": "499.99",
                  "9": "58989.0"
                },
                {
                  "0": "surface.pro7",
                  "1": "11.29775",
                  "2": "806.0",
                  "3": "199.0",
                  "4": "1",
                  "5": "89",
                  "6": "2019-01-15",
                  "7": "400.83",
                  "8": "899.99",
                  "9": "160394.0"
                },
                {
                  "0": "surface.go",
                  "1": "7.8477626",
                  "2": "25.0",
                  "3": "158.0",
                  "4": "0",
                  "5": "45",
                  "6": "2019-01-14",
                  "7": "220.55",
                  "8": "499.99",
                  "9": "3950.0"
                },
                {
                  "0": "surface.go",
                  "1": "8.236421",
                  "2": "37.0",
                  "3": "158.0",
                  "4": "0",
                  "5": "110",
                  "6": "2018-01-01",
                  "7": "220.55",
                  "8": "499.99",
                  "9": "5846.0"
                },
                {
                  "0": "surface.go",
                  "1": "8.00903",
                  "2": "30.0",
                  "3": "199.0",
                  "4": "0",
                  "5": "2",
                  "6": "2018-01-22",
                  "7": "220.55",
                  "8": "499.99",
                  "9": "5970.0"
                },
                {
                  "0": "surface.pro7",
                  "1": "11.446444",
                  "2": "935.0",
                  "3": "139.0",
                  "4": "1",
                  "5": "33",
                  "6": "2018-01-10",
                  "7": "400.83",
                  "8": "899.99",
                  "9": "129965.0"
                },
                {
                  "0": "surface.go",
                  "1": "9.957975",
                  "2": "211.0",
                  "3": "169.0",
                  "4": "0",
                  "5": "48",
                  "6": "2019-01-30",
                  "7": "220.55",
                  "8": "499.99",
                  "9": "35659.0"
                },
                {
                  "0": "surface.laptop3",
                  "1": "8.363576",
                  "2": "42.0",
                  "3": "229.0",
                  "4": "0",
                  "5": "103",
                  "6": "2019-01-10",
                  "7": "623.15",
                  "8": "1199.99",
                  "9": "9618.0"
                },
                {
                  "0": "surface.pro7",
                  "1": "9.442087",
                  "2": "126.0",
                  "3": "199.0",
                  "4": "0",
                  "5": "109",
                  "6": "2018-01-06",
                  "7": "400.83",
                  "8": "899.99",
                  "9": "25074.0"
                },
                {
                  "0": "surface.pro7",
                  "1": "8.392989",
                  "2": "44.0",
                  "3": "269.0",
                  "4": "0",
                  "5": "56",
                  "6": "2019-01-19",
                  "7": "400.83",
                  "8": "899.99",
                  "9": "11836.0"
                },
                {
                  "0": "surface.pro7",
                  "1": "10.53561",
                  "2": "376.0",
                  "3": "199.0",
                  "4": "1",
                  "5": "121",
                  "6": "2017-01-07",
                  "7": "400.83",
                  "8": "899.99",
                  "9": "74824.0"
                },
                {
                  "0": "surface.pro7",
                  "1": "8.723231",
                  "2": "61.0",
                  "3": "289.0",
                  "4": "0",
                  "5": "68",
                  "6": "2019-01-19",
                  "7": "400.83",
                  "8": "899.99",
                  "9": "17629.0"
                },
                {
                  "0": "surface.pro7",
                  "1": "8.37839",
                  "2": "43.0",
                  "3": "226.0",
                  "4": "0",
                  "5": "88",
                  "6": "2018-01-06",
                  "7": "400.83",
                  "8": "899.99",
                  "9": "9718.0"
                },
                {
                  "0": "surface.pro7",
                  "1": "10.119888",
                  "2": "248.0",
                  "3": "196.0",
                  "4": "1",
                  "5": "115",
                  "6": "2019-01-12",
                  "7": "400.83",
                  "8": "899.99",
                  "9": "48608.0"
                },
                {
                  "0": "surface.go",
                  "1": "8.5777235",
                  "2": "53.0",
                  "3": "129.0",
                  "4": "0",
                  "5": "67",
                  "6": "2019-01-29",
                  "7": "220.55",
                  "8": "499.99",
                  "9": "6837.0"
                },
                {
                  "0": "surface.pro7",
                  "1": "9.596962",
                  "2": "147.0",
                  "3": "202.0",
                  "4": "1",
                  "5": "56",
                  "6": "2019-01-04",
                  "7": "400.83",
                  "8": "899.99",
                  "9": "29694.0"
                },
                {
                  "0": "surface.go",
                  "1": "8.929567",
                  "2": "75.0",
                  "3": "219.0",
                  "4": "0",
                  "5": "86",
                  "6": "2018-01-22",
                  "7": "220.55",
                  "8": "499.99",
                  "9": "16425.0"
                },
                {
                  "0": "surface.go",
                  "1": "8.528331",
                  "2": "50.0",
                  "3": "249.0",
                  "4": "0",
                  "5": "74",
                  "6": "2017-01-06",
                  "7": "220.55",
                  "8": "499.99",
                  "9": "12450.0"
                },
                {
                  "0": "surface.pro7",
                  "1": "9.221478",
                  "2": "101.0",
                  "3": "208.0",
                  "4": "0",
                  "5": "105",
                  "6": "2019-01-11",
                  "7": "400.83",
                  "8": "899.99",
                  "9": "21008.0"
                },
                {
                  "0": "surface.laptop3",
                  "1": "8.236421",
                  "2": "37.0",
                  "3": "250.0",
                  "4": "0",
                  "5": "97",
                  "6": "2019-01-11",
                  "7": "623.15",
                  "8": "1199.99",
                  "9": "9250.0"
                },
                {
                  "0": "surface.laptop3",
                  "1": "8.841014",
                  "2": "69.0",
                  "3": "299.0",
                  "4": "0",
                  "5": "56",
                  "6": "2019-01-01",
                  "7": "623.15",
                  "8": "1199.99",
                  "9": "20631.0"
                },
                {
                  "0": "surface.laptop3",
                  "1": "7.9875245",
                  "2": "29.0",
                  "3": "366.0",
                  "4": "0",
                  "5": "104",
                  "6": "2017-01-13",
                  "7": "623.15",
                  "8": "1199.99",
                  "9": "10614.0"
                },
                {
                  "0": "surface.pro7",
                  "1": "10.793516",
                  "2": "487.0",
                  "3": "199.0",
                  "4": "1",
                  "5": "89",
                  "6": "2017-01-17",
                  "7": "400.83",
                  "8": "899.99",
                  "9": "96913.0"
                },
                {
                  "0": "surface.pro7",
                  "1": "8.147867",
                  "2": "34.0",
                  "3": "249.0",
                  "4": "0",
                  "5": "56",
                  "6": "2019-01-31",
                  "7": "400.83",
                  "8": "899.99",
                  "9": "8466.0"
                },
                {
                  "0": "surface.laptop3",
                  "1": "9.368369",
                  "2": "117.0",
                  "3": "250.0",
                  "4": "1",
                  "5": "88",
                  "6": "2019-01-04",
                  "7": "623.15",
                  "8": "1199.99",
                  "9": "29250.0"
                },
                {
                  "0": "surface.laptop3",
                  "1": "8.219326",
                  "2": "37.0",
                  "3": "351.0",
                  "4": "0",
                  "5": "126",
                  "6": "2017-01-09",
                  "7": "623.15",
                  "8": "1199.99",
                  "9": "12987.0"
                },
                {
                  "0": "surface.go",
                  "1": "7.4910874",
                  "2": "17.0",
                  "3": "158.0",
                  "4": "0",
                  "5": "109",
                  "6": "2019-01-10",
                  "7": "220.55",
                  "8": "499.99",
                  "9": "2686.0"
                },
                {
                  "0": "surface.laptop3",
                  "1": "8.502688",
                  "2": "49.0",
                  "3": "273.0",
                  "4": "0",
                  "5": "21",
                  "6": "2018-01-28",
                  "7": "623.15",
                  "8": "1199.99",
                  "9": "13377.0"
                },
                {
                  "0": "surface.go",
                  "1": "10.142819",
                  "2": "254.0",
                  "3": "159.0",
                  "4": "1",
                  "5": "71",
                  "6": "2018-01-13",
                  "7": "220.55",
                  "8": "499.99",
                  "9": "40386.0"
                },
                {
                  "0": "surface.pro7",
                  "1": "8.201935",
                  "2": "36.0",
                  "3": "299.0",
                  "4": "0",
                  "5": "51",
                  "6": "2017-01-28",
                  "7": "400.83",
                  "8": "899.99",
                  "9": "10764.0"
                },
                {
                  "0": "surface.pro7",
                  "1": "9.234056",
                  "2": "102.0",
                  "3": "199.0",
                  "4": "0",
                  "5": "129",
                  "6": "2017-01-14",
                  "7": "400.83",
                  "8": "899.99",
                  "9": "20298.0"
                },
                {
                  "0": "surface.go",
                  "1": "9.764685",
                  "2": "174.0",
                  "3": "158.0",
                  "4": "0",
                  "5": "90",
                  "6": "2019-01-07",
                  "7": "220.55",
                  "8": "499.99",
                  "9": "27492.0"
                },
                {
                  "0": "surface.pro7",
                  "1": "9.631154",
                  "2": "152.0",
                  "3": "169.0",
                  "4": "0",
                  "5": "119",
                  "6": "2018-01-05",
                  "7": "400.83",
                  "8": "899.99",
                  "9": "25688.0"
                },
                {
                  "0": "surface.laptop3",
                  "1": "8.743851",
                  "2": "62.0",
                  "3": "294.0",
                  "4": "0",
                  "5": "110",
                  "6": "2018-01-18",
                  "7": "623.15",
                  "8": "1199.99",
                  "9": "18228.0"
                },
                {
                  "0": "surface.pro7",
                  "1": "8.71276",
                  "2": "60.0",
                  "3": "179.0",
                  "4": "0",
                  "5": "64",
                  "6": "2018-01-04",
                  "7": "400.83",
                  "8": "899.99",
                  "9": "10740.0"
                },
                {
                  "0": "surface.go",
                  "1": "9.4572",
                  "2": "128.0",
                  "3": "129.0",
                  "4": "0",
                  "5": "14",
                  "6": "2019-01-25",
                  "7": "220.55",
                  "8": "499.99",
                  "9": "16512.0"
                },
                {
                  "0": "surface.pro7",
                  "1": "8.71276",
                  "2": "60.0",
                  "3": "279.0",
                  "4": "0",
                  "5": "14",
                  "6": "2019-01-18",
                  "7": "400.83",
                  "8": "899.99",
                  "9": "16740.0"
                },
                {
                  "0": "surface.go",
                  "1": "10.651123",
                  "2": "422.0",
                  "3": "149.0",
                  "4": "1",
                  "5": "137",
                  "6": "2018-01-16",
                  "7": "220.55",
                  "8": "499.99",
                  "9": "62878.0"
                },
                {
                  "0": "surface.go",
                  "1": "7.742402",
                  "2": "23.0",
                  "3": "219.0",
                  "4": "0",
                  "5": "84",
                  "6": "2018-01-15",
                  "7": "220.55",
                  "8": "499.99",
                  "9": "5037.0"
                },
                {
                  "0": "surface.go",
                  "1": "9.162829",
                  "2": "95.0",
                  "3": "161.0",
                  "4": "0",
                  "5": "105",
                  "6": "2018-01-20",
                  "7": "220.55",
                  "8": "499.99",
                  "9": "15295.0"
                },
                {
                  "0": "surface.go",
                  "1": "9.961001",
                  "2": "211.0",
                  "3": "158.0",
                  "4": "0",
                  "5": "90",
                  "6": "2019-01-14",
                  "7": "220.55",
                  "8": "499.99",
                  "9": "33338.0"
                },
                {
                  "0": "surface.go",
                  "1": "9.227787",
                  "2": "101.0",
                  "3": "158.0",
                  "4": "0",
                  "5": "80",
                  "6": "2019-01-24",
                  "7": "220.55",
                  "8": "499.99",
                  "9": "15958.0"
                },
                {
                  "0": "surface.laptop3",
                  "1": "9.797237",
                  "2": "179.0",
                  "3": "199.0",
                  "4": "1",
                  "5": "45",
                  "6": "2019-01-14",
                  "7": "623.15",
                  "8": "1199.99",
                  "9": "35621.0"
                },
                {
                  "0": "surface.pro7",
                  "1": "10.704233",
                  "2": "445.0",
                  "3": "198.0",
                  "4": "1",
                  "5": "83",
                  "6": "2018-01-25",
                  "7": "400.83",
                  "8": "899.99",
                  "9": "88110.0"
                },
                {
                  "0": "surface.pro7",
                  "1": "8.286017",
                  "2": "39.0",
                  "3": "199.0",
                  "4": "0",
                  "5": "9",
                  "6": "2019-01-10",
                  "7": "400.83",
                  "8": "899.99",
                  "9": "7761.0"
                },
                {
                  "0": "surface.go",
                  "1": "7.2943773",
                  "2": "14.0",
                  "3": "229.0",
                  "4": "0",
                  "5": "78",
                  "6": "2017-01-22",
                  "7": "220.55",
                  "8": "499.99",
                  "9": "3206.0"
                },
                {
                  "0": "surface.laptop3",
                  "1": "8.831712",
                  "2": "68.0",
                  "3": "294.0",
                  "4": "0",
                  "5": "119",
                  "6": "2018-01-25",
                  "7": "623.15",
                  "8": "1199.99",
                  "9": "19992.0"
                },
                {
                  "0": "surface.pro7",
                  "1": "8.954674",
                  "2": "77.0",
                  "3": "199.0",
                  "4": "0",
                  "5": "115",
                  "6": "2017-01-28",
                  "7": "400.83",
                  "8": "899.99",
                  "9": "15323.0"
                },
                {
                  "0": "surface.go",
                  "1": "8.647519",
                  "2": "56.0",
                  "3": "179.0",
                  "4": "0",
                  "5": "106",
                  "6": "2017-01-05",
                  "7": "220.55",
                  "8": "499.99",
                  "9": "10024.0"
                },
                {
                  "0": "surface.laptop3",
                  "1": "9.329367",
                  "2": "112.0",
                  "3": "339.0",
                  "4": "1",
                  "5": "119",
                  "6": "2018-01-26",
                  "7": "623.15",
                  "8": "1199.99",
                  "9": "37968.0"
                },
                {
                  "0": "surface.pro7",
                  "1": "7.796469",
                  "2": "24.0",
                  "3": "259.0",
                  "4": "0",
                  "5": "95",
                  "6": "2018-01-11",
                  "7": "400.83",
                  "8": "899.99",
                  "9": "6216.0"
                },
                {
                  "0": "surface.laptop3",
                  "1": "8.449343",
                  "2": "46.0",
                  "3": "299.0",
                  "4": "0",
                  "5": "67",
                  "6": "2018-01-01",
                  "7": "623.15",
                  "8": "1199.99",
                  "9": "13754.0"
                },
                {
                  "0": "surface.go",
                  "1": "8.929567",
                  "2": "75.0",
                  "3": "169.0",
                  "4": "0",
                  "5": "114",
                  "6": "2018-01-28",
                  "7": "220.55",
                  "8": "499.99",
                  "9": "12675.0"
                },
                {
                  "0": "surface.pro7",
                  "1": "11.201169",
                  "2": "732.0",
                  "3": "169.0",
                  "4": "1",
                  "5": "5",
                  "6": "2018-01-22",
                  "7": "400.83",
                  "8": "899.99",
                  "9": "123708.0"
                },
                {
                  "0": "surface.go",
                  "1": "9.421574",
                  "2": "123.0",
                  "3": "133.0",
                  "4": "0",
                  "5": "89",
                  "6": "2019-01-29",
                  "7": "220.55",
                  "8": "499.99",
                  "9": "16359.0"
                },
                {
                  "0": "surface.laptop3",
                  "1": "9.056723",
                  "2": "85.0",
                  "3": "259.0",
                  "4": "0",
                  "5": "59",
                  "6": "2018-01-11",
                  "7": "623.15",
                  "8": "1199.99",
                  "9": "22015.0"
                },
                {
                  "0": "surface.pro7",
                  "1": "8.462948",
                  "2": "47.0",
                  "3": "225.0",
                  "4": "0",
                  "5": "77",
                  "6": "2019-01-28",
                  "7": "400.83",
                  "8": "899.99",
                  "9": "10575.0"
                },
                {
                  "0": "surface.laptop3",
                  "1": "8.912474",
                  "2": "74.0",
                  "3": "299.0",
                  "4": "0",
                  "5": "18",
                  "6": "2018-01-10",
                  "7": "623.15",
                  "8": "1199.99",
                  "9": "22126.0"
                },
                {
                  "0": "surface.laptop3",
                  "1": "9.477003",
                  "2": "130.0",
                  "3": "359.0",
                  "4": "0",
                  "5": "137",
                  "6": "2018-01-21",
                  "7": "623.15",
                  "8": "1199.99",
                  "9": "46670.0"
                },
                {
                  "0": "surface.pro7",
                  "1": "9.329367",
                  "2": "112.0",
                  "3": "185.0",
                  "4": "0",
                  "5": "80",
                  "6": "2018-01-13",
                  "7": "400.83",
                  "8": "899.99",
                  "9": "20720.0"
                },
                {
                  "0": "surface.go",
                  "1": "11.583049",
                  "2": "1072.0",
                  "3": "139.0",
                  "4": "1",
                  "5": "123",
                  "6": "2019-01-07",
                  "7": "220.55",
                  "8": "499.99",
                  "9": "149008.0"
                },
                {
                  "0": "surface.laptop3",
                  "1": "9.100526",
                  "2": "89.0",
                  "3": "273.0",
                  "4": "0",
                  "5": "77",
                  "6": "2018-01-30",
                  "7": "623.15",
                  "8": "1199.99",
                  "9": "24297.0"
                },
                {
                  "0": "surface.laptop3",
                  "1": "8.680672",
                  "2": "58.0",
                  "3": "289.0",
                  "4": "0",
                  "5": "102",
                  "6": "2019-01-24",
                  "7": "623.15",
                  "8": "1199.99",
                  "9": "16762.0"
                },
                {
                  "0": "surface.pro7",
                  "1": "9.510741",
                  "2": "135.0",
                  "3": "179.0",
                  "4": "0",
                  "5": "2",
                  "6": "2018-01-04",
                  "7": "400.83",
                  "8": "899.99",
                  "9": "24165.0"
                },
                {
                  "0": "surface.pro7",
                  "1": "8.166216",
                  "2": "35.0",
                  "3": "239.0",
                  "4": "0",
                  "5": "124",
                  "6": "2018-01-13",
                  "7": "400.83",
                  "8": "899.99",
                  "9": "8365.0"
                },
                {
                  "0": "surface.laptop3",
                  "1": "9.121728",
                  "2": "91.0",
                  "3": "299.0",
                  "4": "0",
                  "5": "119",
                  "6": "2018-01-20",
                  "7": "623.15",
                  "8": "1199.99",
                  "9": "27209.0"
                },
                {
                  "0": "surface.go",
                  "1": "9.0492325",
                  "2": "85.0",
                  "3": "189.0",
                  "4": "0",
                  "5": "117",
                  "6": "2019-01-09",
                  "7": "220.55",
                  "8": "499.99",
                  "9": "16065.0"
                },
                {
                  "0": "surface.laptop3",
                  "1": "9.288782",
                  "2": "108.0",
                  "3": "319.0",
                  "4": "0",
                  "5": "53",
                  "6": "2018-01-15",
                  "7": "623.15",
                  "8": "1199.99",
                  "9": "34452.0"
                },
                {
                  "0": "surface.laptop3",
                  "1": "8.971067",
                  "2": "78.0",
                  "3": "239.0",
                  "4": "0",
                  "5": "50",
                  "6": "2017-01-28",
                  "7": "623.15",
                  "8": "1199.99",
                  "9": "18642.0"
                },
                {
                  "0": "surface.go",
                  "1": "8.954674",
                  "2": "77.0",
                  "3": "159.0",
                  "4": "0",
                  "5": "83",
                  "6": "2018-01-28",
                  "7": "220.55",
                  "8": "499.99",
                  "9": "12243.0"
                },
                {
                  "0": "surface.go",
                  "1": "9.651944",
                  "2": "155.0",
                  "3": "189.0",
                  "4": "0",
                  "5": "73",
                  "6": "2017-01-21",
                  "7": "220.55",
                  "8": "499.99",
                  "9": "29295.0"
                },
                {
                  "0": "surface.laptop3",
                  "1": "10.365459",
                  "2": "317.0",
                  "3": "229.0",
                  "4": "1",
                  "5": "12",
                  "6": "2018-01-17",
                  "7": "623.15",
                  "8": "1199.99",
                  "9": "72593.0"
                },
                {
                  "0": "surface.laptop3",
                  "1": "11.593731",
                  "2": "1084.0",
                  "3": "199.0",
                  "4": "1",
                  "5": "71",
                  "6": "2019-01-20",
                  "7": "623.15",
                  "8": "1199.99",
                  "9": "215716.0"
                },
                {
                  "0": "surface.laptop3",
                  "1": "8.733594",
                  "2": "62.0",
                  "3": "359.0",
                  "4": "0",
                  "5": "100",
                  "6": "2018-01-01",
                  "7": "623.15",
                  "8": "1199.99",
                  "9": "22258.0"
                },
                {
                  "0": "surface.pro7",
                  "1": "8.565602",
                  "2": "52.0",
                  "3": "249.0",
                  "4": "1",
                  "5": "40",
                  "6": "2019-01-24",
                  "7": "400.83",
                  "8": "899.99",
                  "9": "12948.0"
                },
                {
                  "0": "surface.go",
                  "1": "11.004763",
                  "2": "601.0",
                  "3": "129.0",
                  "4": "0",
                  "5": "132",
                  "6": "2017-01-09",
                  "7": "220.55",
                  "8": "499.99",
                  "9": "77529.0"
                },
                {
                  "0": "surface.pro7",
                  "1": "8.946375",
                  "2": "76.0",
                  "3": "167.0",
                  "4": "0",
                  "5": "129",
                  "6": "2018-01-16",
                  "7": "400.83",
                  "8": "899.99",
                  "9": "12692.0"
                },
                {
                  "0": "surface.laptop3",
                  "1": "9.389992",
                  "2": "119.0",
                  "3": "299.0",
                  "4": "0",
                  "5": "113",
                  "6": "2019-01-29",
                  "7": "623.15",
                  "8": "1199.99",
                  "9": "35581.0"
                },
                {
                  "0": "surface.pro7",
                  "1": "9.317939",
                  "2": "111.0",
                  "3": "185.0",
                  "4": "0",
                  "5": "70",
                  "6": "2018-01-26",
                  "7": "400.83",
                  "8": "899.99",
                  "9": "20535.0"
                },
                {
                  "0": "surface.laptop3",
                  "1": "8.912474",
                  "2": "74.0",
                  "3": "299.0",
                  "4": "0",
                  "5": "98",
                  "6": "2018-01-31",
                  "7": "623.15",
                  "8": "1199.99",
                  "9": "22126.0"
                },
                {
                  "0": "surface.pro7",
                  "1": "10.418465",
                  "2": "334.0",
                  "3": "259.0",
                  "4": "1",
                  "5": "75",
                  "6": "2017-01-13",
                  "7": "400.83",
                  "8": "899.99",
                  "9": "86506.0"
                },
                {
                  "0": "surface.go",
                  "1": "12.339204",
                  "2": "2284.0",
                  "3": "99.0",
                  "4": "1",
                  "5": "130",
                  "6": "2018-01-02",
                  "7": "220.55",
                  "8": "499.99",
                  "9": "226116.0"
                },
                {
                  "0": "surface.pro7",
                  "1": "8.286017",
                  "2": "39.0",
                  "3": "226.0",
                  "4": "0",
                  "5": "116",
                  "6": "2018-01-25",
                  "7": "400.83",
                  "8": "899.99",
                  "9": "8814.0"
                },
                {
                  "0": "surface.pro7",
                  "1": "8.702178",
                  "2": "60.0",
                  "3": "249.0",
                  "4": "1",
                  "5": "67",
                  "6": "2019-01-17",
                  "7": "400.83",
                  "8": "899.99",
                  "9": "14940.0"
                },
                {
                  "0": "surface.go",
                  "1": "7.9875245",
                  "2": "29.0",
                  "3": "199.0",
                  "4": "0",
                  "5": "45",
                  "6": "2019-01-04",
                  "7": "220.55",
                  "8": "499.99",
                  "9": "5771.0"
                },
                {
                  "0": "surface.laptop3",
                  "1": "10.313741",
                  "2": "301.0",
                  "3": "236.0",
                  "4": "0",
                  "5": "112",
                  "6": "2018-01-28",
                  "7": "623.15",
                  "8": "1199.99",
                  "9": "71036.0"
                },
                {
                  "0": "surface.laptop3",
                  "1": "8.859364",
                  "2": "70.0",
                  "3": "299.0",
                  "4": "0",
                  "5": "102",
                  "6": "2017-01-07",
                  "7": "623.15",
                  "8": "1199.99",
                  "9": "20930.0"
                },
                {
                  "0": "surface.go",
                  "1": "8.995165",
                  "2": "80.0",
                  "3": "189.0",
                  "4": "0",
                  "5": "97",
                  "6": "2017-01-07",
                  "7": "220.55",
                  "8": "499.99",
                  "9": "15120.0"
                },
                {
                  "0": "surface.pro7",
                  "1": "7.9875245",
                  "2": "29.0",
                  "3": "199.0",
                  "4": "0",
                  "5": "91",
                  "6": "2019-01-10",
                  "7": "400.83",
                  "8": "899.99",
                  "9": "5771.0"
                },
                {
                  "0": "surface.pro7",
                  "1": "8.803274",
                  "2": "66.0",
                  "3": "199.0",
                  "4": "0",
                  "5": "59",
                  "6": "2017-01-14",
                  "7": "400.83",
                  "8": "899.99",
                  "9": "13134.0"
                },
                {
                  "0": "surface.pro7",
                  "1": "8.407378",
                  "2": "44.0",
                  "3": "226.0",
                  "4": "0",
                  "5": "90",
                  "6": "2018-01-25",
                  "7": "400.83",
                  "8": "899.99",
                  "9": "9944.0"
                },
                {
                  "0": "surface.laptop3",
                  "1": "9.696218",
                  "2": "162.0",
                  "3": "250.0",
                  "4": "0",
                  "5": "12",
                  "6": "2019-01-11",
                  "7": "623.15",
                  "8": "1199.99",
                  "9": "40500.0"
                },
                {
                  "0": "surface.go",
                  "1": "9.768354",
                  "2": "174.0",
                  "3": "150.0",
                  "4": "1",
                  "5": "21",
                  "6": "2018-01-29",
                  "7": "220.55",
                  "8": "499.99",
                  "9": "26100.0"
                },
                {
                  "0": "surface.pro7",
                  "1": "8.702178",
                  "2": "60.0",
                  "3": "262.0",
                  "4": "0",
                  "5": "122",
                  "6": "2017-01-29",
                  "7": "400.83",
                  "8": "899.99",
                  "9": "15720.0"
                },
                {
                  "0": "surface.go",
                  "1": "9.288782",
                  "2": "108.0",
                  "3": "159.0",
                  "4": "0",
                  "5": "68",
                  "6": "2018-01-12",
                  "7": "220.55",
                  "8": "499.99",
                  "9": "17172.0"
                },
                {
                  "0": "surface.pro7",
                  "1": "9.421574",
                  "2": "123.0",
                  "3": "185.0",
                  "4": "0",
                  "5": "122",
                  "6": "2018-01-30",
                  "7": "400.83",
                  "8": "899.99",
                  "9": "22755.0"
                },
                {
                  "0": "surface.pro7",
                  "1": "8.030084",
                  "2": "30.0",
                  "3": "199.0",
                  "4": "0",
                  "5": "33",
                  "6": "2017-01-23",
                  "7": "400.83",
                  "8": "899.99",
                  "9": "5970.0"
                },
                {
                  "0": "surface.laptop3",
                  "1": "8.954674",
                  "2": "77.0",
                  "3": "351.0",
                  "4": "0",
                  "5": "107",
                  "6": "2017-01-09",
                  "7": "623.15",
                  "8": "1199.99",
                  "9": "27027.0"
                },
                {
                  "0": "surface.go",
                  "1": "11.508114",
                  "2": "995.0",
                  "3": "94.0",
                  "4": "1",
                  "5": "9",
                  "6": "2018-01-08",
                  "7": "220.55",
                  "8": "499.99",
                  "9": "93530.0"
                },
                {
                  "0": "surface.pro7",
                  "1": "8.462948",
                  "2": "47.0",
                  "3": "243.0",
                  "4": "1",
                  "5": "124",
                  "6": "2019-01-11",
                  "7": "400.83",
                  "8": "899.99",
                  "9": "11421.0"
                },
                {
                  "0": "surface.pro7",
                  "1": "7.822445",
                  "2": "24.0",
                  "3": "262.0",
                  "4": "0",
                  "5": "50",
                  "6": "2017-01-20",
                  "7": "400.83",
                  "8": "899.99",
                  "9": "6288.0"
                },
                {
                  "0": "surface.pro7",
                  "1": "10.088472",
                  "2": "240.0",
                  "3": "239.0",
                  "4": "0",
                  "5": "12",
                  "6": "2018-01-21",
                  "7": "400.83",
                  "8": "899.99",
                  "9": "57360.0"
                },
                {
                  "0": "surface.laptop3",
                  "1": "8.995165",
                  "2": "80.0",
                  "3": "319.0",
                  "4": "0",
                  "5": "32",
                  "6": "2019-01-24",
                  "7": "623.15",
                  "8": "1199.99",
                  "9": "25520.0"
                },
                {
                  "0": "surface.laptop3",
                  "1": "8.050703",
                  "2": "31.0",
                  "3": "299.0",
                  "4": "0",
                  "5": "64",
                  "6": "2019-01-18",
                  "7": "623.15",
                  "8": "1199.99",
                  "9": "9269.0"
                },
                {
                  "0": "surface.go",
                  "1": "8.987197",
                  "2": "80.0",
                  "3": "143.0",
                  "4": "0",
                  "5": "54",
                  "6": "2019-01-11",
                  "7": "220.55",
                  "8": "499.99",
                  "9": "11440.0"
                },
                {
                  "0": "surface.go",
                  "1": "7.872455",
                  "2": "26.0",
                  "3": "199.0",
                  "4": "1",
                  "5": "14",
                  "6": "2018-01-01",
                  "7": "220.55",
                  "8": "499.99",
                  "9": "5174.0"
                },
                {
                  "0": "surface.laptop3",
                  "1": "9.35738",
                  "2": "115.0",
                  "3": "307.0",
                  "4": "0",
                  "5": "52",
                  "6": "2018-01-11",
                  "7": "623.15",
                  "8": "1199.99",
                  "9": "35305.0"
                },
                {
                  "0": "surface.laptop3",
                  "1": "7.796469",
                  "2": "24.0",
                  "3": "299.0",
                  "4": "0",
                  "5": "89",
                  "6": "2019-01-07",
                  "7": "623.15",
                  "8": "1199.99",
                  "9": "7176.0"
                },
                {
                  "0": "surface.pro7",
                  "1": "9.86931",
                  "2": "193.0",
                  "3": "179.0",
                  "4": "0",
                  "5": "100",
                  "6": "2018-01-04",
                  "7": "400.83",
                  "8": "899.99",
                  "9": "34547.0"
                },
                {
                  "0": "surface.go",
                  "1": "8.219326",
                  "2": "37.0",
                  "3": "189.0",
                  "4": "0",
                  "5": "119",
                  "6": "2018-01-18",
                  "7": "220.55",
                  "8": "499.99",
                  "9": "6993.0"
                },
                {
                  "0": "surface.laptop3",
                  "1": "8.831712",
                  "2": "68.0",
                  "3": "299.0",
                  "4": "0",
                  "5": "126",
                  "6": "2019-01-23",
                  "7": "623.15",
                  "8": "1199.99",
                  "9": "20332.0"
                },
                {
                  "0": "surface.go",
                  "1": "10.869406",
                  "2": "525.0",
                  "3": "159.0",
                  "4": "0",
                  "5": "102",
                  "6": "2018-01-06",
                  "7": "220.55",
                  "8": "499.99",
                  "9": "83475.0"
                },
                {
                  "0": "surface.pro7",
                  "1": "9.486759",
                  "2": "131.0",
                  "3": "199.0",
                  "4": "1",
                  "5": "106",
                  "6": "2019-01-22",
                  "7": "400.83",
                  "8": "899.99",
                  "9": "26069.0"
                },
                {
                  "0": "surface.pro7",
                  "1": "9.071538",
                  "2": "87.0",
                  "3": "199.0",
                  "4": "0",
                  "5": "132",
                  "6": "2017-01-28",
                  "7": "400.83",
                  "8": "899.99",
                  "9": "17313.0"
                },
                {
                  "0": "surface.go",
                  "1": "7.943073",
                  "2": "28.0",
                  "3": "199.0",
                  "4": "0",
                  "5": "115",
                  "6": "2019-01-16",
                  "7": "220.55",
                  "8": "499.99",
                  "9": "5572.0"
                },
                {
                  "0": "surface.go",
                  "1": "8.363576",
                  "2": "42.0",
                  "3": "158.0",
                  "4": "0",
                  "5": "49",
                  "6": "2019-01-28",
                  "7": "220.55",
                  "8": "499.99",
                  "9": "6636.0"
                },
                {
                  "0": "surface.pro7",
                  "1": "8.147867",
                  "2": "34.0",
                  "3": "213.0",
                  "4": "0",
                  "5": "64",
                  "6": "2018-01-20",
                  "7": "400.83",
                  "8": "899.99",
                  "9": "7242.0"
                },
                {
                  "0": "surface.laptop3",
                  "1": "9.010913",
                  "2": "81.0",
                  "3": "359.0",
                  "4": "0",
                  "5": "12",
                  "6": "2017-01-14",
                  "7": "623.15",
                  "8": "1199.99",
                  "9": "29079.0"
                },
                {
                  "0": "surface.go",
                  "1": "8.33327",
                  "2": "41.0",
                  "3": "219.0",
                  "4": "0",
                  "5": "131",
                  "6": "2018-01-18",
                  "7": "220.55",
                  "8": "499.99",
                  "9": "8979.0"
                },
                {
                  "0": "surface.go",
                  "1": "9.719564",
                  "2": "166.0",
                  "3": "158.0",
                  "4": "0",
                  "5": "18",
                  "6": "2019-01-07",
                  "7": "220.55",
                  "8": "499.99",
                  "9": "26228.0"
                },
                {
                  "0": "surface.pro7",
                  "1": "9.534162",
                  "2": "138.0",
                  "3": "199.0",
                  "4": "0",
                  "5": "12",
                  "6": "2018-01-29",
                  "7": "400.83",
                  "8": "899.99",
                  "9": "27462.0"
                },
                {
                  "0": "surface.go",
                  "1": "10.694124",
                  "2": "440.0",
                  "3": "159.0",
                  "4": "0",
                  "5": "98",
                  "6": "2018-01-12",
                  "7": "220.55",
                  "8": "499.99",
                  "9": "69960.0"
                },
                {
                  "0": "surface.pro7",
                  "1": "9.379239",
                  "2": "118.0",
                  "3": "266.0",
                  "4": "0",
                  "5": "107",
                  "6": "2019-01-07",
                  "7": "400.83",
                  "8": "899.99",
                  "9": "31388.0"
                },
                {
                  "0": "surface.pro7",
                  "1": "9.221478",
                  "2": "101.0",
                  "3": "242.0",
                  "4": "0",
                  "5": "137",
                  "6": "2019-01-07",
                  "7": "400.83",
                  "8": "899.99",
                  "9": "24442.0"
                },
                {
                  "0": "surface.laptop3",
                  "1": "8.565602",
                  "2": "52.0",
                  "3": "339.0",
                  "4": "0",
                  "5": "51",
                  "6": "2018-01-13",
                  "7": "623.15",
                  "8": "1199.99",
                  "9": "17628.0"
                },
                {
                  "0": "surface.pro7",
                  "1": "9.288782",
                  "2": "108.0",
                  "3": "199.0",
                  "4": "0",
                  "5": "94",
                  "6": "2018-01-02",
                  "7": "400.83",
                  "8": "899.99",
                  "9": "21492.0"
                },
                {
                  "0": "surface.go",
                  "1": "9.0492325",
                  "2": "85.0",
                  "3": "169.0",
                  "4": "0",
                  "5": "103",
                  "6": "2019-01-04",
                  "7": "220.55",
                  "8": "499.99",
                  "9": "14365.0"
                },
                {
                  "0": "surface.laptop3",
                  "1": "9.790095",
                  "2": "178.0",
                  "3": "199.0",
                  "4": "0",
                  "5": "114",
                  "6": "2018-01-03",
                  "7": "623.15",
                  "8": "1199.99",
                  "9": "35422.0"
                },
                {
                  "0": "surface.go",
                  "1": "11.771714",
                  "2": "1295.0",
                  "3": "99.0",
                  "4": "1",
                  "5": "84",
                  "6": "2018-01-19",
                  "7": "220.55",
                  "8": "499.99",
                  "9": "128205.0"
                },
                {
                  "0": "surface.laptop3",
                  "1": "8.71276",
                  "2": "60.0",
                  "3": "319.0",
                  "4": "0",
                  "5": "98",
                  "6": "2017-01-24",
                  "7": "623.15",
                  "8": "1199.99",
                  "9": "19140.0"
                },
                {
                  "0": "surface.laptop3",
                  "1": "10.135234",
                  "2": "252.0",
                  "3": "259.0",
                  "4": "0",
                  "5": "107",
                  "6": "2018-01-11",
                  "7": "623.15",
                  "8": "1199.99",
                  "9": "65268.0"
                },
                {
                  "0": "surface.pro7",
                  "1": "11.290582",
                  "2": "800.0",
                  "3": "169.0",
                  "4": "1",
                  "5": "45",
                  "6": "2018-01-18",
                  "7": "400.83",
                  "8": "899.99",
                  "9": "135200.0"
                },
                {
                  "0": "surface.laptop3",
                  "1": "8.166216",
                  "2": "35.0",
                  "3": "339.0",
                  "4": "0",
                  "5": "101",
                  "6": "2018-01-22",
                  "7": "623.15",
                  "8": "1199.99",
                  "9": "11865.0"
                },
                {
                  "0": "surface.laptop3",
                  "1": "9.010913",
                  "2": "81.0",
                  "3": "319.0",
                  "4": "0",
                  "5": "8",
                  "6": "2017-01-20",
                  "7": "623.15",
                  "8": "1199.99",
                  "9": "25839.0"
                },
                {
                  "0": "surface.pro7",
                  "1": "8.363576",
                  "2": "42.0",
                  "3": "249.0",
                  "4": "0",
                  "5": "90",
                  "6": "2018-01-08",
                  "7": "400.83",
                  "8": "899.99",
                  "9": "10458.0"
                },
                {
                  "0": "surface.pro7",
                  "1": "10.008208",
                  "2": "222.0",
                  "3": "199.0",
                  "4": "1",
                  "5": "93",
                  "6": "2019-01-14",
                  "7": "400.83",
                  "8": "899.99",
                  "9": "44178.0"
                },
                {
                  "0": "surface.pro7",
                  "1": "9.107643",
                  "2": "90.0",
                  "3": "169.0",
                  "4": "0",
                  "5": "50",
                  "6": "2019-01-05",
                  "7": "400.83",
                  "8": "899.99",
                  "9": "15210.0"
                },
                {
                  "0": "surface.laptop3",
                  "1": "7.943073",
                  "2": "28.0",
                  "3": "351.0",
                  "4": "0",
                  "5": "91",
                  "6": "2017-01-02",
                  "7": "623.15",
                  "8": "1199.99",
                  "9": "9828.0"
                },
                {
                  "0": "surface.go",
                  "1": "8.435549",
                  "2": "46.0",
                  "3": "158.0",
                  "4": "0",
                  "5": "80",
                  "6": "2018-01-25",
                  "7": "220.55",
                  "8": "499.99",
                  "9": "7268.0"
                },
                {
                  "0": "surface.pro7",
                  "1": "10.389364",
                  "2": "325.0",
                  "3": "259.0",
                  "4": "1",
                  "5": "131",
                  "6": "2017-01-13",
                  "7": "400.83",
                  "8": "899.99",
                  "9": "84175.0"
                },
                {
                  "0": "surface.laptop3",
                  "1": "8.743851",
                  "2": "62.0",
                  "3": "299.0",
                  "4": "0",
                  "5": "48",
                  "6": "2019-01-19",
                  "7": "623.15",
                  "8": "1199.99",
                  "9": "18538.0"
                },
                {
                  "0": "surface.laptop3",
                  "1": "8.841014",
                  "2": "69.0",
                  "3": "366.0",
                  "4": "0",
                  "5": "81",
                  "6": "2017-01-29",
                  "7": "623.15",
                  "8": "1199.99",
                  "9": "25254.0"
                },
                {
                  "0": "surface.pro7",
                  "1": "8.37839",
                  "2": "43.0",
                  "3": "249.0",
                  "4": "0",
                  "5": "67",
                  "6": "2019-01-31",
                  "7": "400.83",
                  "8": "899.99",
                  "9": "10707.0"
                },
                {
                  "0": "surface.go",
                  "1": "8.363576",
                  "2": "42.0",
                  "3": "159.0",
                  "4": "0",
                  "5": "137",
                  "6": "2018-01-27",
                  "7": "220.55",
                  "8": "499.99",
                  "9": "6678.0"
                },
                {
                  "0": "surface.pro7",
                  "1": "9.55251",
                  "2": "140.0",
                  "3": "159.0",
                  "4": "0",
                  "5": "101",
                  "6": "2018-01-16",
                  "7": "400.83",
                  "8": "899.99",
                  "9": "22260.0"
                },
                {
                  "0": "surface.pro7",
                  "1": "8.449343",
                  "2": "46.0",
                  "3": "279.0",
                  "4": "0",
                  "5": "95",
                  "6": "2019-01-07",
                  "7": "400.83",
                  "8": "899.99",
                  "9": "12834.0"
                },
                {
                  "0": "surface.go",
                  "1": "12.320828",
                  "2": "2243.0",
                  "3": "99.0",
                  "4": "1",
                  "5": "76",
                  "6": "2018-01-11",
                  "7": "220.55",
                  "8": "499.99",
                  "9": "222057.0"
                },
                {
                  "0": "surface.laptop3",
                  "1": "8.971067",
                  "2": "78.0",
                  "3": "307.0",
                  "4": "0",
                  "5": "68",
                  "6": "2018-01-18",
                  "7": "623.15",
                  "8": "1199.99",
                  "9": "23946.0"
                },
                {
                  "0": "surface.pro7",
                  "1": "8.462948",
                  "2": "47.0",
                  "3": "246.0",
                  "4": "0",
                  "5": "76",
                  "6": "2018-01-08",
                  "7": "400.83",
                  "8": "899.99",
                  "9": "11562.0"
                },
                {
                  "0": "surface.pro7",
                  "1": "8.317766",
                  "2": "40.0",
                  "3": "317.0",
                  "4": "0",
                  "5": "12",
                  "6": "2017-01-24",
                  "7": "400.83",
                  "8": "899.99",
                  "9": "12680.0"
                },
                {
                  "0": "surface.go",
                  "1": "8.54091",
                  "2": "51.0",
                  "3": "158.0",
                  "4": "1",
                  "5": "51",
                  "6": "2018-01-08",
                  "7": "220.55",
                  "8": "499.99",
                  "9": "8058.0"
                },
                {
                  "0": "surface.laptop3",
                  "1": "7.9875245",
                  "2": "29.0",
                  "3": "366.0",
                  "4": "0",
                  "5": "47",
                  "6": "2017-01-22",
                  "7": "623.15",
                  "8": "1199.99",
                  "9": "10614.0"
                },
                {
                  "0": "surface.laptop3",
                  "1": "8.528331",
                  "2": "50.0",
                  "3": "319.0",
                  "4": "0",
                  "5": "105",
                  "6": "2017-01-31",
                  "7": "623.15",
                  "8": "1199.99",
                  "9": "15950.0"
                },
                {
                  "0": "surface.laptop3",
                  "1": "9.078864",
                  "2": "87.0",
                  "3": "359.0",
                  "4": "0",
                  "5": "52",
                  "6": "2018-01-08",
                  "7": "623.15",
                  "8": "1199.99",
                  "9": "31233.0"
                },
                {
                  "0": "surface.pro7",
                  "1": "9.11471",
                  "2": "90.0",
                  "3": "262.0",
                  "4": "0",
                  "5": "122",
                  "6": "2017-01-31",
                  "7": "400.83",
                  "8": "899.99",
                  "9": "23580.0"
                },
                {
                  "0": "surface.laptop3",
                  "1": "10.488604",
                  "2": "359.0",
                  "3": "239.0",
                  "4": "0",
                  "5": "81",
                  "6": "2017-01-21",
                  "7": "623.15",
                  "8": "1199.99",
                  "9": "85801.0"
                },
                {
                  "0": "surface.pro7",
                  "1": "8.733594",
                  "2": "62.0",
                  "3": "185.0",
                  "4": "0",
                  "5": "59",
                  "6": "2018-01-25",
                  "7": "400.83",
                  "8": "899.99",
                  "9": "11470.0"
                },
                {
                  "0": "surface.laptop3",
                  "1": "7.872455",
                  "2": "26.0",
                  "3": "319.0",
                  "4": "0",
                  "5": "134",
                  "6": "2018-01-25",
                  "7": "623.15",
                  "8": "1199.99",
                  "9": "8294.0"
                },
                {
                  "0": "surface.laptop3",
                  "1": "10.572342",
                  "2": "390.0",
                  "3": "169.0",
                  "4": "1",
                  "5": "56",
                  "6": "2018-01-29",
                  "7": "623.15",
                  "8": "1199.99",
                  "9": "65910.0"
                },
                {
                  "0": "surface.pro7",
                  "1": "8.129175",
                  "2": "33.0",
                  "3": "249.0",
                  "4": "0",
                  "5": "40",
                  "6": "2019-01-06",
                  "7": "400.83",
                  "8": "899.99",
                  "9": "8217.0"
                },
                {
                  "0": "surface.laptop3",
                  "1": "8.803274",
                  "2": "66.0",
                  "3": "244.0",
                  "4": "0",
                  "5": "102",
                  "6": "2018-01-09",
                  "7": "623.15",
                  "8": "1199.99",
                  "9": "16104.0"
                },
                {
                  "0": "surface.go",
                  "1": "8.253227",
                  "2": "38.0",
                  "3": "209.0",
                  "4": "0",
                  "5": "64",
                  "6": "2017-01-17",
                  "7": "220.55",
                  "8": "499.99",
                  "9": "7942.0"
                },
                {
                  "0": "surface.go",
                  "1": "11.167388",
                  "2": "707.0",
                  "3": "132.0",
                  "4": "0",
                  "5": "111",
                  "6": "2019-01-11",
                  "7": "220.55",
                  "8": "499.99",
                  "9": "93324.0"
                },
                {
                  "0": "surface.go",
                  "1": "9.340667",
                  "2": "113.0",
                  "3": "163.0",
                  "4": "0",
                  "5": "131",
                  "6": "2018-01-19",
                  "7": "220.55",
                  "8": "499.99",
                  "9": "18419.0"
                },
                {
                  "0": "surface.pro7",
                  "1": "9.524859",
                  "2": "136.0",
                  "3": "209.0",
                  "4": "0",
                  "5": "119",
                  "6": "2018-01-03",
                  "7": "400.83",
                  "8": "899.99",
                  "9": "28424.0"
                },
                {
                  "0": "surface.laptop3",
                  "1": "7.8477626",
                  "2": "25.0",
                  "3": "366.0",
                  "4": "0",
                  "5": "90",
                  "6": "2017-01-20",
                  "7": "623.15",
                  "8": "1199.99",
                  "9": "9150.0"
                },
                {
                  "0": "surface.go",
                  "1": "8.286017",
                  "2": "39.0",
                  "3": "169.0",
                  "4": "0",
                  "5": "94",
                  "6": "2018-01-28",
                  "7": "220.55",
                  "8": "499.99",
                  "9": "6591.0"
                },
                {
                  "0": "surface.go",
                  "1": "8.868413",
                  "2": "71.0",
                  "3": "171.0",
                  "4": "0",
                  "5": "71",
                  "6": "2018-01-15",
                  "7": "220.55",
                  "8": "499.99",
                  "9": "12141.0"
                },
                {
                  "0": "surface.go",
                  "1": "7.920083",
                  "2": "27.0",
                  "3": "209.0",
                  "4": "0",
                  "5": "76",
                  "6": "2017-01-17",
                  "7": "220.55",
                  "8": "499.99",
                  "9": "5643.0"
                },
                {
                  "0": "surface.pro7",
                  "1": "10.637393",
                  "2": "416.0",
                  "3": "169.0",
                  "4": "0",
                  "5": "74",
                  "6": "2018-01-29",
                  "7": "400.83",
                  "8": "899.99",
                  "9": "70304.0"
                },
                {
                  "0": "surface.pro7",
                  "1": "8.987197",
                  "2": "80.0",
                  "3": "207.0",
                  "4": "0",
                  "5": "44",
                  "6": "2018-01-15",
                  "7": "400.83",
                  "8": "899.99",
                  "9": "16560.0"
                },
                {
                  "0": "surface.laptop3",
                  "1": "8.669743",
                  "2": "58.0",
                  "3": "299.0",
                  "4": "0",
                  "5": "131",
                  "6": "2018-01-06",
                  "7": "623.15",
                  "8": "1199.99",
                  "9": "17342.0"
                },
                {
                  "0": "surface.laptop3",
                  "1": "8.877382",
                  "2": "71.0",
                  "3": "219.0",
                  "4": "0",
                  "5": "103",
                  "6": "2018-01-02",
                  "7": "623.15",
                  "8": "1199.99",
                  "9": "15549.0"
                },
                {
                  "0": "surface.pro7",
                  "1": "8.774004",
                  "2": "64.0",
                  "3": "199.0",
                  "4": "0",
                  "5": "93",
                  "6": "2018-01-29",
                  "7": "400.83",
                  "8": "899.99",
                  "9": "12736.0"
                },
                {
                  "0": "surface.pro7",
                  "1": "8.348537",
                  "2": "42.0",
                  "3": "279.0",
                  "4": "0",
                  "5": "12",
                  "6": "2019-01-02",
                  "7": "400.83",
                  "8": "899.99",
                  "9": "11718.0"
                },
                {
                  "0": "surface.laptop3",
                  "1": "8.962904",
                  "2": "78.0",
                  "3": "359.0",
                  "4": "0",
                  "5": "75",
                  "6": "2018-01-15",
                  "7": "623.15",
                  "8": "1199.99",
                  "9": "28002.0"
                },
                {
                  "0": "surface.pro7",
                  "1": "11.253947",
                  "2": "771.0",
                  "3": "219.0",
                  "4": "1",
                  "5": "53",
                  "6": "2019-01-03",
                  "7": "400.83",
                  "8": "899.99",
                  "9": "168849.0"
                },
                {
                  "0": "surface.pro7",
                  "1": "7.9655457",
                  "2": "28.0",
                  "3": "209.0",
                  "4": "0",
                  "5": "50",
                  "6": "2018-01-12",
                  "7": "400.83",
                  "8": "899.99",
                  "9": "5852.0"
                },
                {
                  "0": "surface.go",
                  "1": "7.2034054",
                  "2": "13.0",
                  "3": "269.0",
                  "4": "0",
                  "5": "68",
                  "6": "2018-01-07",
                  "7": "220.55",
                  "8": "499.99",
                  "9": "3497.0"
                },
                {
                  "0": "surface.laptop3",
                  "1": "10.420375",
                  "2": "335.0",
                  "3": "249.0",
                  "4": "1",
                  "5": "72",
                  "6": "2019-01-05",
                  "7": "623.15",
                  "8": "1199.99",
                  "9": "83415.0"
                },
                {
                  "0": "surface.laptop3",
                  "1": "10.224991",
                  "2": "275.0",
                  "3": "199.0",
                  "4": "1",
                  "5": "94",
                  "6": "2018-01-22",
                  "7": "623.15",
                  "8": "1199.99",
                  "9": "54725.0"
                },
                {
                  "0": "surface.laptop3",
                  "1": "8.553332",
                  "2": "51.0",
                  "3": "299.0",
                  "4": "0",
                  "5": "114",
                  "6": "2019-01-31",
                  "7": "623.15",
                  "8": "1199.99",
                  "9": "15249.0"
                },
                {
                  "0": "surface.laptop3",
                  "1": "7.8477626",
                  "2": "25.0",
                  "3": "366.0",
                  "4": "0",
                  "5": "54",
                  "6": "2017-01-31",
                  "7": "623.15",
                  "8": "1199.99",
                  "9": "9150.0"
                },
                {
                  "0": "surface.laptop3",
                  "1": "8.407378",
                  "2": "44.0",
                  "3": "289.0",
                  "4": "0",
                  "5": "8",
                  "6": "2019-01-21",
                  "7": "623.15",
                  "8": "1199.99",
                  "9": "12716.0"
                },
                {
                  "0": "surface.pro7",
                  "1": "8.37839",
                  "2": "43.0",
                  "3": "299.0",
                  "4": "0",
                  "5": "54",
                  "6": "2017-01-29",
                  "7": "400.83",
                  "8": "899.99",
                  "9": "12857.0"
                },
                {
                  "0": "surface.go",
                  "1": "9.596962",
                  "2": "147.0",
                  "3": "159.0",
                  "4": "0",
                  "5": "32",
                  "6": "2018-01-05",
                  "7": "220.55",
                  "8": "499.99",
                  "9": "23373.0"
                },
                {
                  "0": "surface.laptop3",
                  "1": "8.5777235",
                  "2": "53.0",
                  "3": "319.0",
                  "4": "1",
                  "5": "67",
                  "6": "2017-01-05",
                  "7": "623.15",
                  "8": "1199.99",
                  "9": "16907.0"
                },
                {
                  "0": "surface.pro7",
                  "1": "8.5777235",
                  "2": "53.0",
                  "3": "239.0",
                  "4": "0",
                  "5": "67",
                  "6": "2019-01-07",
                  "7": "400.83",
                  "8": "899.99",
                  "9": "12667.0"
                },
                {
                  "0": "surface.laptop3",
                  "1": "10.336827",
                  "2": "308.0",
                  "3": "169.0",
                  "4": "1",
                  "5": "49",
                  "6": "2018-01-29",
                  "7": "623.15",
                  "8": "1199.99",
                  "9": "52052.0"
                },
                {
                  "0": "surface.go",
                  "1": "8.624791",
                  "2": "55.0",
                  "3": "169.0",
                  "4": "0",
                  "5": "28",
                  "6": "2019-01-25",
                  "7": "220.55",
                  "8": "499.99",
                  "9": "9295.0"
                },
                {
                  "0": "surface.pro7",
                  "1": "10.969026",
                  "2": "580.0",
                  "3": "199.0",
                  "4": "1",
                  "5": "73",
                  "6": "2017-01-22",
                  "7": "400.83",
                  "8": "899.99",
                  "9": "115420.0"
                },
                {
                  "0": "surface.go",
                  "1": "7.2034054",
                  "2": "13.0",
                  "3": "229.0",
                  "4": "0",
                  "5": "78",
                  "6": "2017-01-13",
                  "7": "220.55",
                  "8": "499.99",
                  "9": "2977.0"
                },
                {
                  "0": "surface.go",
                  "1": "11.279327",
                  "2": "791.0",
                  "3": "129.0",
                  "4": "1",
                  "5": "86",
                  "6": "2019-01-18",
                  "7": "220.55",
                  "8": "499.99",
                  "9": "102039.0"
                },
                {
                  "0": "surface.pro7",
                  "1": "10.0110855",
                  "2": "222.0",
                  "3": "199.0",
                  "4": "1",
                  "5": "95",
                  "6": "2017-01-07",
                  "7": "400.83",
                  "8": "899.99",
                  "9": "44178.0"
                },
                {
                  "0": "surface.pro7",
                  "1": "8.8862705",
                  "2": "72.0",
                  "3": "199.0",
                  "4": "0",
                  "5": "114",
                  "6": "2018-01-17",
                  "7": "400.83",
                  "8": "899.99",
                  "9": "14328.0"
                },
                {
                  "0": "surface.laptop3",
                  "1": "9.026418",
                  "2": "83.0",
                  "3": "387.0",
                  "4": "0",
                  "5": "33",
                  "6": "2017-01-06",
                  "7": "623.15",
                  "8": "1199.99",
                  "9": "32121.0"
                },
                {
                  "0": "surface.laptop3",
                  "1": "9.501217",
                  "2": "133.0",
                  "3": "268.0",
                  "4": "1",
                  "5": "126",
                  "6": "2018-01-20",
                  "7": "623.15",
                  "8": "1199.99",
                  "9": "35644.0"
                },
                {
                  "0": "surface.pro7",
                  "1": "8.37839",
                  "2": "43.0",
                  "3": "299.0",
                  "4": "0",
                  "5": "81",
                  "6": "2017-01-24",
                  "7": "400.83",
                  "8": "899.99",
                  "9": "12857.0"
                },
                {
                  "0": "surface.pro7",
                  "1": "9.221478",
                  "2": "101.0",
                  "3": "199.0",
                  "4": "0",
                  "5": "104",
                  "6": "2019-01-28",
                  "7": "400.83",
                  "8": "899.99",
                  "9": "20099.0"
                },
                {
                  "0": "surface.laptop3",
                  "1": "9.486759",
                  "2": "131.0",
                  "3": "273.0",
                  "4": "0",
                  "5": "70",
                  "6": "2018-01-28",
                  "7": "623.15",
                  "8": "1199.99",
                  "9": "35763.0"
                },
                {
                  "0": "surface.pro7",
                  "1": "10.096419",
                  "2": "242.0",
                  "3": "199.0",
                  "4": "1",
                  "5": "90",
                  "6": "2018-01-13",
                  "7": "400.83",
                  "8": "899.99",
                  "9": "48158.0"
                },
                {
                  "0": "surface.go",
                  "1": "6.8669333",
                  "2": "9.0",
                  "3": "269.0",
                  "4": "0",
                  "5": "123",
                  "6": "2017-01-20",
                  "7": "220.55",
                  "8": "499.99",
                  "9": "2421.0"
                },
                {
                  "0": "surface.pro7",
                  "1": "8.392989",
                  "2": "44.0",
                  "3": "226.0",
                  "4": "0",
                  "5": "115",
                  "6": "2018-01-08",
                  "7": "400.83",
                  "8": "899.99",
                  "9": "9944.0"
                },
                {
                  "0": "surface.go",
                  "1": "8.030084",
                  "2": "30.0",
                  "3": "249.0",
                  "4": "0",
                  "5": "88",
                  "6": "2017-01-06",
                  "7": "220.55",
                  "8": "499.99",
                  "9": "7470.0"
                },
                {
                  "0": "surface.laptop3",
                  "1": "8.624791",
                  "2": "55.0",
                  "3": "339.0",
                  "4": "0",
                  "5": "56",
                  "6": "2018-01-23",
                  "7": "623.15",
                  "8": "1199.99",
                  "9": "18645.0"
                },
                {
                  "0": "surface.pro7",
                  "1": "9.942708",
                  "2": "208.0",
                  "3": "226.0",
                  "4": "0",
                  "5": "5",
                  "6": "2018-01-21",
                  "7": "400.83",
                  "8": "899.99",
                  "9": "47008.0"
                },
                {
                  "0": "surface.laptop3",
                  "1": "9.588229",
                  "2": "145.0",
                  "3": "279.0",
                  "4": "1",
                  "5": "93",
                  "6": "2019-01-22",
                  "7": "623.15",
                  "8": "1199.99",
                  "9": "40455.0"
                },
                {
                  "0": "surface.pro7",
                  "1": "8.363576",
                  "2": "42.0",
                  "3": "199.0",
                  "4": "0",
                  "5": "103",
                  "6": "2018-01-02",
                  "7": "400.83",
                  "8": "899.99",
                  "9": "8358.0"
                },
                {
                  "0": "surface.go",
                  "1": "8.733594",
                  "2": "62.0",
                  "3": "199.0",
                  "4": "0",
                  "5": "47",
                  "6": "2019-01-16",
                  "7": "220.55",
                  "8": "499.99",
                  "9": "12338.0"
                },
                {
                  "0": "surface.pro7",
                  "1": "9.135617",
                  "2": "92.0",
                  "3": "199.0",
                  "4": "0",
                  "5": "132",
                  "6": "2018-01-13",
                  "7": "400.83",
                  "8": "899.99",
                  "9": "18308.0"
                },
                {
                  "0": "surface.laptop3",
                  "1": "9.078864",
                  "2": "87.0",
                  "3": "279.0",
                  "4": "1",
                  "5": "111",
                  "6": "2019-01-22",
                  "7": "623.15",
                  "8": "1199.99",
                  "9": "24273.0"
                },
                {
                  "0": "surface.laptop3",
                  "1": "9.056723",
                  "2": "85.0",
                  "3": "274.0",
                  "4": "0",
                  "5": "134",
                  "6": "2019-01-28",
                  "7": "623.15",
                  "8": "1199.99",
                  "9": "23290.0"
                },
                {
                  "0": "surface.go",
                  "1": "10.65867",
                  "2": "425.0",
                  "3": "158.0",
                  "4": "1",
                  "5": "74",
                  "6": "2018-01-13",
                  "7": "220.55",
                  "8": "499.99",
                  "9": "67150.0"
                },
                {
                  "0": "surface.pro7",
                  "1": "8.030084",
                  "2": "30.0",
                  "3": "266.0",
                  "4": "0",
                  "5": "119",
                  "6": "2019-01-02",
                  "7": "400.83",
                  "8": "899.99",
                  "9": "7980.0"
                },
                {
                  "0": "surface.pro7",
                  "1": "9.852615",
                  "2": "190.0",
                  "3": "200.0",
                  "4": "1",
                  "5": "129",
                  "6": "2019-01-04",
                  "7": "400.83",
                  "8": "899.99",
                  "9": "38000.0"
                },
                {
                  "0": "surface.pro7",
                  "1": "10.025352",
                  "2": "225.0",
                  "3": "199.0",
                  "4": "1",
                  "5": "114",
                  "6": "2018-01-01",
                  "7": "400.83",
                  "8": "899.99",
                  "9": "44775.0"
                },
                {
                  "0": "surface.laptop3",
                  "1": "8.850231",
                  "2": "69.0",
                  "3": "359.0",
                  "4": "0",
                  "5": "72",
                  "6": "2017-01-07",
                  "7": "623.15",
                  "8": "1199.99",
                  "9": "24771.0"
                },
                {
                  "0": "surface.laptop3",
                  "1": "9.614204",
                  "2": "149.0",
                  "3": "250.0",
                  "4": "1",
                  "5": "48",
                  "6": "2019-01-04",
                  "7": "623.15",
                  "8": "1199.99",
                  "9": "37250.0"
                },
                {
                  "0": "surface.laptop3",
                  "1": "9.162829",
                  "2": "95.0",
                  "3": "387.0",
                  "4": "0",
                  "5": "128",
                  "6": "2017-01-26",
                  "7": "623.15",
                  "8": "1199.99",
                  "9": "36765.0"
                },
                {
                  "0": "surface.pro7",
                  "1": "10.773608",
                  "2": "477.0",
                  "3": "149.0",
                  "4": "1",
                  "5": "112",
                  "6": "2018-01-14",
                  "7": "400.83",
                  "8": "899.99",
                  "9": "71073.0"
                },
                {
                  "0": "surface.go",
                  "1": "9.36289",
                  "2": "116.0",
                  "3": "159.0",
                  "4": "0",
                  "5": "21",
                  "6": "2019-01-03",
                  "7": "220.55",
                  "8": "499.99",
                  "9": "18444.0"
                },
                {
                  "0": "surface.go",
                  "1": "8.407378",
                  "2": "44.0",
                  "3": "158.0",
                  "4": "0",
                  "5": "83",
                  "6": "2018-01-01",
                  "7": "220.55",
                  "8": "499.99",
                  "9": "6952.0"
                },
                {
                  "0": "surface.laptop3",
                  "1": "9.411157",
                  "2": "122.0",
                  "3": "319.0",
                  "4": "0",
                  "5": "122",
                  "6": "2017-01-10",
                  "7": "623.15",
                  "8": "1199.99",
                  "9": "38918.0"
                },
                {
                  "0": "surface.pro7",
                  "1": "10.313741",
                  "2": "301.0",
                  "3": "259.0",
                  "4": "1",
                  "5": "76",
                  "6": "2017-01-13",
                  "7": "400.83",
                  "8": "899.99",
                  "9": "77959.0"
                },
                {
                  "0": "surface.pro7",
                  "1": "10.238816",
                  "2": "279.0",
                  "3": "169.0",
                  "4": "1",
                  "5": "117",
                  "6": "2018-01-28",
                  "7": "400.83",
                  "8": "899.99",
                  "9": "47151.0"
                },
                {
                  "0": "surface.pro7",
                  "1": "10.088472",
                  "2": "240.0",
                  "3": "179.0",
                  "4": "1",
                  "5": "103",
                  "6": "2019-01-23",
                  "7": "400.83",
                  "8": "899.99",
                  "9": "42960.0"
                },
                {
                  "0": "surface.laptop3",
                  "1": "7.2499256",
                  "2": "14.0",
                  "3": "310.0",
                  "4": "0",
                  "5": "97",
                  "6": "2018-01-11",
                  "7": "623.15",
                  "8": "1199.99",
                  "9": "4340.0"
                },
                {
                  "0": "surface.go",
                  "1": "8.71276",
                  "2": "60.0",
                  "3": "159.0",
                  "4": "0",
                  "5": "50",
                  "6": "2018-01-19",
                  "7": "220.55",
                  "8": "499.99",
                  "9": "9540.0"
                },
                {
                  "0": "surface.laptop3",
                  "1": "8.938006",
                  "2": "76.0",
                  "3": "249.0",
                  "4": "0",
                  "5": "50",
                  "6": "2018-01-08",
                  "7": "623.15",
                  "8": "1199.99",
                  "9": "18924.0"
                },
                {
                  "0": "surface.pro7",
                  "1": "8.302018",
                  "2": "40.0",
                  "3": "209.0",
                  "4": "0",
                  "5": "97",
                  "6": "2018-01-26",
                  "7": "400.83",
                  "8": "899.99",
                  "9": "8360.0"
                },
                {
                  "0": "surface.go",
                  "1": "8.624791",
                  "2": "55.0",
                  "3": "153.0",
                  "4": "0",
                  "5": "100",
                  "6": "2018-01-13",
                  "7": "220.55",
                  "8": "499.99",
                  "9": "8415.0"
                },
                {
                  "0": "surface.pro7",
                  "1": "8.421563",
                  "2": "45.0",
                  "3": "266.0",
                  "4": "0",
                  "5": "117",
                  "6": "2019-01-07",
                  "7": "400.83",
                  "8": "899.99",
                  "9": "11970.0"
                },
                {
                  "0": "surface.laptop3",
                  "1": "8.912474",
                  "2": "74.0",
                  "3": "366.0",
                  "4": "0",
                  "5": "113",
                  "6": "2017-01-10",
                  "7": "623.15",
                  "8": "1199.99",
                  "9": "27084.0"
                },
                {
                  "0": "surface.pro7",
                  "1": "8.754003",
                  "2": "63.0",
                  "3": "226.0",
                  "4": "0",
                  "5": "48",
                  "6": "2018-01-15",
                  "7": "400.83",
                  "8": "899.99",
                  "9": "14238.0"
                },
                {
                  "0": "surface.go",
                  "1": "7.769801",
                  "2": "23.0",
                  "3": "189.0",
                  "4": "0",
                  "5": "50",
                  "6": "2017-01-07",
                  "7": "220.55",
                  "8": "499.99",
                  "9": "4347.0"
                },
                {
                  "0": "surface.laptop3",
                  "1": "8.723231",
                  "2": "61.0",
                  "3": "387.0",
                  "4": "0",
                  "5": "100",
                  "6": "2017-01-29",
                  "7": "623.15",
                  "8": "1199.99",
                  "9": "23607.0"
                },
                {
                  "0": "surface.laptop3",
                  "1": "8.841014",
                  "2": "69.0",
                  "3": "299.0",
                  "4": "0",
                  "5": "98",
                  "6": "2018-01-10",
                  "7": "623.15",
                  "8": "1199.99",
                  "9": "20631.0"
                },
                {
                  "0": "surface.pro7",
                  "1": "10.513253",
                  "2": "368.0",
                  "3": "199.0",
                  "4": "1",
                  "5": "89",
                  "6": "2017-01-12",
                  "7": "400.83",
                  "8": "899.99",
                  "9": "73232.0"
                },
                {
                  "0": "surface.go",
                  "1": "8.723231",
                  "2": "61.0",
                  "3": "269.0",
                  "4": "0",
                  "5": "95",
                  "6": "2018-01-25",
                  "7": "220.55",
                  "8": "499.99",
                  "9": "16409.0"
                },
                {
                  "0": "surface.go",
                  "1": "7.41698",
                  "2": "16.0",
                  "3": "199.0",
                  "4": "0",
                  "5": "115",
                  "6": "2019-01-05",
                  "7": "220.55",
                  "8": "499.99",
                  "9": "3184.0"
                },
                {
                  "0": "surface.go",
                  "1": "10.802672",
                  "2": "491.0",
                  "3": "189.0",
                  "4": "1",
                  "5": "74",
                  "6": "2017-01-31",
                  "7": "220.55",
                  "8": "499.99",
                  "9": "92799.0"
                },
                {
                  "0": "surface.go",
                  "1": "7.59287",
                  "2": "19.0",
                  "3": "219.0",
                  "4": "0",
                  "5": "129",
                  "6": "2017-01-21",
                  "7": "220.55",
                  "8": "499.99",
                  "9": "4161.0"
                },
                {
                  "0": "surface.laptop3",
                  "1": "8.979165",
                  "2": "79.0",
                  "3": "359.0",
                  "4": "0",
                  "5": "2",
                  "6": "2018-01-08",
                  "7": "623.15",
                  "8": "1199.99",
                  "9": "28361.0"
                },
                {
                  "0": "surface.pro7",
                  "1": "8.658692",
                  "2": "57.0",
                  "3": "266.0",
                  "4": "0",
                  "5": "101",
                  "6": "2019-01-16",
                  "7": "400.83",
                  "8": "899.99",
                  "9": "15162.0"
                },
                {
                  "0": "surface.laptop3",
                  "1": "8.528331",
                  "2": "50.0",
                  "3": "359.0",
                  "4": "0",
                  "5": "124",
                  "6": "2018-01-01",
                  "7": "623.15",
                  "8": "1199.99",
                  "9": "17950.0"
                },
                {
                  "0": "surface.go",
                  "1": "9.505991",
                  "2": "134.0",
                  "3": "159.0",
                  "4": "0",
                  "5": "137",
                  "6": "2019-01-19",
                  "7": "220.55",
                  "8": "499.99",
                  "9": "21306.0"
                },
                {
                  "0": "surface.laptop3",
                  "1": "8.868413",
                  "2": "71.0",
                  "3": "273.0",
                  "4": "0",
                  "5": "83",
                  "6": "2018-01-01",
                  "7": "623.15",
                  "8": "1199.99",
                  "9": "19383.0"
                },
                {
                  "0": "surface.laptop3",
                  "1": "9.306377",
                  "2": "110.0",
                  "3": "299.0",
                  "4": "0",
                  "5": "121",
                  "6": "2018-01-01",
                  "7": "623.15",
                  "8": "1199.99",
                  "9": "32890.0"
                },
                {
                  "0": "surface.go",
                  "1": "8.462948",
                  "2": "47.0",
                  "3": "158.0",
                  "4": "0",
                  "5": "93",
                  "6": "2019-01-04",
                  "7": "220.55",
                  "8": "499.99",
                  "9": "7426.0"
                },
                {
                  "0": "surface.pro7",
                  "1": "10.4760475",
                  "2": "354.0",
                  "3": "149.0",
                  "4": "1",
                  "5": "8",
                  "6": "2018-01-14",
                  "7": "400.83",
                  "8": "899.99",
                  "9": "52746.0"
                },
                {
                  "0": "surface.pro7",
                  "1": "8.5897",
                  "2": "53.0",
                  "3": "226.0",
                  "4": "0",
                  "5": "84",
                  "6": "2018-01-17",
                  "7": "400.83",
                  "8": "899.99",
                  "9": "11978.0"
                },
                {
                  "0": "surface.go",
                  "1": "9.300547",
                  "2": "109.0",
                  "3": "129.0",
                  "4": "0",
                  "5": "48",
                  "6": "2017-01-09",
                  "7": "220.55",
                  "8": "499.99",
                  "9": "14061.0"
                },
                {
                  "0": "surface.pro7",
                  "1": "9.574984",
                  "2": "144.0",
                  "3": "266.0",
                  "4": "0",
                  "5": "86",
                  "6": "2019-01-28",
                  "7": "400.83",
                  "8": "899.99",
                  "9": "38304.0"
                },
                {
                  "0": "surface.go",
                  "1": "9.227787",
                  "2": "101.0",
                  "3": "202.0",
                  "4": "0",
                  "5": "130",
                  "6": "2019-01-20",
                  "7": "220.55",
                  "8": "499.99",
                  "9": "20402.0"
                },
                {
                  "0": "surface.pro7",
                  "1": "9.579418",
                  "2": "144.0",
                  "3": "169.0",
                  "4": "0",
                  "5": "21",
                  "6": "2018-01-05",
                  "7": "400.83",
                  "8": "899.99",
                  "9": "24336.0"
                },
                {
                  "0": "surface.laptop3",
                  "1": "9.373818",
                  "2": "117.0",
                  "3": "387.0",
                  "4": "0",
                  "5": "62",
                  "6": "2017-01-15",
                  "7": "623.15",
                  "8": "1199.99",
                  "9": "45279.0"
                },
                {
                  "0": "surface.go",
                  "1": "9.182764",
                  "2": "97.0",
                  "3": "159.0",
                  "4": "1",
                  "5": "112",
                  "6": "2018-01-29",
                  "7": "220.55",
                  "8": "499.99",
                  "9": "15423.0"
                },
                {
                  "0": "surface.go",
                  "1": "8.877382",
                  "2": "71.0",
                  "3": "159.0",
                  "4": "0",
                  "5": "114",
                  "6": "2018-01-31",
                  "7": "220.55",
                  "8": "499.99",
                  "9": "11289.0"
                },
                {
                  "0": "surface.go",
                  "1": "8.462948",
                  "2": "47.0",
                  "3": "189.0",
                  "4": "0",
                  "5": "9",
                  "6": "2019-01-09",
                  "7": "220.55",
                  "8": "499.99",
                  "9": "8883.0"
                },
                {
                  "0": "surface.go",
                  "1": "10.7987585",
                  "2": "489.0",
                  "3": "179.0",
                  "4": "1",
                  "5": "114",
                  "6": "2017-01-28",
                  "7": "220.55",
                  "8": "499.99",
                  "9": "87531.0"
                },
                {
                  "0": "surface.laptop3",
                  "1": "7.769801",
                  "2": "23.0",
                  "3": "366.0",
                  "4": "0",
                  "5": "64",
                  "6": "2017-01-17",
                  "7": "623.15",
                  "8": "1199.99",
                  "9": "8418.0"
                },
                {
                  "0": "surface.go",
                  "1": "8.850231",
                  "2": "69.0",
                  "3": "229.0",
                  "4": "0",
                  "5": "94",
                  "6": "2017-01-27",
                  "7": "220.55",
                  "8": "499.99",
                  "9": "15801.0"
                },
                {
                  "0": "surface.laptop3",
                  "1": "7.769801",
                  "2": "23.0",
                  "3": "339.0",
                  "4": "0",
                  "5": "50",
                  "6": "2018-01-21",
                  "7": "623.15",
                  "8": "1199.99",
                  "9": "7797.0"
                },
                {
                  "0": "surface.laptop3",
                  "1": "8.743851",
                  "2": "62.0",
                  "3": "339.0",
                  "4": "0",
                  "5": "118",
                  "6": "2018-01-01",
                  "7": "623.15",
                  "8": "1199.99",
                  "9": "21018.0"
                },
                {
                  "0": "surface.go",
                  "1": "9.416378",
                  "2": "122.0",
                  "3": "154.0",
                  "4": "0",
                  "5": "123",
                  "6": "2019-01-28",
                  "7": "220.55",
                  "8": "499.99",
                  "9": "18788.0"
                },
                {
                  "0": "surface.go",
                  "1": "9.182764",
                  "2": "97.0",
                  "3": "158.0",
                  "4": "0",
                  "5": "28",
                  "6": "2019-01-21",
                  "7": "220.55",
                  "8": "499.99",
                  "9": "15326.0"
                },
                {
                  "0": "surface.laptop3",
                  "1": "9.978966",
                  "2": "215.0",
                  "3": "279.0",
                  "4": "1",
                  "5": "72",
                  "6": "2019-01-26",
                  "7": "623.15",
                  "8": "1199.99",
                  "9": "59985.0"
                },
                {
                  "0": "surface.pro7",
                  "1": "9.596962",
                  "2": "147.0",
                  "3": "199.0",
                  "4": "1",
                  "5": "95",
                  "6": "2019-01-14",
                  "7": "400.83",
                  "8": "899.99",
                  "9": "29253.0"
                },
                {
                  "0": "surface.pro7",
                  "1": "9.811372",
                  "2": "182.0",
                  "3": "174.0",
                  "4": "0",
                  "5": "100",
                  "6": "2019-01-05",
                  "7": "400.83",
                  "8": "899.99",
                  "9": "31668.0"
                },
                {
                  "0": "surface.go",
                  "1": "6.9920964",
                  "2": "10.0",
                  "3": "219.0",
                  "4": "1",
                  "5": "91",
                  "6": "2018-01-26",
                  "7": "220.55",
                  "8": "499.99",
                  "9": "2190.0"
                },
                {
                  "0": "surface.go",
                  "1": "7.822445",
                  "2": "24.0",
                  "3": "209.0",
                  "4": "0",
                  "5": "122",
                  "6": "2017-01-17",
                  "7": "220.55",
                  "8": "499.99",
                  "9": "5016.0"
                },
                {
                  "0": "surface.pro7",
                  "1": "8.070906",
                  "2": "32.0",
                  "3": "317.0",
                  "4": "0",
                  "5": "14",
                  "6": "2017-01-31",
                  "7": "400.83",
                  "8": "899.99",
                  "9": "10144.0"
                },
                {
                  "0": "surface.laptop3",
                  "1": "9.472089",
                  "2": "129.0",
                  "3": "319.0",
                  "4": "0",
                  "5": "72",
                  "6": "2019-01-30",
                  "7": "623.15",
                  "8": "1199.99",
                  "9": "41151.0"
                },
                {
                  "0": "surface.pro7",
                  "1": "10.11472",
                  "2": "247.0",
                  "3": "197.0",
                  "4": "1",
                  "5": "89",
                  "6": "2019-01-17",
                  "7": "400.83",
                  "8": "899.99",
                  "9": "48659.0"
                },
                {
                  "0": "surface.pro7",
                  "1": "8.5897",
                  "2": "53.0",
                  "3": "226.0",
                  "4": "0",
                  "5": "118",
                  "6": "2018-01-25",
                  "7": "400.83",
                  "8": "899.99",
                  "9": "11978.0"
                },
                {
                  "0": "surface.laptop3",
                  "1": "8.624791",
                  "2": "55.0",
                  "3": "299.0",
                  "4": "0",
                  "5": "8",
                  "6": "2018-01-06",
                  "7": "623.15",
                  "8": "1199.99",
                  "9": "16445.0"
                },
                {
                  "0": "surface.laptop3",
                  "1": "9.086137",
                  "2": "88.0",
                  "3": "359.0",
                  "4": "0",
                  "5": "32",
                  "6": "2018-01-31",
                  "7": "623.15",
                  "8": "1199.99",
                  "9": "31592.0"
                },
                {
                  "0": "surface.go",
                  "1": "10.256957",
                  "2": "284.0",
                  "3": "158.0",
                  "4": "1",
                  "5": "78",
                  "6": "2018-01-29",
                  "7": "220.55",
                  "8": "499.99",
                  "9": "44872.0"
                },
                {
                  "0": "surface.laptop3",
                  "1": "9.373818",
                  "2": "117.0",
                  "3": "277.0",
                  "4": "1",
                  "5": "131",
                  "6": "2018-01-26",
                  "7": "623.15",
                  "8": "1199.99",
                  "9": "32409.0"
                },
                {
                  "0": "surface.pro7",
                  "1": "10.545762",
                  "2": "380.0",
                  "3": "199.0",
                  "4": "1",
                  "5": "76",
                  "6": "2018-01-01",
                  "7": "400.83",
                  "8": "899.99",
                  "9": "75620.0"
                },
                {
                  "0": "surface.pro7",
                  "1": "9.128696",
                  "2": "92.0",
                  "3": "299.0",
                  "4": "0",
                  "5": "104",
                  "6": "2017-01-05",
                  "7": "400.83",
                  "8": "899.99",
                  "9": "27508.0"
                },
                {
                  "0": "surface.laptop3",
                  "1": "7.526179",
                  "2": "18.0",
                  "3": "339.0",
                  "4": "0",
                  "5": "117",
                  "6": "2018-01-22",
                  "7": "623.15",
                  "8": "1199.99",
                  "9": "6102.0"
                },
                {
                  "0": "surface.go",
                  "1": "9.346269",
                  "2": "114.0",
                  "3": "158.0",
                  "4": "0",
                  "5": "116",
                  "6": "2019-01-21",
                  "7": "220.55",
                  "8": "499.99",
                  "9": "18012.0"
                },
                {
                  "0": "surface.go",
                  "1": "8.236421",
                  "2": "37.0",
                  "3": "187.0",
                  "4": "0",
                  "5": "134",
                  "6": "2019-01-15",
                  "7": "220.55",
                  "8": "499.99",
                  "9": "6919.0"
                },
                {
                  "0": "surface.laptop3",
                  "1": "8.515592",
                  "2": "49.0",
                  "3": "259.0",
                  "4": "0",
                  "5": "118",
                  "6": "2018-01-18",
                  "7": "623.15",
                  "8": "1199.99",
                  "9": "12691.0"
                },
                {
                  "0": "surface.pro7",
                  "1": "9.11471",
                  "2": "90.0",
                  "3": "249.0",
                  "4": "0",
                  "5": "128",
                  "6": "2018-01-08",
                  "7": "400.83",
                  "8": "899.99",
                  "9": "22410.0"
                },
                {
                  "0": "surface.go",
                  "1": "7.920083",
                  "2": "27.0",
                  "3": "199.0",
                  "4": "0",
                  "5": "118",
                  "6": "2019-01-12",
                  "7": "220.55",
                  "8": "499.99",
                  "9": "5373.0"
                },
                {
                  "0": "surface.go",
                  "1": "8.553332",
                  "2": "51.0",
                  "3": "189.0",
                  "4": "0",
                  "5": "76",
                  "6": "2018-01-05",
                  "7": "220.55",
                  "8": "499.99",
                  "9": "9639.0"
                },
                {
                  "0": "surface.pro7",
                  "1": "9.601301",
                  "2": "147.0",
                  "3": "199.0",
                  "4": "0",
                  "5": "118",
                  "6": "2017-01-23",
                  "7": "400.83",
                  "8": "899.99",
                  "9": "29253.0"
                },
                {
                  "0": "surface.laptop3",
                  "1": "10.722738",
                  "2": "453.0",
                  "3": "199.0",
                  "4": "1",
                  "5": "92",
                  "6": "2018-01-22",
                  "7": "623.15",
                  "8": "1199.99",
                  "9": "90147.0"
                },
                {
                  "0": "surface.go",
                  "1": "8.658692",
                  "2": "57.0",
                  "3": "149.0",
                  "4": "0",
                  "5": "45",
                  "6": "2018-01-23",
                  "7": "220.55",
                  "8": "499.99",
                  "9": "8493.0"
                },
                {
                  "0": "surface.go",
                  "1": "10.096419",
                  "2": "242.0",
                  "3": "149.0",
                  "4": "0",
                  "5": "130",
                  "6": "2018-01-23",
                  "7": "220.55",
                  "8": "499.99",
                  "9": "36058.0"
                },
                {
                  "0": "surface.laptop3",
                  "1": "9.270871",
                  "2": "106.0",
                  "3": "199.0",
                  "4": "0",
                  "5": "116",
                  "6": "2018-01-14",
                  "7": "623.15",
                  "8": "1199.99",
                  "9": "21094.0"
                },
                {
                  "0": "surface.laptop3",
                  "1": "10.373491",
                  "2": "320.0",
                  "3": "359.0",
                  "4": "0",
                  "5": "137",
                  "6": "2018-01-28",
                  "7": "623.15",
                  "8": "1199.99",
                  "9": "114880.0"
                },
                {
                  "0": "surface.pro7",
                  "1": "8.938006",
                  "2": "76.0",
                  "3": "254.0",
                  "4": "0",
                  "5": "131",
                  "6": "2019-01-31",
                  "7": "400.83",
                  "8": "899.99",
                  "9": "19304.0"
                },
                {
                  "0": "surface.laptop3",
                  "1": "8.822322",
                  "2": "67.0",
                  "3": "339.0",
                  "4": "1",
                  "5": "76",
                  "6": "2018-01-26",
                  "7": "623.15",
                  "8": "1199.99",
                  "9": "22713.0"
                },
                {
                  "0": "surface.pro7",
                  "1": "8.147867",
                  "2": "34.0",
                  "3": "299.0",
                  "4": "0",
                  "5": "81",
                  "6": "2017-01-21",
                  "7": "400.83",
                  "8": "899.99",
                  "9": "10166.0"
                },
                {
                  "0": "surface.pro7",
                  "1": "10.780289",
                  "2": "480.0",
                  "3": "169.0",
                  "4": "1",
                  "5": "40",
                  "6": "2018-01-28",
                  "7": "400.83",
                  "8": "899.99",
                  "9": "81120.0"
                },
                {
                  "0": "surface.pro7",
                  "1": "10.203888",
                  "2": "270.0",
                  "3": "199.0",
                  "4": "1",
                  "5": "118",
                  "6": "2019-01-14",
                  "7": "400.83",
                  "8": "899.99",
                  "9": "53730.0"
                },
                {
                  "0": "surface.pro7",
                  "1": "10.064245",
                  "2": "234.0",
                  "3": "199.0",
                  "4": "1",
                  "5": "94",
                  "6": "2017-01-12",
                  "7": "400.83",
                  "8": "899.99",
                  "9": "46566.0"
                },
                {
                  "0": "surface.laptop3",
                  "1": "8.962904",
                  "2": "78.0",
                  "3": "267.0",
                  "4": "0",
                  "5": "70",
                  "6": "2017-01-13",
                  "7": "623.15",
                  "8": "1199.99",
                  "9": "20826.0"
                },
                {
                  "0": "surface.laptop3",
                  "1": "9.832207",
                  "2": "186.0",
                  "3": "229.0",
                  "4": "0",
                  "5": "52",
                  "6": "2019-01-17",
                  "7": "623.15",
                  "8": "1199.99",
                  "9": "42594.0"
                },
                {
                  "0": "surface.laptop3",
                  "1": "8.7936125",
                  "2": "65.0",
                  "3": "351.0",
                  "4": "0",
                  "5": "44",
                  "6": "2017-01-26",
                  "7": "623.15",
                  "8": "1199.99",
                  "9": "22815.0"
                },
                {
                  "0": "surface.go",
                  "1": "9.707959",
                  "2": "164.0",
                  "3": "159.0",
                  "4": "1",
                  "5": "86",
                  "6": "2017-01-23",
                  "7": "220.55",
                  "8": "499.99",
                  "9": "26076.0"
                },
                {
                  "0": "surface.pro7",
                  "1": "7.920083",
                  "2": "27.0",
                  "3": "226.0",
                  "4": "0",
                  "5": "76",
                  "6": "2018-01-31",
                  "7": "400.83",
                  "8": "899.99",
                  "9": "6102.0"
                },
                {
                  "0": "surface.laptop3",
                  "1": "9.411157",
                  "2": "122.0",
                  "3": "259.0",
                  "4": "0",
                  "5": "8",
                  "6": "2018-01-11",
                  "7": "623.15",
                  "8": "1199.99",
                  "9": "31598.0"
                },
                {
                  "0": "surface.pro7",
                  "1": "8.754003",
                  "2": "63.0",
                  "3": "245.0",
                  "4": "1",
                  "5": "73",
                  "6": "2019-01-08",
                  "7": "400.83",
                  "8": "899.99",
                  "9": "15435.0"
                },
                {
                  "0": "surface.laptop3",
                  "1": "10.742292",
                  "2": "462.0",
                  "3": "199.0",
                  "4": "1",
                  "5": "54",
                  "6": "2019-01-28",
                  "7": "623.15",
                  "8": "1199.99",
                  "9": "91938.0"
                },
                {
                  "0": "surface.laptop3",
                  "1": "9.596962",
                  "2": "147.0",
                  "3": "199.0",
                  "4": "0",
                  "5": "78",
                  "6": "2018-01-12",
                  "7": "623.15",
                  "8": "1199.99",
                  "9": "29253.0"
                },
                {
                  "0": "surface.pro7",
                  "1": "9.25875",
                  "2": "104.0",
                  "3": "269.0",
                  "4": "0",
                  "5": "49",
                  "6": "2019-01-19",
                  "7": "400.83",
                  "8": "899.99",
                  "9": "27976.0"
                },
                {
                  "0": "surface.go",
                  "1": "9.849242",
                  "2": "189.0",
                  "3": "219.0",
                  "4": "0",
                  "5": "90",
                  "6": "2017-01-07",
                  "7": "220.55",
                  "8": "499.99",
                  "9": "41391.0"
                },
                {
                  "0": "surface.pro7",
                  "1": "8.903815",
                  "2": "73.0",
                  "3": "199.0",
                  "4": "0",
                  "5": "67",
                  "6": "2018-01-04",
                  "7": "400.83",
                  "8": "899.99",
                  "9": "14527.0"
                },
                {
                  "0": "surface.go",
                  "1": "7.8965526",
                  "2": "26.0",
                  "3": "179.0",
                  "4": "0",
                  "5": "83",
                  "6": "2018-01-22",
                  "7": "220.55",
                  "8": "499.99",
                  "9": "4654.0"
                },
                {
                  "0": "surface.laptop3",
                  "1": "8.7936125",
                  "2": "65.0",
                  "3": "319.0",
                  "4": "0",
                  "5": "123",
                  "6": "2019-01-18",
                  "7": "623.15",
                  "8": "1199.99",
                  "9": "20735.0"
                },
                {
                  "0": "surface.pro7",
                  "1": "8.462948",
                  "2": "47.0",
                  "3": "219.0",
                  "4": "1",
                  "5": "48",
                  "6": "2019-01-11",
                  "7": "400.83",
                  "8": "899.99",
                  "9": "10293.0"
                },
                {
                  "0": "surface.pro7",
                  "1": "11.153733",
                  "2": "698.0",
                  "3": "199.0",
                  "4": "1",
                  "5": "130",
                  "6": "2017-01-16",
                  "7": "400.83",
                  "8": "899.99",
                  "9": "138902.0"
                },
                {
                  "0": "surface.laptop3",
                  "1": "9.609921",
                  "2": "149.0",
                  "3": "319.0",
                  "4": "0",
                  "5": "112",
                  "6": "2017-01-03",
                  "7": "623.15",
                  "8": "1199.99",
                  "9": "47531.0"
                },
                {
                  "0": "surface.laptop3",
                  "1": "8.348537",
                  "2": "42.0",
                  "3": "319.0",
                  "4": "0",
                  "5": "59",
                  "6": "2017-01-03",
                  "7": "623.15",
                  "8": "1199.99",
                  "9": "13398.0"
                },
                {
                  "0": "surface.laptop3",
                  "1": "9.772011",
                  "2": "175.0",
                  "3": "199.0",
                  "4": "0",
                  "5": "67",
                  "6": "2018-01-07",
                  "7": "623.15",
                  "8": "1199.99",
                  "9": "34825.0"
                },
                {
                  "0": "surface.laptop3",
                  "1": "9.529521",
                  "2": "137.0",
                  "3": "224.0",
                  "4": "1",
                  "5": "134",
                  "6": "2019-01-02",
                  "7": "623.15",
                  "8": "1199.99",
                  "9": "30688.0"
                },
                {
                  "0": "surface.laptop3",
                  "1": "10.104303",
                  "2": "244.0",
                  "3": "299.0",
                  "4": "0",
                  "5": "109",
                  "6": "2017-01-30",
                  "7": "623.15",
                  "8": "1199.99",
                  "9": "72956.0"
                },
                {
                  "0": "surface.pro7",
                  "1": "8.1101265",
                  "2": "33.0",
                  "3": "266.0",
                  "4": "0",
                  "5": "74",
                  "6": "2019-01-02",
                  "7": "400.83",
                  "8": "899.99",
                  "9": "8778.0"
                },
                {
                  "0": "surface.go",
                  "1": "10.437405",
                  "2": "341.0",
                  "3": "249.0",
                  "4": "1",
                  "5": "100",
                  "6": "2017-01-30",
                  "7": "220.55",
                  "8": "499.99",
                  "9": "84909.0"
                },
                {
                  "0": "surface.laptop3",
                  "1": "8.613231",
                  "2": "55.0",
                  "3": "319.0",
                  "4": "0",
                  "5": "68",
                  "6": "2019-01-09",
                  "7": "623.15",
                  "8": "1199.99",
                  "9": "17545.0"
                },
                {
                  "0": "surface.go",
                  "1": "9.477003",
                  "2": "130.0",
                  "3": "159.0",
                  "4": "1",
                  "5": "77",
                  "6": "2018-01-12",
                  "7": "220.55",
                  "8": "499.99",
                  "9": "20670.0"
                },
                {
                  "0": "surface.laptop3",
                  "1": "8.515592",
                  "2": "49.0",
                  "3": "259.0",
                  "4": "0",
                  "5": "40",
                  "6": "2019-01-31",
                  "7": "623.15",
                  "8": "1199.99",
                  "9": "12691.0"
                },
                {
                  "0": "surface.go",
                  "1": "8.754003",
                  "2": "63.0",
                  "3": "126.0",
                  "4": "1",
                  "5": "18",
                  "6": "2018-01-14",
                  "7": "220.55",
                  "8": "499.99",
                  "9": "7938.0"
                },
                {
                  "0": "surface.laptop3",
                  "1": "8.5897",
                  "2": "53.0",
                  "3": "299.0",
                  "4": "0",
                  "5": "54",
                  "6": "2019-01-21",
                  "7": "623.15",
                  "8": "1199.99",
                  "9": "15847.0"
                },
                {
                  "0": "surface.go",
                  "1": "8.743851",
                  "2": "62.0",
                  "3": "189.0",
                  "4": "0",
                  "5": "103",
                  "6": "2018-01-22",
                  "7": "220.55",
                  "8": "499.99",
                  "9": "11718.0"
                },
                {
                  "0": "surface.pro7",
                  "1": "9.764685",
                  "2": "174.0",
                  "3": "222.0",
                  "4": "1",
                  "5": "59",
                  "6": "2019-01-25",
                  "7": "400.83",
                  "8": "899.99",
                  "9": "38628.0"
                },
                {
                  "0": "surface.pro7",
                  "1": "7.624619",
                  "2": "20.0",
                  "3": "226.0",
                  "4": "0",
                  "5": "116",
                  "6": "2018-01-12",
                  "7": "400.83",
                  "8": "899.99",
                  "9": "4520.0"
                },
                {
                  "0": "surface.pro7",
                  "1": "8.236421",
                  "2": "37.0",
                  "3": "262.0",
                  "4": "0",
                  "5": "40",
                  "6": "2017-01-28",
                  "7": "400.83",
                  "8": "899.99",
                  "9": "9694.0"
                },
                {
                  "0": "surface.pro7",
                  "1": "8.71276",
                  "2": "60.0",
                  "3": "217.0",
                  "4": "0",
                  "5": "9",
                  "6": "2018-01-08",
                  "7": "400.83",
                  "8": "899.99",
                  "9": "13020.0"
                },
                {
                  "0": "surface.pro7",
                  "1": "8.00903",
                  "2": "30.0",
                  "3": "246.0",
                  "4": "0",
                  "5": "110",
                  "6": "2018-01-08",
                  "7": "400.83",
                  "8": "899.99",
                  "9": "7380.0"
                },
                {
                  "0": "surface.go",
                  "1": "11.21592",
                  "2": "743.0",
                  "3": "149.0",
                  "4": "0",
                  "5": "114",
                  "6": "2019-01-26",
                  "7": "220.55",
                  "8": "499.99",
                  "9": "110707.0"
                },
                {
                  "0": "surface.pro7",
                  "1": "9.018696",
                  "2": "82.0",
                  "3": "226.0",
                  "4": "0",
                  "5": "74",
                  "6": "2018-01-16",
                  "7": "400.83",
                  "8": "899.99",
                  "9": "18532.0"
                },
                {
                  "0": "surface.go",
                  "1": "8.647519",
                  "2": "56.0",
                  "3": "158.0",
                  "4": "1",
                  "5": "67",
                  "6": "2018-01-08",
                  "7": "220.55",
                  "8": "499.99",
                  "9": "8848.0"
                },
                {
                  "0": "surface.go",
                  "1": "8.392989",
                  "2": "44.0",
                  "3": "129.0",
                  "4": "0",
                  "5": "93",
                  "6": "2019-01-11",
                  "7": "220.55",
                  "8": "499.99",
                  "9": "5676.0"
                },
                {
                  "0": "surface.laptop3",
                  "1": "7.920083",
                  "2": "27.0",
                  "3": "286.0",
                  "4": "0",
                  "5": "40",
                  "6": "2019-01-01",
                  "7": "623.15",
                  "8": "1199.99",
                  "9": "7722.0"
                },
                {
                  "0": "surface.pro7",
                  "1": "9.40063",
                  "2": "120.0",
                  "3": "299.0",
                  "4": "0",
                  "5": "107",
                  "6": "2017-01-26",
                  "7": "400.83",
                  "8": "899.99",
                  "9": "35880.0"
                },
                {
                  "0": "surface.go",
                  "1": "8.286017",
                  "2": "39.0",
                  "3": "189.0",
                  "4": "0",
                  "5": "121",
                  "6": "2019-01-04",
                  "7": "220.55",
                  "8": "499.99",
                  "9": "7371.0"
                },
                {
                  "0": "surface.laptop3",
                  "1": "9.82531",
                  "2": "184.0",
                  "3": "299.0",
                  "4": "0",
                  "5": "121",
                  "6": "2017-01-23",
                  "7": "623.15",
                  "8": "1199.99",
                  "9": "55016.0"
                },
                {
                  "0": "surface.laptop3",
                  "1": "8.54091",
                  "2": "51.0",
                  "3": "339.0",
                  "4": "0",
                  "5": "126",
                  "6": "2018-01-23",
                  "7": "623.15",
                  "8": "1199.99",
                  "9": "17289.0"
                },
                {
                  "0": "surface.laptop3",
                  "1": "8.647519",
                  "2": "56.0",
                  "3": "299.0",
                  "4": "0",
                  "5": "86",
                  "6": "2019-01-18",
                  "7": "623.15",
                  "8": "1199.99",
                  "9": "16744.0"
                },
                {
                  "0": "surface.laptop3",
                  "1": "9.775654",
                  "2": "176.0",
                  "3": "199.0",
                  "4": "0",
                  "5": "121",
                  "6": "2018-01-12",
                  "7": "623.15",
                  "8": "1199.99",
                  "9": "35024.0"
                },
                {
                  "0": "surface.pro7",
                  "1": "8.624791",
                  "2": "55.0",
                  "3": "239.0",
                  "4": "0",
                  "5": "73",
                  "6": "2019-01-07",
                  "7": "400.83",
                  "8": "899.99",
                  "9": "13145.0"
                },
                {
                  "0": "surface.pro7",
                  "1": "8.1101265",
                  "2": "33.0",
                  "3": "266.0",
                  "4": "0",
                  "5": "116",
                  "6": "2019-01-18",
                  "7": "400.83",
                  "8": "899.99",
                  "9": "8778.0"
                },
                {
                  "0": "surface.pro7",
                  "1": "11.332075",
                  "2": "834.0",
                  "3": "129.0",
                  "4": "1",
                  "5": "21",
                  "6": "2018-01-23",
                  "7": "400.83",
                  "8": "899.99",
                  "9": "107586.0"
                },
                {
                  "0": "surface.laptop3",
                  "1": "8.868413",
                  "2": "71.0",
                  "3": "293.0",
                  "4": "0",
                  "5": "114",
                  "6": "2019-01-19",
                  "7": "623.15",
                  "8": "1199.99",
                  "9": "20803.0"
                },
                {
                  "0": "surface.laptop3",
                  "1": "8.723231",
                  "2": "61.0",
                  "3": "319.0",
                  "4": "0",
                  "5": "116",
                  "6": "2017-01-29",
                  "7": "623.15",
                  "8": "1199.99",
                  "9": "19459.0"
                },
                {
                  "0": "surface.laptop3",
                  "1": "8.7936125",
                  "2": "65.0",
                  "3": "273.0",
                  "4": "0",
                  "5": "77",
                  "6": "2018-01-25",
                  "7": "623.15",
                  "8": "1199.99",
                  "9": "17745.0"
                },
                {
                  "0": "surface.go",
                  "1": "9.240288",
                  "2": "103.0",
                  "3": "139.0",
                  "4": "0",
                  "5": "71",
                  "6": "2018-01-06",
                  "7": "220.55",
                  "8": "499.99",
                  "9": "14317.0"
                },
                {
                  "0": "surface.pro7",
                  "1": "7.9655457",
                  "2": "28.0",
                  "3": "219.0",
                  "4": "1",
                  "5": "117",
                  "6": "2019-01-11",
                  "7": "400.83",
                  "8": "899.99",
                  "9": "6132.0"
                },
                {
                  "0": "surface.go",
                  "1": "6.5567784",
                  "2": "7.0",
                  "3": "269.0",
                  "4": "1",
                  "5": "95",
                  "6": "2018-01-26",
                  "7": "220.55",
                  "8": "499.99",
                  "9": "1883.0"
                },
                {
                  "0": "surface.go",
                  "1": "10.901764",
                  "2": "542.0",
                  "3": "149.0",
                  "4": "1",
                  "5": "118",
                  "6": "2018-01-01",
                  "7": "220.55",
                  "8": "499.99",
                  "9": "80758.0"
                },
                {
                  "0": "surface.go",
                  "1": "9.227787",
                  "2": "101.0",
                  "3": "166.0",
                  "4": "0",
                  "5": "123",
                  "6": "2018-01-18",
                  "7": "220.55",
                  "8": "499.99",
                  "9": "16766.0"
                },
                {
                  "0": "surface.go",
                  "1": "8.962904",
                  "2": "78.0",
                  "3": "161.0",
                  "4": "0",
                  "5": "59",
                  "6": "2019-01-09",
                  "7": "220.55",
                  "8": "499.99",
                  "9": "12558.0"
                },
                {
                  "0": "surface.pro7",
                  "1": "8.946375",
                  "2": "76.0",
                  "3": "246.0",
                  "4": "0",
                  "5": "28",
                  "6": "2018-01-15",
                  "7": "400.83",
                  "8": "899.99",
                  "9": "18696.0"
                },
                {
                  "0": "surface.laptop3",
                  "1": "8.877382",
                  "2": "71.0",
                  "3": "359.0",
                  "4": "0",
                  "5": "33",
                  "6": "2018-01-01",
                  "7": "623.15",
                  "8": "1199.99",
                  "9": "25489.0"
                },
                {
                  "0": "surface.pro7",
                  "1": "8.831712",
                  "2": "68.0",
                  "3": "267.0",
                  "4": "0",
                  "5": "129",
                  "6": "2019-01-01",
                  "7": "400.83",
                  "8": "899.99",
                  "9": "18156.0"
                },
                {
                  "0": "surface.laptop3",
                  "1": "10.768232",
                  "2": "474.0",
                  "3": "169.0",
                  "4": "1",
                  "5": "101",
                  "6": "2018-01-29",
                  "7": "623.15",
                  "8": "1199.99",
                  "9": "80106.0"
                },
                {
                  "0": "surface.laptop3",
                  "1": "7.41698",
                  "2": "16.0",
                  "3": "359.0",
                  "4": "0",
                  "5": "95",
                  "6": "2018-01-22",
                  "7": "623.15",
                  "8": "1199.99",
                  "9": "5744.0"
                },
                {
                  "0": "surface.pro7",
                  "1": "8.691483",
                  "2": "59.0",
                  "3": "262.0",
                  "4": "0",
                  "5": "78",
                  "6": "2017-01-31",
                  "7": "400.83",
                  "8": "899.99",
                  "9": "15458.0"
                },
                {
                  "0": "surface.go",
                  "1": "11.103934",
                  "2": "664.0",
                  "3": "158.0",
                  "4": "0",
                  "5": "73",
                  "6": "2019-01-14",
                  "7": "220.55",
                  "8": "499.99",
                  "9": "104912.0"
                },
                {
                  "0": "surface.go",
                  "1": "8.8950815",
                  "2": "72.0",
                  "3": "159.0",
                  "4": "0",
                  "5": "49",
                  "6": "2018-01-19",
                  "7": "220.55",
                  "8": "499.99",
                  "9": "11448.0"
                },
                {
                  "0": "surface.go",
                  "1": "9.018696",
                  "2": "82.0",
                  "3": "159.0",
                  "4": "1",
                  "5": "21",
                  "6": "2017-01-15",
                  "7": "220.55",
                  "8": "499.99",
                  "9": "13038.0"
                },
                {
                  "0": "surface.pro7",
                  "1": "9.335032",
                  "2": "113.0",
                  "3": "199.0",
                  "4": "0",
                  "5": "93",
                  "6": "2018-01-22",
                  "7": "400.83",
                  "8": "899.99",
                  "9": "22487.0"
                },
                {
                  "0": "surface.pro7",
                  "1": "10.29661",
                  "2": "296.0",
                  "3": "199.0",
                  "4": "1",
                  "5": "94",
                  "6": "2019-01-22",
                  "7": "400.83",
                  "8": "899.99",
                  "9": "58904.0"
                },
                {
                  "0": "surface.laptop3",
                  "1": "10.742292",
                  "2": "462.0",
                  "3": "199.0",
                  "4": "1",
                  "5": "102",
                  "6": "2019-01-14",
                  "7": "623.15",
                  "8": "1199.99",
                  "9": "91938.0"
                },
                {
                  "0": "surface.laptop3",
                  "1": "8.8950815",
                  "2": "72.0",
                  "3": "296.0",
                  "4": "0",
                  "5": "98",
                  "6": "2019-01-01",
                  "7": "623.15",
                  "8": "1199.99",
                  "9": "21312.0"
                },
                {
                  "0": "surface.pro7",
                  "1": "10.29011",
                  "2": "294.0",
                  "3": "209.0",
                  "4": "1",
                  "5": "33",
                  "6": "2019-01-25",
                  "7": "400.83",
                  "8": "899.99",
                  "9": "61446.0"
                },
                {
                  "0": "surface.go",
                  "1": "9.421574",
                  "2": "123.0",
                  "3": "159.0",
                  "4": "0",
                  "5": "33",
                  "6": "2018-01-27",
                  "7": "220.55",
                  "8": "499.99",
                  "9": "19557.0"
                },
                {
                  "0": "surface.laptop3",
                  "1": "9.467151",
                  "2": "129.0",
                  "3": "219.0",
                  "4": "0",
                  "5": "104",
                  "6": "2018-01-02",
                  "7": "623.15",
                  "8": "1199.99",
                  "9": "28251.0"
                },
                {
                  "0": "surface.go",
                  "1": "10.894663",
                  "2": "538.0",
                  "3": "169.0",
                  "4": "0",
                  "5": "52",
                  "6": "2019-01-30",
                  "7": "220.55",
                  "8": "499.99",
                  "9": "90922.0"
                },
                {
                  "0": "surface.pro7",
                  "1": "8.37839",
                  "2": "43.0",
                  "3": "266.0",
                  "4": "0",
                  "5": "28",
                  "6": "2019-01-18",
                  "7": "400.83",
                  "8": "899.99",
                  "9": "11438.0"
                },
                {
                  "0": "surface.pro7",
                  "1": "9.335032",
                  "2": "113.0",
                  "3": "212.0",
                  "4": "0",
                  "5": "112",
                  "6": "2018-01-15",
                  "7": "400.83",
                  "8": "899.99",
                  "9": "23956.0"
                },
                {
                  "0": "surface.go",
                  "1": "8.00903",
                  "2": "30.0",
                  "3": "159.0",
                  "4": "0",
                  "5": "48",
                  "6": "2017-01-26",
                  "7": "220.55",
                  "8": "499.99",
                  "9": "4770.0"
                },
                {
                  "0": "surface.laptop3",
                  "1": "8.938006",
                  "2": "76.0",
                  "3": "339.0",
                  "4": "0",
                  "5": "119",
                  "6": "2018-01-13",
                  "7": "623.15",
                  "8": "1199.99",
                  "9": "25764.0"
                },
                {
                  "0": "surface.laptop3",
                  "1": "8.71276",
                  "2": "60.0",
                  "3": "319.0",
                  "4": "0",
                  "5": "119",
                  "6": "2017-01-03",
                  "7": "623.15",
                  "8": "1199.99",
                  "9": "19140.0"
                },
                {
                  "0": "surface.go",
                  "1": "8.938006",
                  "2": "76.0",
                  "3": "179.0",
                  "4": "0",
                  "5": "40",
                  "6": "2019-01-20",
                  "7": "220.55",
                  "8": "499.99",
                  "9": "13604.0"
                },
                {
                  "0": "surface.go",
                  "1": "9.086137",
                  "2": "88.0",
                  "3": "199.0",
                  "4": "0",
                  "5": "137",
                  "6": "2019-01-04",
                  "7": "220.55",
                  "8": "499.99",
                  "9": "17512.0"
                },
                {
                  "0": "surface.laptop3",
                  "1": "9.208739",
                  "2": "99.0",
                  "3": "366.0",
                  "4": "0",
                  "5": "107",
                  "6": "2017-01-29",
                  "7": "623.15",
                  "8": "1199.99",
                  "9": "36234.0"
                },
                {
                  "0": "surface.go",
                  "1": "9.182764",
                  "2": "97.0",
                  "3": "169.0",
                  "4": "0",
                  "5": "112",
                  "6": "2019-01-03",
                  "7": "220.55",
                  "8": "499.99",
                  "9": "16393.0"
                },
                {
                  "0": "surface.laptop3",
                  "1": "8.489616",
                  "2": "48.0",
                  "3": "319.0",
                  "4": "0",
                  "5": "68",
                  "6": "2018-01-29",
                  "7": "623.15",
                  "8": "1199.99",
                  "9": "15312.0"
                },
                {
                  "0": "surface.pro7",
                  "1": "11.879345",
                  "2": "1442.0",
                  "3": "199.0",
                  "4": "1",
                  "5": "70",
                  "6": "2019-01-21",
                  "7": "400.83",
                  "8": "899.99",
                  "9": "286958.0"
                },
                {
                  "0": "surface.go",
                  "1": "8.37839",
                  "2": "43.0",
                  "3": "189.0",
                  "4": "0",
                  "5": "107",
                  "6": "2019-01-02",
                  "7": "220.55",
                  "8": "499.99",
                  "9": "8127.0"
                },
                {
                  "0": "surface.go",
                  "1": "9.026418",
                  "2": "83.0",
                  "3": "229.0",
                  "4": "0",
                  "5": "102",
                  "6": "2017-01-12",
                  "7": "220.55",
                  "8": "499.99",
                  "9": "19007.0"
                },
                {
                  "0": "surface.go",
                  "1": "10.970127",
                  "2": "581.0",
                  "3": "129.0",
                  "4": "1",
                  "5": "110",
                  "6": "2019-01-18",
                  "7": "220.55",
                  "8": "499.99",
                  "9": "74949.0"
                },
                {
                  "0": "surface.go",
                  "1": "7.2034054",
                  "2": "13.0",
                  "3": "209.0",
                  "4": "0",
                  "5": "95",
                  "6": "2017-01-10",
                  "7": "220.55",
                  "8": "499.99",
                  "9": "2717.0"
                },
                {
                  "0": "surface.pro7",
                  "1": "8.850231",
                  "2": "69.0",
                  "3": "205.0",
                  "4": "0",
                  "5": "100",
                  "6": "2019-01-28",
                  "7": "400.83",
                  "8": "899.99",
                  "9": "14145.0"
                },
                {
                  "0": "surface.go",
                  "1": "10.241102",
                  "2": "280.0",
                  "3": "99.0",
                  "4": "1",
                  "5": "62",
                  "6": "2018-01-02",
                  "7": "220.55",
                  "8": "499.99",
                  "9": "27720.0"
                },
                {
                  "0": "surface.laptop3",
                  "1": "8.090709",
                  "2": "32.0",
                  "3": "294.0",
                  "4": "0",
                  "5": "105",
                  "6": "2018-01-18",
                  "7": "623.15",
                  "8": "1199.99",
                  "9": "9408.0"
                },
                {
                  "0": "surface.pro7",
                  "1": "8.5897",
                  "2": "53.0",
                  "3": "199.0",
                  "4": "0",
                  "5": "118",
                  "6": "2018-01-20",
                  "7": "400.83",
                  "8": "899.99",
                  "9": "10547.0"
                },
                {
                  "0": "surface.laptop3",
                  "1": "11.057597",
                  "2": "634.0",
                  "3": "249.0",
                  "4": "1",
                  "5": "129",
                  "6": "2019-01-06",
                  "7": "623.15",
                  "8": "1199.99",
                  "9": "157866.0"
                },
                {
                  "0": "surface.laptop3",
                  "1": "11.079555",
                  "2": "648.0",
                  "3": "199.0",
                  "4": "1",
                  "5": "75",
                  "6": "2018-01-26",
                  "7": "623.15",
                  "8": "1199.99",
                  "9": "128952.0"
                },
                {
                  "0": "surface.laptop3",
                  "1": "8.236421",
                  "2": "37.0",
                  "3": "289.0",
                  "4": "0",
                  "5": "89",
                  "6": "2019-01-23",
                  "7": "623.15",
                  "8": "1199.99",
                  "9": "10693.0"
                },
                {
                  "0": "surface.pro7",
                  "1": "10.645044",
                  "2": "419.0",
                  "3": "199.0",
                  "4": "1",
                  "5": "75",
                  "6": "2017-01-12",
                  "7": "400.83",
                  "8": "899.99",
                  "9": "83381.0"
                },
                {
                  "0": "surface.go",
                  "1": "11.073614",
                  "2": "644.0",
                  "3": "129.0",
                  "4": "1",
                  "5": "92",
                  "6": "2019-01-18",
                  "7": "220.55",
                  "8": "499.99",
                  "9": "83076.0"
                },
                {
                  "0": "surface.go",
                  "1": "9.202309",
                  "2": "99.0",
                  "3": "129.0",
                  "4": "0",
                  "5": "113",
                  "6": "2019-01-29",
                  "7": "220.55",
                  "8": "499.99",
                  "9": "12771.0"
                },
                {
                  "0": "surface.pro7",
                  "1": "9.169518",
                  "2": "96.0",
                  "3": "226.0",
                  "4": "0",
                  "5": "107",
                  "6": "2018-01-25",
                  "7": "400.83",
                  "8": "899.99",
                  "9": "21696.0"
                },
                {
                  "0": "surface.go",
                  "1": "8.435549",
                  "2": "46.0",
                  "3": "229.0",
                  "4": "0",
                  "5": "59",
                  "6": "2017-01-06",
                  "7": "220.55",
                  "8": "499.99",
                  "9": "10534.0"
                },
                {
                  "0": "surface.pro7",
                  "1": "7.9655457",
                  "2": "28.0",
                  "3": "239.0",
                  "4": "0",
                  "5": "14",
                  "6": "2018-01-07",
                  "7": "400.83",
                  "8": "899.99",
                  "9": "6692.0"
                },
                {
                  "0": "surface.pro7",
                  "1": "9.389992",
                  "2": "119.0",
                  "3": "246.0",
                  "4": "0",
                  "5": "97",
                  "6": "2018-01-15",
                  "7": "400.83",
                  "8": "899.99",
                  "9": "29274.0"
                },
                {
                  "0": "surface.laptop3",
                  "1": "10.959053",
                  "2": "574.0",
                  "3": "199.0",
                  "4": "1",
                  "5": "93",
                  "6": "2018-01-22",
                  "7": "623.15",
                  "8": "1199.99",
                  "9": "114226.0"
                },
                {
                  "0": "surface.pro7",
                  "1": "8.841014",
                  "2": "69.0",
                  "3": "299.0",
                  "4": "0",
                  "5": "131",
                  "6": "2017-01-28",
                  "7": "400.83",
                  "8": "899.99",
                  "9": "20631.0"
                },
                {
                  "0": "surface.go",
                  "1": "9.208739",
                  "2": "99.0",
                  "3": "209.0",
                  "4": "0",
                  "5": "68",
                  "6": "2019-01-18",
                  "7": "220.55",
                  "8": "499.99",
                  "9": "20691.0"
                },
                {
                  "0": "surface.laptop3",
                  "1": "10.461502",
                  "2": "349.0",
                  "3": "228.0",
                  "4": "0",
                  "5": "128",
                  "6": "2018-01-28",
                  "7": "623.15",
                  "8": "1199.99",
                  "9": "79572.0"
                },
                {
                  "0": "surface.go",
                  "1": "11.524063",
                  "2": "1011.0",
                  "3": "129.0",
                  "4": "0",
                  "5": "71",
                  "6": "2019-01-31",
                  "7": "220.55",
                  "8": "499.99",
                  "9": "130419.0"
                },
                {
                  "0": "surface.pro7",
                  "1": "8.553332",
                  "2": "51.0",
                  "3": "268.0",
                  "4": "0",
                  "5": "131",
                  "6": "2019-01-01",
                  "7": "400.83",
                  "8": "899.99",
                  "9": "13668.0"
                },
                {
                  "0": "surface.pro7",
                  "1": "10.26813",
                  "2": "288.0",
                  "3": "209.0",
                  "4": "0",
                  "5": "101",
                  "6": "2018-01-03",
                  "7": "400.83",
                  "8": "899.99",
                  "9": "60192.0"
                },
                {
                  "0": "surface.laptop3",
                  "1": "9.416378",
                  "2": "122.0",
                  "3": "341.0",
                  "4": "0",
                  "5": "53",
                  "6": "2019-01-03",
                  "7": "623.15",
                  "8": "1199.99",
                  "9": "41602.0"
                },
                {
                  "0": "surface.laptop3",
                  "1": "9.0492325",
                  "2": "85.0",
                  "3": "304.0",
                  "4": "0",
                  "5": "73",
                  "6": "2017-01-02",
                  "7": "623.15",
                  "8": "1199.99",
                  "9": "25840.0"
                },
                {
                  "0": "surface.go",
                  "1": "9.660141",
                  "2": "156.0",
                  "3": "189.0",
                  "4": "1",
                  "5": "114",
                  "6": "2018-01-01",
                  "7": "220.55",
                  "8": "499.99",
                  "9": "29484.0"
                },
                {
                  "0": "surface.go",
                  "1": "9.071538",
                  "2": "87.0",
                  "3": "142.0",
                  "4": "0",
                  "5": "134",
                  "6": "2018-01-23",
                  "7": "220.55",
                  "8": "499.99",
                  "9": "12354.0"
                },
                {
                  "0": "surface.pro7",
                  "1": "7.9875245",
                  "2": "29.0",
                  "3": "241.0",
                  "4": "0",
                  "5": "64",
                  "6": "2018-01-15",
                  "7": "400.83",
                  "8": "899.99",
                  "9": "6989.0"
                },
                {
                  "0": "surface.pro7",
                  "1": "8.601534",
                  "2": "54.0",
                  "3": "289.0",
                  "4": "0",
                  "5": "32",
                  "6": "2019-01-13",
                  "7": "400.83",
                  "8": "899.99",
                  "9": "15606.0"
                },
                {
                  "0": "surface.go",
                  "1": "10.119888",
                  "2": "248.0",
                  "3": "129.0",
                  "4": "0",
                  "5": "118",
                  "6": "2017-01-09",
                  "7": "220.55",
                  "8": "499.99",
                  "9": "31992.0"
                },
                {
                  "0": "surface.pro7",
                  "1": "9.639522",
                  "2": "153.0",
                  "3": "192.0",
                  "4": "1",
                  "5": "103",
                  "6": "2019-01-14",
                  "7": "400.83",
                  "8": "899.99",
                  "9": "29376.0"
                },
                {
                  "0": "surface.pro7",
                  "1": "9.0340805",
                  "2": "83.0",
                  "3": "226.0",
                  "4": "0",
                  "5": "110",
                  "6": "2018-01-31",
                  "7": "400.83",
                  "8": "899.99",
                  "9": "18758.0"
                },
                {
                  "0": "surface.go",
                  "1": "11.135231",
                  "2": "685.0",
                  "3": "109.0",
                  "4": "1",
                  "5": "84",
                  "6": "2018-01-08",
                  "7": "220.55",
                  "8": "499.99",
                  "9": "74665.0"
                },
                {
                  "0": "surface.go",
                  "1": "8.7936125",
                  "2": "65.0",
                  "3": "158.0",
                  "4": "1",
                  "5": "67",
                  "6": "2018-01-20",
                  "7": "220.55",
                  "8": "499.99",
                  "9": "10270.0"
                },
                {
                  "0": "surface.go",
                  "1": "11.289782",
                  "2": "800.0",
                  "3": "169.0",
                  "4": "0",
                  "5": "123",
                  "6": "2019-01-30",
                  "7": "220.55",
                  "8": "499.99",
                  "9": "135200.0"
                },
                {
                  "0": "surface.pro7",
                  "1": "9.920935",
                  "2": "203.0",
                  "3": "199.0",
                  "4": "1",
                  "5": "94",
                  "6": "2017-01-02",
                  "7": "400.83",
                  "8": "899.99",
                  "9": "40397.0"
                },
                {
                  "0": "surface.go",
                  "1": "11.976106",
                  "2": "1589.0",
                  "3": "139.0",
                  "4": "1",
                  "5": "130",
                  "6": "2019-01-07",
                  "7": "220.55",
                  "8": "499.99",
                  "9": "220871.0"
                },
                {
                  "0": "surface.pro7",
                  "1": "10.047761",
                  "2": "231.0",
                  "3": "199.0",
                  "4": "1",
                  "5": "2",
                  "6": "2017-01-02",
                  "7": "400.83",
                  "8": "899.99",
                  "9": "45969.0"
                },
                {
                  "0": "surface.pro7",
                  "1": "9.961001",
                  "2": "211.0",
                  "3": "164.0",
                  "4": "0",
                  "5": "126",
                  "6": "2018-01-16",
                  "7": "400.83",
                  "8": "899.99",
                  "9": "34604.0"
                },
                {
                  "0": "surface.go",
                  "1": "8.54091",
                  "2": "51.0",
                  "3": "179.0",
                  "4": "0",
                  "5": "78",
                  "6": "2019-01-12",
                  "7": "220.55",
                  "8": "499.99",
                  "9": "9129.0"
                },
                {
                  "0": "surface.pro7",
                  "1": "10.971229",
                  "2": "581.0",
                  "3": "199.0",
                  "4": "1",
                  "5": "100",
                  "6": "2018-01-25",
                  "7": "400.83",
                  "8": "899.99",
                  "9": "115619.0"
                },
                {
                  "0": "surface.laptop3",
                  "1": "9.9966135",
                  "2": "219.0",
                  "3": "224.0",
                  "4": "1",
                  "5": "84",
                  "6": "2019-01-02",
                  "7": "623.15",
                  "8": "1199.99",
                  "9": "49056.0"
                },
                {
                  "0": "surface.pro7",
                  "1": "8.070906",
                  "2": "32.0",
                  "3": "226.0",
                  "4": "0",
                  "5": "89",
                  "6": "2018-01-07",
                  "7": "400.83",
                  "8": "899.99",
                  "9": "7232.0"
                },
                {
                  "0": "surface.laptop3",
                  "1": "7.59287",
                  "2": "19.0",
                  "3": "339.0",
                  "4": "0",
                  "5": "64",
                  "6": "2018-01-31",
                  "7": "623.15",
                  "8": "1199.99",
                  "9": "6441.0"
                },
                {
                  "0": "surface.go",
                  "1": "9.169518",
                  "2": "96.0",
                  "3": "149.0",
                  "4": "0",
                  "5": "78",
                  "6": "2018-01-08",
                  "7": "220.55",
                  "8": "499.99",
                  "9": "14304.0"
                },
                {
                  "0": "surface.pro7",
                  "1": "8.286017",
                  "2": "39.0",
                  "3": "268.0",
                  "4": "0",
                  "5": "105",
                  "6": "2019-01-01",
                  "7": "400.83",
                  "8": "899.99",
                  "9": "10452.0"
                },
                {
                  "0": "surface.laptop3",
                  "1": "10.008208",
                  "2": "222.0",
                  "3": "224.0",
                  "4": "1",
                  "5": "74",
                  "6": "2019-01-02",
                  "7": "623.15",
                  "8": "1199.99",
                  "9": "49728.0"
                },
                {
                  "0": "surface.laptop3",
                  "1": "10.603014",
                  "2": "402.0",
                  "3": "199.0",
                  "4": "1",
                  "5": "110",
                  "6": "2018-01-26",
                  "7": "623.15",
                  "8": "1199.99",
                  "9": "79998.0"
                },
                {
                  "0": "surface.pro7",
                  "1": "8.489616",
                  "2": "48.0",
                  "3": "189.0",
                  "4": "0",
                  "5": "59",
                  "6": "2018-01-15",
                  "7": "400.83",
                  "8": "899.99",
                  "9": "9072.0"
                },
                {
                  "0": "surface.laptop3",
                  "1": "9.782901",
                  "2": "177.0",
                  "3": "250.0",
                  "4": "1",
                  "5": "51",
                  "6": "2019-01-04",
                  "7": "623.15",
                  "8": "1199.99",
                  "9": "44250.0"
                },
                {
                  "0": "surface.go",
                  "1": "8.37839",
                  "2": "43.0",
                  "3": "209.0",
                  "4": "0",
                  "5": "73",
                  "6": "2017-01-24",
                  "7": "220.55",
                  "8": "499.99",
                  "9": "8987.0"
                },
                {
                  "0": "surface.pro7",
                  "1": "9.215129",
                  "2": "100.0",
                  "3": "299.0",
                  "4": "0",
                  "5": "56",
                  "6": "2017-01-05",
                  "7": "400.83",
                  "8": "899.99",
                  "9": "29900.0"
                },
                {
                  "0": "surface.go",
                  "1": "9.1560955",
                  "2": "94.0",
                  "3": "139.0",
                  "4": "0",
                  "5": "14",
                  "6": "2018-01-13",
                  "7": "220.55",
                  "8": "499.99",
                  "9": "13066.0"
                },
                {
                  "0": "surface.pro7",
                  "1": "10.81561",
                  "2": "497.0",
                  "3": "219.0",
                  "4": "1",
                  "5": "114",
                  "6": "2019-01-03",
                  "7": "400.83",
                  "8": "899.99",
                  "9": "108843.0"
                },
                {
                  "0": "surface.go",
                  "1": "12.234155",
                  "2": "2056.0",
                  "3": "99.0",
                  "4": "1",
                  "5": "90",
                  "6": "2018-01-19",
                  "7": "220.55",
                  "8": "499.99",
                  "9": "203544.0"
                },
                {
                  "0": "surface.go",
                  "1": "9.496421",
                  "2": "133.0",
                  "3": "158.0",
                  "4": "1",
                  "5": "76",
                  "6": "2018-01-08",
                  "7": "220.55",
                  "8": "499.99",
                  "9": "21014.0"
                },
                {
                  "0": "surface.go",
                  "1": "10.892285",
                  "2": "537.0",
                  "3": "139.0",
                  "4": "1",
                  "5": "109",
                  "6": "2017-01-14",
                  "7": "220.55",
                  "8": "499.99",
                  "9": "74643.0"
                },
                {
                  "0": "surface.go",
                  "1": "7.714231",
                  "2": "22.0",
                  "3": "209.0",
                  "4": "0",
                  "5": "89",
                  "6": "2017-01-17",
                  "7": "220.55",
                  "8": "499.99",
                  "9": "4598.0"
                },
                {
                  "0": "surface.laptop3",
                  "1": "8.8862705",
                  "2": "72.0",
                  "3": "229.0",
                  "4": "0",
                  "5": "114",
                  "6": "2019-01-10",
                  "7": "623.15",
                  "8": "1199.99",
                  "9": "16488.0"
                },
                {
                  "0": "surface.go",
                  "1": "8.783855",
                  "2": "65.0",
                  "3": "199.0",
                  "4": "1",
                  "5": "68",
                  "6": "2019-01-08",
                  "7": "220.55",
                  "8": "499.99",
                  "9": "12935.0"
                },
                {
                  "0": "surface.pro7",
                  "1": "10.785601",
                  "2": "483.0",
                  "3": "199.0",
                  "4": "1",
                  "5": "53",
                  "6": "2017-01-07",
                  "7": "400.83",
                  "8": "899.99",
                  "9": "96117.0"
                },
                {
                  "0": "surface.go",
                  "1": "11.054565",
                  "2": "632.0",
                  "3": "158.0",
                  "4": "0",
                  "5": "67",
                  "6": "2019-01-31",
                  "7": "220.55",
                  "8": "499.99",
                  "9": "99856.0"
                },
                {
                  "0": "surface.laptop3",
                  "1": "8.565602",
                  "2": "52.0",
                  "3": "257.0",
                  "4": "0",
                  "5": "105",
                  "6": "2019-01-25",
                  "7": "623.15",
                  "8": "1199.99",
                  "9": "13364.0"
                },
                {
                  "0": "surface.pro7",
                  "1": "8.680672",
                  "2": "58.0",
                  "3": "225.0",
                  "4": "0",
                  "5": "78",
                  "6": "2019-01-07",
                  "7": "400.83",
                  "8": "899.99",
                  "9": "13050.0"
                },
                {
                  "0": "surface.go",
                  "1": "9.862665",
                  "2": "192.0",
                  "3": "129.0",
                  "4": "0",
                  "5": "8",
                  "6": "2019-01-29",
                  "7": "220.55",
                  "8": "499.99",
                  "9": "24768.0"
                },
                {
                  "0": "surface.go",
                  "1": "9.306377",
                  "2": "110.0",
                  "3": "189.0",
                  "4": "0",
                  "5": "84",
                  "6": "2017-01-14",
                  "7": "220.55",
                  "8": "499.99",
                  "9": "20790.0"
                },
                {
                  "0": "surface.go",
                  "1": "8.219326",
                  "2": "37.0",
                  "3": "141.0",
                  "4": "1",
                  "5": "97",
                  "6": "2018-01-14",
                  "7": "220.55",
                  "8": "499.99",
                  "9": "5217.0"
                },
                {
                  "0": "surface.go",
                  "1": "9.38463",
                  "2": "119.0",
                  "3": "139.0",
                  "4": "0",
                  "5": "81",
                  "6": "2018-01-13",
                  "7": "220.55",
                  "8": "499.99",
                  "9": "16541.0"
                },
                {
                  "0": "surface.laptop3",
                  "1": "10.38542",
                  "2": "323.0",
                  "3": "199.0",
                  "4": "0",
                  "5": "112",
                  "6": "2018-01-12",
                  "7": "623.15",
                  "8": "1199.99",
                  "9": "64277.0"
                },
                {
                  "0": "surface.go",
                  "1": "9.227787",
                  "2": "101.0",
                  "3": "169.0",
                  "4": "0",
                  "5": "101",
                  "6": "2019-01-25",
                  "7": "220.55",
                  "8": "499.99",
                  "9": "17069.0"
                },
                {
                  "0": "surface.go",
                  "1": "7.6553907",
                  "2": "21.0",
                  "3": "269.0",
                  "4": "0",
                  "5": "62",
                  "6": "2017-01-28",
                  "7": "220.55",
                  "8": "499.99",
                  "9": "5649.0"
                },
                {
                  "0": "surface.laptop3",
                  "1": "7.6553907",
                  "2": "21.0",
                  "3": "366.0",
                  "4": "0",
                  "5": "90",
                  "6": "2017-01-06",
                  "7": "623.15",
                  "8": "1199.99",
                  "9": "7686.0"
                },
                {
                  "0": "surface.laptop3",
                  "1": "9.373818",
                  "2": "117.0",
                  "3": "339.0",
                  "4": "0",
                  "5": "44",
                  "6": "2018-01-10",
                  "7": "623.15",
                  "8": "1199.99",
                  "9": "39663.0"
                },
                {
                  "0": "surface.pro7",
                  "1": "7.8965526",
                  "2": "26.0",
                  "3": "241.0",
                  "4": "0",
                  "5": "64",
                  "6": "2018-01-08",
                  "7": "400.83",
                  "8": "899.99",
                  "9": "6266.0"
                },
                {
                  "0": "surface.pro7",
                  "1": "9.300547",
                  "2": "109.0",
                  "3": "229.0",
                  "4": "1",
                  "5": "28",
                  "6": "2019-01-25",
                  "7": "400.83",
                  "8": "899.99",
                  "9": "24961.0"
                },
                {
                  "0": "surface.go",
                  "1": "6.3561077",
                  "2": "5.0",
                  "3": "269.0",
                  "4": "0",
                  "5": "62",
                  "6": "2018-01-10",
                  "7": "220.55",
                  "8": "499.99",
                  "9": "1345.0"
                },
                {
                  "0": "surface.laptop3",
                  "1": "9.872616",
                  "2": "193.0",
                  "3": "199.0",
                  "4": "0",
                  "5": "129",
                  "6": "2018-01-14",
                  "7": "623.15",
                  "8": "1199.99",
                  "9": "38407.0"
                },
                {
                  "0": "surface.pro7",
                  "1": "7.9655457",
                  "2": "28.0",
                  "3": "299.0",
                  "4": "0",
                  "5": "104",
                  "6": "2017-01-10",
                  "7": "400.83",
                  "8": "899.99",
                  "9": "8372.0"
                },
                {
                  "0": "surface.go",
                  "1": "9.557046",
                  "2": "141.0",
                  "3": "149.0",
                  "4": "0",
                  "5": "94",
                  "6": "2018-01-08",
                  "7": "220.55",
                  "8": "499.99",
                  "9": "21009.0"
                },
                {
                  "0": "surface.go",
                  "1": "10.853445",
                  "2": "517.0",
                  "3": "124.0",
                  "4": "1",
                  "5": "88",
                  "6": "2017-01-19",
                  "7": "220.55",
                  "8": "499.99",
                  "9": "64108.0"
                },
                {
                  "0": "surface.pro7",
                  "1": "8.462948",
                  "2": "47.0",
                  "3": "266.0",
                  "4": "0",
                  "5": "129",
                  "6": "2019-01-16",
                  "7": "400.83",
                  "8": "899.99",
                  "9": "12502.0"
                },
                {
                  "0": "surface.laptop3",
                  "1": "8.921057",
                  "2": "74.0",
                  "3": "319.0",
                  "4": "0",
                  "5": "8",
                  "6": "2017-01-24",
                  "7": "623.15",
                  "8": "1199.99",
                  "9": "23606.0"
                },
                {
                  "0": "surface.laptop3",
                  "1": "9.510741",
                  "2": "135.0",
                  "3": "299.0",
                  "4": "0",
                  "5": "74",
                  "6": "2019-01-28",
                  "7": "623.15",
                  "8": "1199.99",
                  "9": "40365.0"
                },
                {
                  "0": "surface.laptop3",
                  "1": "9.264829",
                  "2": "105.0",
                  "3": "319.0",
                  "4": "0",
                  "5": "104",
                  "6": "2018-01-05",
                  "7": "623.15",
                  "8": "1199.99",
                  "9": "33495.0"
                },
                {
                  "0": "surface.go",
                  "1": "11.570439",
                  "2": "1059.0",
                  "3": "99.0",
                  "4": "1",
                  "5": "109",
                  "6": "2018-01-19",
                  "7": "220.55",
                  "8": "499.99",
                  "9": "104841.0"
                },
                {
                  "0": "surface.go",
                  "1": "8.1101265",
                  "2": "33.0",
                  "3": "158.0",
                  "4": "0",
                  "5": "91",
                  "6": "2019-01-10",
                  "7": "220.55",
                  "8": "499.99",
                  "9": "5214.0"
                },
                {
                  "0": "surface.pro7",
                  "1": "8.147867",
                  "2": "34.0",
                  "3": "246.0",
                  "4": "0",
                  "5": "97",
                  "6": "2018-01-01",
                  "7": "400.83",
                  "8": "899.99",
                  "9": "8364.0"
                },
                {
                  "0": "surface.pro7",
                  "1": "8.528331",
                  "2": "50.0",
                  "3": "226.0",
                  "4": "0",
                  "5": "86",
                  "6": "2018-01-31",
                  "7": "400.83",
                  "8": "899.99",
                  "9": "11300.0"
                },
                {
                  "0": "surface.laptop3",
                  "1": "8.565602",
                  "2": "52.0",
                  "3": "339.0",
                  "4": "0",
                  "5": "45",
                  "6": "2018-01-30",
                  "7": "623.15",
                  "8": "1199.99",
                  "9": "17628.0"
                },
                {
                  "0": "surface.go",
                  "1": "10.646567",
                  "2": "420.0",
                  "3": "249.0",
                  "4": "1",
                  "5": "71",
                  "6": "2017-01-30",
                  "7": "220.55",
                  "8": "499.99",
                  "9": "104580.0"
                },
                {
                  "0": "surface.pro7",
                  "1": "8.647519",
                  "2": "56.0",
                  "3": "289.0",
                  "4": "0",
                  "5": "52",
                  "6": "2019-01-20",
                  "7": "400.83",
                  "8": "899.99",
                  "9": "16184.0"
                },
                {
                  "0": "surface.laptop3",
                  "1": "9.901886",
                  "2": "199.0",
                  "3": "257.0",
                  "4": "1",
                  "5": "112",
                  "6": "2018-01-26",
                  "7": "623.15",
                  "8": "1199.99",
                  "9": "51143.0"
                },
                {
                  "0": "surface.pro7",
                  "1": "10.119888",
                  "2": "248.0",
                  "3": "199.0",
                  "4": "1",
                  "5": "14",
                  "6": "2019-01-14",
                  "7": "400.83",
                  "8": "899.99",
                  "9": "49352.0"
                },
                {
                  "0": "surface.laptop3",
                  "1": "9.967026",
                  "2": "213.0",
                  "3": "179.0",
                  "4": "0",
                  "5": "81",
                  "6": "2019-01-07",
                  "7": "623.15",
                  "8": "1199.99",
                  "9": "38127.0"
                },
                {
                  "0": "surface.laptop3",
                  "1": "11.54783",
                  "2": "1035.0",
                  "3": "249.0",
                  "4": "1",
                  "5": "52",
                  "6": "2019-01-06",
                  "7": "623.15",
                  "8": "1199.99",
                  "9": "257715.0"
                },
                {
                  "0": "surface.laptop3",
                  "1": "8.63622",
                  "2": "56.0",
                  "3": "259.0",
                  "4": "0",
                  "5": "78",
                  "6": "2019-01-24",
                  "7": "623.15",
                  "8": "1199.99",
                  "9": "14504.0"
                },
                {
                  "0": "surface.pro7",
                  "1": "8.565602",
                  "2": "52.0",
                  "3": "279.0",
                  "4": "0",
                  "5": "52",
                  "6": "2019-01-02",
                  "7": "400.83",
                  "8": "899.99",
                  "9": "14508.0"
                },
                {
                  "0": "surface.go",
                  "1": "8.253227",
                  "2": "38.0",
                  "3": "174.0",
                  "4": "0",
                  "5": "54",
                  "6": "2019-01-04",
                  "7": "220.55",
                  "8": "499.99",
                  "9": "6612.0"
                },
                {
                  "0": "surface.laptop3",
                  "1": "8.903815",
                  "2": "73.0",
                  "3": "299.0",
                  "4": "0",
                  "5": "8",
                  "6": "2018-01-10",
                  "7": "623.15",
                  "8": "1199.99",
                  "9": "21827.0"
                },
                {
                  "0": "surface.laptop3",
                  "1": "8.236421",
                  "2": "37.0",
                  "3": "266.0",
                  "4": "0",
                  "5": "21",
                  "6": "2019-01-29",
                  "7": "623.15",
                  "8": "1199.99",
                  "9": "9842.0"
                },
                {
                  "0": "surface.laptop3",
                  "1": "10.986512",
                  "2": "590.0",
                  "3": "199.0",
                  "4": "1",
                  "5": "18",
                  "6": "2018-01-06",
                  "7": "623.15",
                  "8": "1199.99",
                  "9": "117410.0"
                },
                {
                  "0": "surface.go",
                  "1": "8.613231",
                  "2": "55.0",
                  "3": "189.0",
                  "4": "0",
                  "5": "50",
                  "6": "2019-01-09",
                  "7": "220.55",
                  "8": "499.99",
                  "9": "10395.0"
                },
                {
                  "0": "surface.go",
                  "1": "9.121728",
                  "2": "91.0",
                  "3": "149.0",
                  "4": "0",
                  "5": "77",
                  "6": "2018-01-23",
                  "7": "220.55",
                  "8": "499.99",
                  "9": "13559.0"
                },
                {
                  "0": "surface.go",
                  "1": "9.395325",
                  "2": "120.0",
                  "3": "149.0",
                  "4": "0",
                  "5": "123",
                  "6": "2018-01-08",
                  "7": "220.55",
                  "8": "499.99",
                  "9": "17880.0"
                },
                {
                  "0": "surface.laptop3",
                  "1": "8.680672",
                  "2": "58.0",
                  "3": "299.0",
                  "4": "0",
                  "5": "73",
                  "6": "2018-01-13",
                  "7": "623.15",
                  "8": "1199.99",
                  "9": "17342.0"
                },
                {
                  "0": "surface.go",
                  "1": "8.184235",
                  "2": "35.0",
                  "3": "185.0",
                  "4": "0",
                  "5": "54",
                  "6": "2019-01-12",
                  "7": "220.55",
                  "8": "499.99",
                  "9": "6475.0"
                },
                {
                  "0": "surface.go",
                  "1": "9.782901",
                  "2": "177.0",
                  "3": "136.0",
                  "4": "0",
                  "5": "44",
                  "6": "2019-01-22",
                  "7": "220.55",
                  "8": "499.99",
                  "9": "24072.0"
                },
                {
                  "0": "surface.laptop3",
                  "1": "8.7936125",
                  "2": "65.0",
                  "3": "366.0",
                  "4": "0",
                  "5": "113",
                  "6": "2017-01-20",
                  "7": "623.15",
                  "8": "1199.99",
                  "9": "23790.0"
                },
                {
                  "0": "surface.pro7",
                  "1": "8.754003",
                  "2": "63.0",
                  "3": "269.0",
                  "4": "0",
                  "5": "131",
                  "6": "2019-01-18",
                  "7": "400.83",
                  "8": "899.99",
                  "9": "16947.0"
                },
                {
                  "0": "surface.pro7",
                  "1": "10.578878",
                  "2": "392.0",
                  "3": "199.0",
                  "4": "1",
                  "5": "110",
                  "6": "2018-01-25",
                  "7": "400.83",
                  "8": "899.99",
                  "9": "78008.0"
                },
                {
                  "0": "surface.go",
                  "1": "8.528331",
                  "2": "50.0",
                  "3": "179.0",
                  "4": "1",
                  "5": "21",
                  "6": "2018-01-26",
                  "7": "220.55",
                  "8": "499.99",
                  "9": "8950.0"
                },
                {
                  "0": "surface.pro7",
                  "1": "10.881513",
                  "2": "531.0",
                  "3": "199.0",
                  "4": "1",
                  "5": "114",
                  "6": "2017-01-16",
                  "7": "400.83",
                  "8": "899.99",
                  "9": "105669.0"
                },
                {
                  "0": "surface.laptop3",
                  "1": "8.774004",
                  "2": "64.0",
                  "3": "260.0",
                  "4": "0",
                  "5": "134",
                  "6": "2019-01-12",
                  "7": "623.15",
                  "8": "1199.99",
                  "9": "16640.0"
                },
                {
                  "0": "surface.laptop3",
                  "1": "8.868413",
                  "2": "71.0",
                  "3": "359.0",
                  "4": "0",
                  "5": "53",
                  "6": "2018-01-15",
                  "7": "623.15",
                  "8": "1199.99",
                  "9": "25489.0"
                },
                {
                  "0": "surface.laptop3",
                  "1": "8.5897",
                  "2": "53.0",
                  "3": "299.0",
                  "4": "0",
                  "5": "104",
                  "6": "2017-01-23",
                  "7": "623.15",
                  "8": "1199.99",
                  "9": "15847.0"
                },
                {
                  "0": "surface.laptop3",
                  "1": "8.528331",
                  "2": "50.0",
                  "3": "339.0",
                  "4": "0",
                  "5": "115",
                  "6": "2018-01-23",
                  "7": "623.15",
                  "8": "1199.99",
                  "9": "16950.0"
                },
                {
                  "0": "surface.laptop3",
                  "1": "9.859326",
                  "2": "191.0",
                  "3": "239.0",
                  "4": "0",
                  "5": "71",
                  "6": "2018-01-27",
                  "7": "623.15",
                  "8": "1199.99",
                  "9": "45649.0"
                },
                {
                  "0": "surface.laptop3",
                  "1": "7.943073",
                  "2": "28.0",
                  "3": "307.0",
                  "4": "0",
                  "5": "95",
                  "6": "2018-01-01",
                  "7": "623.15",
                  "8": "1199.99",
                  "9": "8596.0"
                },
                {
                  "0": "surface.laptop3",
                  "1": "7.920083",
                  "2": "27.0",
                  "3": "294.0",
                  "4": "0",
                  "5": "88",
                  "6": "2018-01-01",
                  "7": "623.15",
                  "8": "1199.99",
                  "9": "7938.0"
                },
                {
                  "0": "surface.go",
                  "1": "10.222669",
                  "2": "275.0",
                  "3": "159.0",
                  "4": "0",
                  "5": "101",
                  "6": "2018-01-05",
                  "7": "220.55",
                  "8": "499.99",
                  "9": "43725.0"
                },
                {
                  "0": "surface.go",
                  "1": "8.090709",
                  "2": "32.0",
                  "3": "219.0",
                  "4": "0",
                  "5": "131",
                  "6": "2017-01-21",
                  "7": "220.55",
                  "8": "499.99",
                  "9": "7008.0"
                },
                {
                  "0": "surface.pro7",
                  "1": "9.071538",
                  "2": "87.0",
                  "3": "169.0",
                  "4": "0",
                  "5": "47",
                  "6": "2019-01-05",
                  "7": "400.83",
                  "8": "899.99",
                  "9": "14703.0"
                },
                {
                  "0": "surface.pro7",
                  "1": "7.872455",
                  "2": "26.0",
                  "3": "262.0",
                  "4": "0",
                  "5": "59",
                  "6": "2017-01-21",
                  "7": "400.83",
                  "8": "899.99",
                  "9": "6812.0"
                },
                {
                  "0": "surface.go",
                  "1": "8.166216",
                  "2": "35.0",
                  "3": "179.0",
                  "4": "0",
                  "5": "28",
                  "6": "2017-01-05",
                  "7": "220.55",
                  "8": "499.99",
                  "9": "6265.0"
                },
                {
                  "0": "surface.pro7",
                  "1": "9.176163",
                  "2": "96.0",
                  "3": "185.0",
                  "4": "0",
                  "5": "59",
                  "6": "2018-01-21",
                  "7": "400.83",
                  "8": "899.99",
                  "9": "17760.0"
                },
                {
                  "0": "surface.pro7",
                  "1": "8.613231",
                  "2": "55.0",
                  "3": "241.0",
                  "4": "0",
                  "5": "47",
                  "6": "2018-01-08",
                  "7": "400.83",
                  "8": "899.99",
                  "9": "13255.0"
                },
                {
                  "0": "surface.pro7",
                  "1": "10.583752",
                  "2": "394.0",
                  "3": "199.0",
                  "4": "1",
                  "5": "52",
                  "6": "2017-01-02",
                  "7": "400.83",
                  "8": "899.99",
                  "9": "78406.0"
                },
                {
                  "0": "surface.go",
                  "1": "9.583833",
                  "2": "145.0",
                  "3": "189.0",
                  "4": "0",
                  "5": "102",
                  "6": "2018-01-22",
                  "7": "220.55",
                  "8": "499.99",
                  "9": "27405.0"
                },
                {
                  "0": "surface.go",
                  "1": "8.921057",
                  "2": "74.0",
                  "3": "189.0",
                  "4": "0",
                  "5": "105",
                  "6": "2018-01-22",
                  "7": "220.55",
                  "8": "499.99",
                  "9": "13986.0"
                },
                {
                  "0": "surface.laptop3",
                  "1": "9.421574",
                  "2": "123.0",
                  "3": "261.0",
                  "4": "0",
                  "5": "124",
                  "6": "2019-01-12",
                  "7": "623.15",
                  "8": "1199.99",
                  "9": "32103.0"
                },
                {
                  "0": "surface.laptop3",
                  "1": "8.5897",
                  "2": "53.0",
                  "3": "366.0",
                  "4": "0",
                  "5": "54",
                  "6": "2017-01-03",
                  "7": "623.15",
                  "8": "1199.99",
                  "9": "19398.0"
                },
                {
                  "0": "surface.laptop3",
                  "1": "7.1546154",
                  "2": "12.0",
                  "3": "319.0",
                  "4": "0",
                  "5": "106",
                  "6": "2018-01-22",
                  "7": "623.15",
                  "8": "1199.99",
                  "9": "3828.0"
                },
                {
                  "0": "surface.go",
                  "1": "8.129175",
                  "2": "33.0",
                  "3": "162.0",
                  "4": "0",
                  "5": "64",
                  "6": "2019-01-28",
                  "7": "220.55",
                  "8": "499.99",
                  "9": "5346.0"
                },
                {
                  "0": "surface.pro7",
                  "1": "9.44715",
                  "2": "126.0",
                  "3": "199.0",
                  "4": "0",
                  "5": "129",
                  "6": "2018-01-22",
                  "7": "400.83",
                  "8": "899.99",
                  "9": "25074.0"
                },
                {
                  "0": "surface.pro7",
                  "1": "9.221478",
                  "2": "101.0",
                  "3": "262.0",
                  "4": "0",
                  "5": "80",
                  "6": "2017-01-06",
                  "7": "400.83",
                  "8": "899.99",
                  "9": "26462.0"
                },
                {
                  "0": "surface.laptop3",
                  "1": "9.8078575",
                  "2": "181.0",
                  "3": "199.0",
                  "4": "1",
                  "5": "86",
                  "6": "2018-01-06",
                  "7": "623.15",
                  "8": "1199.99",
                  "9": "36019.0"
                },
                {
                  "0": "surface.go",
                  "1": "11.722084",
                  "2": "1232.0",
                  "3": "124.0",
                  "4": "1",
                  "5": "92",
                  "6": "2017-01-19",
                  "7": "220.55",
                  "8": "499.99",
                  "9": "152768.0"
                },
                {
                  "0": "surface.laptop3",
                  "1": "9.618468",
                  "2": "150.0",
                  "3": "309.0",
                  "4": "1",
                  "5": "52",
                  "6": "2019-01-08",
                  "7": "623.15",
                  "8": "1199.99",
                  "9": "46350.0"
                },
                {
                  "0": "surface.go",
                  "1": "7.9655457",
                  "2": "28.0",
                  "3": "189.0",
                  "4": "0",
                  "5": "94",
                  "6": "2018-01-10",
                  "7": "220.55",
                  "8": "499.99",
                  "9": "5292.0"
                },
                {
                  "0": "surface.go",
                  "1": "10.772267",
                  "2": "476.0",
                  "3": "149.0",
                  "4": "1",
                  "5": "8",
                  "6": "2018-01-16",
                  "7": "220.55",
                  "8": "499.99",
                  "9": "70924.0"
                },
                {
                  "0": "surface.laptop3",
                  "1": "11.311934",
                  "2": "817.0",
                  "3": "199.0",
                  "4": "1",
                  "5": "32",
                  "6": "2018-01-12",
                  "7": "623.15",
                  "8": "1199.99",
                  "9": "162583.0"
                },
                {
                  "0": "surface.go",
                  "1": "7.6852436",
                  "2": "21.0",
                  "3": "209.0",
                  "4": "0",
                  "5": "45",
                  "6": "2017-01-10",
                  "7": "220.55",
                  "8": "499.99",
                  "9": "4389.0"
                },
                {
                  "0": "surface.laptop3",
                  "1": "9.38463",
                  "2": "119.0",
                  "3": "319.0",
                  "4": "0",
                  "5": "33",
                  "6": "2019-01-16",
                  "7": "623.15",
                  "8": "1199.99",
                  "9": "37961.0"
                },
                {
                  "0": "surface.go",
                  "1": "8.050703",
                  "2": "31.0",
                  "3": "158.0",
                  "4": "0",
                  "5": "51",
                  "6": "2018-01-20",
                  "7": "220.55",
                  "8": "499.99",
                  "9": "4898.0"
                },
                {
                  "0": "surface.go",
                  "1": "9.142489",
                  "2": "93.0",
                  "3": "189.0",
                  "4": "0",
                  "5": "105",
                  "6": "2018-01-22",
                  "7": "220.55",
                  "8": "499.99",
                  "9": "17577.0"
                },
                {
                  "0": "surface.pro7",
                  "1": "9.276876",
                  "2": "106.0",
                  "3": "262.0",
                  "4": "0",
                  "5": "70",
                  "6": "2017-01-30",
                  "7": "400.83",
                  "8": "899.99",
                  "9": "27772.0"
                },
                {
                  "0": "surface.pro7",
                  "1": "8.565602",
                  "2": "52.0",
                  "3": "299.0",
                  "4": "0",
                  "5": "115",
                  "6": "2017-01-15",
                  "7": "400.83",
                  "8": "899.99",
                  "9": "15548.0"
                },
                {
                  "0": "surface.pro7",
                  "1": "9.688313",
                  "2": "161.0",
                  "3": "199.0",
                  "4": "0",
                  "5": "8",
                  "6": "2018-01-04",
                  "7": "400.83",
                  "8": "899.99",
                  "9": "32039.0"
                },
                {
                  "0": "surface.go",
                  "1": "10.422281",
                  "2": "336.0",
                  "3": "112.0",
                  "4": "0",
                  "5": "112",
                  "6": "2018-01-09",
                  "7": "220.55",
                  "8": "499.99",
                  "9": "37632.0"
                },
                {
                  "0": "surface.pro7",
                  "1": "9.182764",
                  "2": "97.0",
                  "3": "212.0",
                  "4": "0",
                  "5": "8",
                  "6": "2018-01-22",
                  "7": "400.83",
                  "8": "899.99",
                  "9": "20564.0"
                },
                {
                  "0": "surface.go",
                  "1": "7.714231",
                  "2": "22.0",
                  "3": "209.0",
                  "4": "0",
                  "5": "129",
                  "6": "2018-01-07",
                  "7": "220.55",
                  "8": "499.99",
                  "9": "4598.0"
                },
                {
                  "0": "surface.pro7",
                  "1": "9.00307",
                  "2": "81.0",
                  "3": "317.0",
                  "4": "0",
                  "5": "109",
                  "6": "2017-01-31",
                  "7": "400.83",
                  "8": "899.99",
                  "9": "25677.0"
                },
                {
                  "0": "surface.go",
                  "1": "9.664215",
                  "2": "157.0",
                  "3": "156.0",
                  "4": "0",
                  "5": "132",
                  "6": "2018-01-18",
                  "7": "220.55",
                  "8": "499.99",
                  "9": "24492.0"
                },
                {
                  "0": "surface.pro7",
                  "1": "10.238816",
                  "2": "279.0",
                  "3": "199.0",
                  "4": "1",
                  "5": "70",
                  "6": "2017-01-12",
                  "7": "400.83",
                  "8": "899.99",
                  "9": "55521.0"
                },
                {
                  "0": "surface.pro7",
                  "1": "8.302018",
                  "2": "40.0",
                  "3": "199.0",
                  "4": "0",
                  "5": "119",
                  "6": "2019-01-10",
                  "7": "400.83",
                  "8": "899.99",
                  "9": "7960.0"
                },
                {
                  "0": "surface.laptop3",
                  "1": "8.877382",
                  "2": "71.0",
                  "3": "294.0",
                  "4": "0",
                  "5": "5",
                  "6": "2018-01-01",
                  "7": "623.15",
                  "8": "1199.99",
                  "9": "20874.0"
                },
                {
                  "0": "surface.go",
                  "1": "8.822322",
                  "2": "67.0",
                  "3": "188.0",
                  "4": "0",
                  "5": "54",
                  "6": "2019-01-18",
                  "7": "220.55",
                  "8": "499.99",
                  "9": "12596.0"
                },
                {
                  "0": "surface.laptop3",
                  "1": "9.82531",
                  "2": "184.0",
                  "3": "179.0",
                  "4": "0",
                  "5": "86",
                  "6": "2019-01-21",
                  "7": "623.15",
                  "8": "1199.99",
                  "9": "32936.0"
                },
                {
                  "0": "surface.laptop3",
                  "1": "8.754003",
                  "2": "63.0",
                  "3": "299.0",
                  "4": "0",
                  "5": "98",
                  "6": "2018-01-13",
                  "7": "623.15",
                  "8": "1199.99",
                  "9": "18837.0"
                },
                {
                  "0": "surface.go",
                  "1": "11.407387",
                  "2": "899.0",
                  "3": "229.0",
                  "4": "1",
                  "5": "18",
                  "6": "2017-01-30",
                  "7": "220.55",
                  "8": "499.99",
                  "9": "205871.0"
                },
                {
                  "0": "surface.go",
                  "1": "8.00903",
                  "2": "30.0",
                  "3": "167.0",
                  "4": "0",
                  "5": "59",
                  "6": "2019-01-05",
                  "7": "220.55",
                  "8": "499.99",
                  "9": "5010.0"
                },
                {
                  "0": "surface.pro7",
                  "1": "9.0340805",
                  "2": "83.0",
                  "3": "199.0",
                  "4": "0",
                  "5": "83",
                  "6": "2019-01-21",
                  "7": "400.83",
                  "8": "899.99",
                  "9": "16517.0"
                },
                {
                  "0": "surface.pro7",
                  "1": "8.613231",
                  "2": "55.0",
                  "3": "289.0",
                  "4": "0",
                  "5": "62",
                  "6": "2019-01-20",
                  "7": "400.83",
                  "8": "899.99",
                  "9": "15895.0"
                },
                {
                  "0": "surface.laptop3",
                  "1": "8.723231",
                  "2": "61.0",
                  "3": "278.0",
                  "4": "0",
                  "5": "51",
                  "6": "2019-01-03",
                  "7": "623.15",
                  "8": "1199.99",
                  "9": "16958.0"
                },
                {
                  "0": "surface.pro7",
                  "1": "8.63622",
                  "2": "56.0",
                  "3": "228.0",
                  "4": "0",
                  "5": "101",
                  "6": "2019-01-28",
                  "7": "400.83",
                  "8": "899.99",
                  "9": "12768.0"
                },
                {
                  "0": "surface.laptop3",
                  "1": "8.680672",
                  "2": "58.0",
                  "3": "307.0",
                  "4": "0",
                  "5": "71",
                  "6": "2018-01-18",
                  "7": "623.15",
                  "8": "1199.99",
                  "9": "17806.0"
                },
                {
                  "0": "surface.pro7",
                  "1": "8.435549",
                  "2": "46.0",
                  "3": "199.0",
                  "4": "0",
                  "5": "117",
                  "6": "2019-01-14",
                  "7": "400.83",
                  "8": "899.99",
                  "9": "9154.0"
                },
                {
                  "0": "surface.go",
                  "1": "8.5897",
                  "2": "53.0",
                  "3": "159.0",
                  "4": "1",
                  "5": "70",
                  "6": "2017-01-15",
                  "7": "220.55",
                  "8": "499.99",
                  "9": "8427.0"
                },
                {
                  "0": "surface.pro7",
                  "1": "9.520175",
                  "2": "136.0",
                  "3": "226.0",
                  "4": "0",
                  "5": "74",
                  "6": "2018-01-21",
                  "7": "400.83",
                  "8": "899.99",
                  "9": "30736.0"
                },
                {
                  "0": "surface.laptop3",
                  "1": "8.929567",
                  "2": "75.0",
                  "3": "298.0",
                  "4": "0",
                  "5": "101",
                  "6": "2018-01-13",
                  "7": "623.15",
                  "8": "1199.99",
                  "9": "22350.0"
                },
                {
                  "0": "surface.pro7",
                  "1": "9.00307",
                  "2": "81.0",
                  "3": "174.0",
                  "4": "1",
                  "5": "134",
                  "6": "2019-01-04",
                  "7": "400.83",
                  "8": "899.99",
                  "9": "14094.0"
                },
                {
                  "0": "surface.go",
                  "1": "7.59287",
                  "2": "19.0",
                  "3": "269.0",
                  "4": "0",
                  "5": "109",
                  "6": "2018-01-17",
                  "7": "220.55",
                  "8": "499.99",
                  "9": "5111.0"
                },
                {
                  "0": "surface.go",
                  "1": "7.714231",
                  "2": "22.0",
                  "3": "199.0",
                  "4": "0",
                  "5": "91",
                  "6": "2019-01-12",
                  "7": "220.55",
                  "8": "499.99",
                  "9": "4378.0"
                },
                {
                  "0": "surface.laptop3",
                  "1": "9.4572",
                  "2": "128.0",
                  "3": "249.0",
                  "4": "1",
                  "5": "80",
                  "6": "2019-01-08",
                  "7": "623.15",
                  "8": "1199.99",
                  "9": "31872.0"
                },
                {
                  "0": "surface.laptop3",
                  "1": "9.346269",
                  "2": "114.0",
                  "3": "239.0",
                  "4": "0",
                  "5": "113",
                  "6": "2018-01-27",
                  "7": "623.15",
                  "8": "1199.99",
                  "9": "27246.0"
                },
                {
                  "0": "surface.go",
                  "1": "7.9655457",
                  "2": "28.0",
                  "3": "269.0",
                  "4": "0",
                  "5": "12",
                  "6": "2018-01-18",
                  "7": "220.55",
                  "8": "499.99",
                  "9": "7532.0"
                },
                {
                  "0": "surface.pro7",
                  "1": "9.340667",
                  "2": "113.0",
                  "3": "249.0",
                  "4": "1",
                  "5": "44",
                  "6": "2019-01-24",
                  "7": "400.83",
                  "8": "899.99",
                  "9": "28137.0"
                },
                {
                  "0": "surface.go",
                  "1": "10.663171",
                  "2": "427.0",
                  "3": "219.0",
                  "4": "0",
                  "5": "86",
                  "6": "2018-01-18",
                  "7": "220.55",
                  "8": "499.99",
                  "9": "93513.0"
                },
                {
                  "0": "surface.go",
                  "1": "9.477003",
                  "2": "130.0",
                  "3": "168.0",
                  "4": "0",
                  "5": "102",
                  "6": "2019-01-25",
                  "7": "220.55",
                  "8": "499.99",
                  "9": "21840.0"
                },
                {
                  "0": "surface.laptop3",
                  "1": "9.189321",
                  "2": "97.0",
                  "3": "319.0",
                  "4": "0",
                  "5": "18",
                  "6": "2017-01-27",
                  "7": "623.15",
                  "8": "1199.99",
                  "9": "30943.0"
                },
                {
                  "0": "surface.laptop3",
                  "1": "8.658692",
                  "2": "57.0",
                  "3": "299.0",
                  "4": "0",
                  "5": "45",
                  "6": "2019-01-18",
                  "7": "623.15",
                  "8": "1199.99",
                  "9": "17043.0"
                },
                {
                  "0": "surface.laptop3",
                  "1": "8.850231",
                  "2": "69.0",
                  "3": "319.0",
                  "4": "0",
                  "5": "72",
                  "6": "2019-01-25",
                  "7": "623.15",
                  "8": "1199.99",
                  "9": "22011.0"
                },
                {
                  "0": "surface.pro7",
                  "1": "11.253947",
                  "2": "771.0",
                  "3": "129.0",
                  "4": "1",
                  "5": "5",
                  "6": "2018-01-23",
                  "7": "400.83",
                  "8": "899.99",
                  "9": "99459.0"
                },
                {
                  "0": "surface.go",
                  "1": "10.840992",
                  "2": "510.0",
                  "3": "124.0",
                  "4": "1",
                  "5": "129",
                  "6": "2017-01-19",
                  "7": "220.55",
                  "8": "499.99",
                  "9": "63240.0"
                },
                {
                  "0": "surface.laptop3",
                  "1": "8.624791",
                  "2": "55.0",
                  "3": "229.0",
                  "4": "0",
                  "5": "51",
                  "6": "2019-01-17",
                  "7": "623.15",
                  "8": "1199.99",
                  "9": "12595.0"
                },
                {
                  "0": "surface.go",
                  "1": "9.300547",
                  "2": "109.0",
                  "3": "189.0",
                  "4": "1",
                  "5": "114",
                  "6": "2019-01-08",
                  "7": "220.55",
                  "8": "499.99",
                  "9": "20601.0"
                },
                {
                  "0": "surface.laptop3",
                  "1": "8.33327",
                  "2": "41.0",
                  "3": "259.0",
                  "4": "0",
                  "5": "89",
                  "6": "2019-01-12",
                  "7": "623.15",
                  "8": "1199.99",
                  "9": "10619.0"
                },
                {
                  "0": "surface.pro7",
                  "1": "8.841014",
                  "2": "69.0",
                  "3": "215.0",
                  "4": "0",
                  "5": "131",
                  "6": "2018-01-20",
                  "7": "400.83",
                  "8": "899.99",
                  "9": "14835.0"
                },
                {
                  "0": "surface.go",
                  "1": "7.2034054",
                  "2": "13.0",
                  "3": "219.0",
                  "4": "0",
                  "5": "84",
                  "6": "2017-01-28",
                  "7": "220.55",
                  "8": "499.99",
                  "9": "2847.0"
                },
                {
                  "0": "surface.pro7",
                  "1": "10.925075",
                  "2": "555.0",
                  "3": "199.0",
                  "4": "1",
                  "5": "130",
                  "6": "2017-01-07",
                  "7": "400.83",
                  "8": "899.99",
                  "9": "110445.0"
                },
                {
                  "0": "surface.laptop3",
                  "1": "7.377759",
                  "2": "16.0",
                  "3": "339.0",
                  "4": "0",
                  "5": "90",
                  "6": "2018-01-08",
                  "7": "623.15",
                  "8": "1199.99",
                  "9": "5424.0"
                },
                {
                  "0": "surface.laptop3",
                  "1": "8.565602",
                  "2": "52.0",
                  "3": "299.0",
                  "4": "0",
                  "5": "45",
                  "6": "2018-01-08",
                  "7": "623.15",
                  "8": "1199.99",
                  "9": "15548.0"
                },
                {
                  "0": "surface.laptop3",
                  "1": "8.822322",
                  "2": "67.0",
                  "3": "307.0",
                  "4": "0",
                  "5": "2",
                  "6": "2018-01-11",
                  "7": "623.15",
                  "8": "1199.99",
                  "9": "20569.0"
                },
                {
                  "0": "surface.pro7",
                  "1": "8.302018",
                  "2": "40.0",
                  "3": "199.0",
                  "4": "0",
                  "5": "56",
                  "6": "2019-01-21",
                  "7": "400.83",
                  "8": "899.99",
                  "9": "7960.0"
                },
                {
                  "0": "surface.go",
                  "1": "9.727227",
                  "2": "167.0",
                  "3": "158.0",
                  "4": "0",
                  "5": "78",
                  "6": "2019-01-24",
                  "7": "220.55",
                  "8": "499.99",
                  "9": "26386.0"
                },
                {
                  "0": "surface.laptop3",
                  "1": "9.0492325",
                  "2": "85.0",
                  "3": "229.0",
                  "4": "1",
                  "5": "64",
                  "6": "2018-01-17",
                  "7": "623.15",
                  "8": "1199.99",
                  "9": "19465.0"
                },
                {
                  "0": "surface.laptop3",
                  "1": "8.184235",
                  "2": "35.0",
                  "3": "299.0",
                  "4": "0",
                  "5": "89",
                  "6": "2018-01-15",
                  "7": "623.15",
                  "8": "1199.99",
                  "9": "10465.0"
                },
                {
                  "0": "surface.laptop3",
                  "1": "8.995165",
                  "2": "80.0",
                  "3": "299.0",
                  "4": "0",
                  "5": "76",
                  "6": "2019-01-25",
                  "7": "623.15",
                  "8": "1199.99",
                  "9": "23920.0"
                },
                {
                  "0": "surface.laptop3",
                  "1": "8.348537",
                  "2": "42.0",
                  "3": "278.0",
                  "4": "1",
                  "5": "89",
                  "6": "2019-01-26",
                  "7": "623.15",
                  "8": "1199.99",
                  "9": "11676.0"
                },
                {
                  "0": "surface.laptop3",
                  "1": "9.240288",
                  "2": "103.0",
                  "3": "279.0",
                  "4": "1",
                  "5": "8",
                  "6": "2019-01-26",
                  "7": "623.15",
                  "8": "1199.99",
                  "9": "28737.0"
                },
                {
                  "0": "surface.laptop3",
                  "1": "7.8965526",
                  "2": "26.0",
                  "3": "366.0",
                  "4": "0",
                  "5": "104",
                  "6": "2017-01-24",
                  "7": "623.15",
                  "8": "1199.99",
                  "9": "9516.0"
                },
                {
                  "0": "surface.laptop3",
                  "1": "10.281376",
                  "2": "291.0",
                  "3": "199.0",
                  "4": "1",
                  "5": "76",
                  "6": "2019-01-14",
                  "7": "623.15",
                  "8": "1199.99",
                  "9": "57909.0"
                },
                {
                  "0": "surface.go",
                  "1": "7.8965526",
                  "2": "26.0",
                  "3": "199.0",
                  "4": "0",
                  "5": "104",
                  "6": "2019-01-15",
                  "7": "220.55",
                  "8": "499.99",
                  "9": "5174.0"
                },
                {
                  "0": "surface.go",
                  "1": "9.121728",
                  "2": "91.0",
                  "3": "159.0",
                  "4": "0",
                  "5": "40",
                  "6": "2019-01-03",
                  "7": "220.55",
                  "8": "499.99",
                  "9": "14469.0"
                },
                {
                  "0": "surface.go",
                  "1": "11.03618",
                  "2": "620.0",
                  "3": "99.0",
                  "4": "1",
                  "5": "59",
                  "6": "2018-01-02",
                  "7": "220.55",
                  "8": "499.99",
                  "9": "61380.0"
                },
                {
                  "0": "surface.pro7",
                  "1": "8.184235",
                  "2": "35.0",
                  "3": "267.0",
                  "4": "0",
                  "5": "100",
                  "6": "2019-01-30",
                  "7": "400.83",
                  "8": "899.99",
                  "9": "9345.0"
                },
                {
                  "0": "surface.laptop3",
                  "1": "8.954674",
                  "2": "77.0",
                  "3": "289.0",
                  "4": "0",
                  "5": "132",
                  "6": "2019-01-09",
                  "7": "623.15",
                  "8": "1199.99",
                  "9": "22253.0"
                },
                {
                  "0": "surface.go",
                  "1": "7.796469",
                  "2": "24.0",
                  "3": "269.0",
                  "4": "0",
                  "5": "53",
                  "6": "2017-01-22",
                  "7": "220.55",
                  "8": "499.99",
                  "9": "6456.0"
                },
                {
                  "0": "surface.go",
                  "1": "8.954674",
                  "2": "77.0",
                  "3": "179.0",
                  "4": "0",
                  "5": "67",
                  "6": "2019-01-18",
                  "7": "220.55",
                  "8": "499.99",
                  "9": "13783.0"
                },
                {
                  "0": "surface.laptop3",
                  "1": "8.7936125",
                  "2": "65.0",
                  "3": "261.0",
                  "4": "0",
                  "5": "54",
                  "6": "2019-01-25",
                  "7": "623.15",
                  "8": "1199.99",
                  "9": "16965.0"
                },
                {
                  "0": "surface.pro7",
                  "1": "8.7936125",
                  "2": "65.0",
                  "3": "226.0",
                  "4": "0",
                  "5": "113",
                  "6": "2018-01-06",
                  "7": "400.83",
                  "8": "899.99",
                  "9": "14690.0"
                },
                {
                  "0": "surface.go",
                  "1": "9.162829",
                  "2": "95.0",
                  "3": "99.0",
                  "4": "0",
                  "5": "45",
                  "6": "2018-01-09",
                  "7": "220.55",
                  "8": "499.99",
                  "9": "9405.0"
                },
                {
                  "0": "surface.go",
                  "1": "10.492163",
                  "2": "360.0",
                  "3": "124.0",
                  "4": "1",
                  "5": "14",
                  "6": "2017-01-19",
                  "7": "220.55",
                  "8": "499.99",
                  "9": "44640.0"
                },
                {
                  "0": "surface.pro7",
                  "1": "8.702178",
                  "2": "60.0",
                  "3": "199.0",
                  "4": "0",
                  "5": "77",
                  "6": "2019-01-14",
                  "7": "400.83",
                  "8": "899.99",
                  "9": "11940.0"
                },
                {
                  "0": "surface.pro7",
                  "1": "8.71276",
                  "2": "60.0",
                  "3": "199.0",
                  "4": "0",
                  "5": "8",
                  "6": "2018-01-20",
                  "7": "400.83",
                  "8": "899.99",
                  "9": "11940.0"
                },
                {
                  "0": "surface.go",
                  "1": "9.44715",
                  "2": "126.0",
                  "3": "152.0",
                  "4": "0",
                  "5": "130",
                  "6": "2018-01-04",
                  "7": "220.55",
                  "8": "499.99",
                  "9": "19152.0"
                },
                {
                  "0": "surface.laptop3",
                  "1": "9.276876",
                  "2": "106.0",
                  "3": "329.0",
                  "4": "1",
                  "5": "118",
                  "6": "2017-01-05",
                  "7": "623.15",
                  "8": "1199.99",
                  "9": "34874.0"
                },
                {
                  "0": "surface.laptop3",
                  "1": "8.929567",
                  "2": "75.0",
                  "3": "366.0",
                  "4": "0",
                  "5": "115",
                  "6": "2017-01-28",
                  "7": "623.15",
                  "8": "1199.99",
                  "9": "27450.0"
                },
                {
                  "0": "surface.go",
                  "1": "8.515592",
                  "2": "49.0",
                  "3": "199.0",
                  "4": "0",
                  "5": "104",
                  "6": "2019-01-04",
                  "7": "220.55",
                  "8": "499.99",
                  "9": "9751.0"
                },
                {
                  "0": "surface.go",
                  "1": "8.392989",
                  "2": "44.0",
                  "3": "158.0",
                  "4": "0",
                  "5": "50",
                  "6": "2018-01-15",
                  "7": "220.55",
                  "8": "499.99",
                  "9": "6952.0"
                },
                {
                  "0": "surface.laptop3",
                  "1": "8.269757",
                  "2": "39.0",
                  "3": "294.0",
                  "4": "0",
                  "5": "49",
                  "6": "2018-01-18",
                  "7": "623.15",
                  "8": "1199.99",
                  "9": "11466.0"
                },
                {
                  "0": "surface.pro7",
                  "1": "9.078864",
                  "2": "87.0",
                  "3": "219.0",
                  "4": "1",
                  "5": "106",
                  "6": "2017-01-14",
                  "7": "400.83",
                  "8": "899.99",
                  "9": "19053.0"
                },
                {
                  "0": "surface.go",
                  "1": "9.0340805",
                  "2": "83.0",
                  "3": "120.0",
                  "4": "0",
                  "5": "126",
                  "6": "2018-01-26",
                  "7": "220.55",
                  "8": "499.99",
                  "9": "9960.0"
                },
                {
                  "0": "surface.go",
                  "1": "9.227787",
                  "2": "101.0",
                  "3": "179.0",
                  "4": "0",
                  "5": "119",
                  "6": "2017-01-05",
                  "7": "220.55",
                  "8": "499.99",
                  "9": "18079.0"
                },
                {
                  "0": "surface.laptop3",
                  "1": "9.176163",
                  "2": "96.0",
                  "3": "359.0",
                  "4": "0",
                  "5": "123",
                  "6": "2018-01-19",
                  "7": "623.15",
                  "8": "1199.99",
                  "9": "34464.0"
                },
                {
                  "0": "surface.laptop3",
                  "1": "10.695575",
                  "2": "441.0",
                  "3": "199.0",
                  "4": "0",
                  "5": "68",
                  "6": "2018-01-05",
                  "7": "623.15",
                  "8": "1199.99",
                  "9": "87759.0"
                },
                {
                  "0": "surface.laptop3",
                  "1": "9.53878",
                  "2": "138.0",
                  "3": "229.0",
                  "4": "0",
                  "5": "93",
                  "6": "2019-01-17",
                  "7": "623.15",
                  "8": "1199.99",
                  "9": "31602.0"
                },
                {
                  "0": "surface.laptop3",
                  "1": "8.219326",
                  "2": "37.0",
                  "3": "319.0",
                  "4": "0",
                  "5": "95",
                  "6": "2018-01-20",
                  "7": "623.15",
                  "8": "1199.99",
                  "9": "11803.0"
                },
                {
                  "0": "surface.go",
                  "1": "10.263677",
                  "2": "286.0",
                  "3": "149.0",
                  "4": "1",
                  "5": "80",
                  "6": "2018-01-01",
                  "7": "220.55",
                  "8": "499.99",
                  "9": "42614.0"
                },
                {
                  "0": "surface.go",
                  "1": "9.614204",
                  "2": "149.0",
                  "3": "134.0",
                  "4": "0",
                  "5": "21",
                  "6": "2019-01-25",
                  "7": "220.55",
                  "8": "499.99",
                  "9": "19966.0"
                },
                {
                  "0": "surface.laptop3",
                  "1": "8.868413",
                  "2": "71.0",
                  "3": "339.0",
                  "4": "0",
                  "5": "121",
                  "6": "2018-01-30",
                  "7": "623.15",
                  "8": "1199.99",
                  "9": "24069.0"
                },
                {
                  "0": "surface.go",
                  "1": "8.090709",
                  "2": "32.0",
                  "3": "159.0",
                  "4": "0",
                  "5": "9",
                  "6": "2018-01-31",
                  "7": "220.55",
                  "8": "499.99",
                  "9": "5088.0"
                },
                {
                  "0": "surface.laptop3",
                  "1": "7.45472",
                  "2": "17.0",
                  "3": "294.0",
                  "4": "0",
                  "5": "103",
                  "6": "2019-01-03",
                  "7": "623.15",
                  "8": "1199.99",
                  "9": "4998.0"
                },
                {
                  "0": "surface.laptop3",
                  "1": "8.8862705",
                  "2": "72.0",
                  "3": "289.0",
                  "4": "0",
                  "5": "132",
                  "6": "2019-01-23",
                  "7": "623.15",
                  "8": "1199.99",
                  "9": "20808.0"
                },
                {
                  "0": "surface.pro7",
                  "1": "9.828764",
                  "2": "185.0",
                  "3": "259.0",
                  "4": "1",
                  "5": "77",
                  "6": "2017-01-13",
                  "7": "400.83",
                  "8": "899.99",
                  "9": "47915.0"
                },
                {
                  "0": "surface.go",
                  "1": "8.803274",
                  "2": "66.0",
                  "3": "189.0",
                  "4": "0",
                  "5": "117",
                  "6": "2017-01-07",
                  "7": "220.55",
                  "8": "499.99",
                  "9": "12474.0"
                },
                {
                  "0": "surface.go",
                  "1": "10.881513",
                  "2": "531.0",
                  "3": "158.0",
                  "4": "0",
                  "5": "74",
                  "6": "2019-01-21",
                  "7": "220.55",
                  "8": "499.99",
                  "9": "83898.0"
                },
                {
                  "0": "surface.laptop3",
                  "1": "8.515592",
                  "2": "49.0",
                  "3": "339.0",
                  "4": "0",
                  "5": "48",
                  "6": "2018-01-15",
                  "7": "623.15",
                  "8": "1199.99",
                  "9": "16611.0"
                },
                {
                  "0": "surface.pro7",
                  "1": "8.00903",
                  "2": "30.0",
                  "3": "225.0",
                  "4": "0",
                  "5": "78",
                  "6": "2019-01-02",
                  "7": "400.83",
                  "8": "899.99",
                  "9": "6750.0"
                },
                {
                  "0": "surface.pro7",
                  "1": "8.090709",
                  "2": "32.0",
                  "3": "262.0",
                  "4": "0",
                  "5": "59",
                  "6": "2017-01-28",
                  "7": "400.83",
                  "8": "899.99",
                  "9": "8384.0"
                },
                {
                  "0": "surface.pro7",
                  "1": "10.89585",
                  "2": "539.0",
                  "3": "199.0",
                  "4": "1",
                  "5": "12",
                  "6": "2019-01-12",
                  "7": "400.83",
                  "8": "899.99",
                  "9": "107261.0"
                },
                {
                  "0": "surface.go",
                  "1": "9.010913",
                  "2": "81.0",
                  "3": "199.0",
                  "4": "0",
                  "5": "128",
                  "6": "2019-01-04",
                  "7": "220.55",
                  "8": "499.99",
                  "9": "16119.0"
                },
                {
                  "0": "surface.laptop3",
                  "1": "9.221478",
                  "2": "101.0",
                  "3": "299.0",
                  "4": "0",
                  "5": "5",
                  "6": "2019-01-25",
                  "7": "623.15",
                  "8": "1199.99",
                  "9": "30199.0"
                },
                {
                  "0": "surface.laptop3",
                  "1": "10.547444",
                  "2": "380.0",
                  "3": "250.0",
                  "4": "1",
                  "5": "52",
                  "6": "2019-01-04",
                  "7": "623.15",
                  "8": "1199.99",
                  "9": "95000.0"
                },
                {
                  "0": "surface.laptop3",
                  "1": "11.249793",
                  "2": "768.0",
                  "3": "199.0",
                  "4": "1",
                  "5": "74",
                  "6": "2019-01-28",
                  "7": "623.15",
                  "8": "1199.99",
                  "9": "152832.0"
                },
                {
                  "0": "surface.laptop3",
                  "1": "8.841014",
                  "2": "69.0",
                  "3": "273.0",
                  "4": "0",
                  "5": "83",
                  "6": "2018-01-24",
                  "7": "623.15",
                  "8": "1199.99",
                  "9": "18837.0"
                },
                {
                  "0": "surface.laptop3",
                  "1": "8.269757",
                  "2": "39.0",
                  "3": "387.0",
                  "4": "0",
                  "5": "71",
                  "6": "2017-01-31",
                  "7": "623.15",
                  "8": "1199.99",
                  "9": "15093.0"
                },
                {
                  "0": "surface.laptop3",
                  "1": "8.269757",
                  "2": "39.0",
                  "3": "339.0",
                  "4": "0",
                  "5": "126",
                  "6": "2017-01-07",
                  "7": "623.15",
                  "8": "1199.99",
                  "9": "13221.0"
                },
                {
                  "0": "surface.pro7",
                  "1": "8.090709",
                  "2": "32.0",
                  "3": "226.0",
                  "4": "0",
                  "5": "76",
                  "6": "2018-01-30",
                  "7": "400.83",
                  "8": "899.99",
                  "9": "7232.0"
                },
                {
                  "0": "surface.go",
                  "1": "9.35184",
                  "2": "115.0",
                  "3": "199.0",
                  "4": "0",
                  "5": "81",
                  "6": "2019-01-15",
                  "7": "220.55",
                  "8": "499.99",
                  "9": "22885.0"
                },
                {
                  "0": "surface.go",
                  "1": "10.446742",
                  "2": "344.0",
                  "3": "159.0",
                  "4": "0",
                  "5": "44",
                  "6": "2019-01-21",
                  "7": "220.55",
                  "8": "499.99",
                  "9": "54696.0"
                },
                {
                  "0": "surface.pro7",
                  "1": "9.768354",
                  "2": "174.0",
                  "3": "169.0",
                  "4": "0",
                  "5": "114",
                  "6": "2019-01-29",
                  "7": "400.83",
                  "8": "899.99",
                  "9": "29406.0"
                },
                {
                  "0": "surface.laptop3",
                  "1": "8.971067",
                  "2": "78.0",
                  "3": "319.0",
                  "4": "0",
                  "5": "102",
                  "6": "2017-01-07",
                  "7": "623.15",
                  "8": "1199.99",
                  "9": "24882.0"
                },
                {
                  "0": "surface.laptop3",
                  "1": "9.426742",
                  "2": "124.0",
                  "3": "273.0",
                  "4": "0",
                  "5": "122",
                  "6": "2018-01-05",
                  "7": "623.15",
                  "8": "1199.99",
                  "9": "33852.0"
                },
                {
                  "0": "surface.laptop3",
                  "1": "10.909985",
                  "2": "547.0",
                  "3": "199.0",
                  "4": "0",
                  "5": "113",
                  "6": "2018-01-05",
                  "7": "623.15",
                  "8": "1199.99",
                  "9": "108853.0"
                },
                {
                  "0": "surface.go",
                  "1": "8.435549",
                  "2": "46.0",
                  "3": "209.0",
                  "4": "0",
                  "5": "95",
                  "6": "2019-01-20",
                  "7": "220.55",
                  "8": "499.99",
                  "9": "9614.0"
                },
                {
                  "0": "surface.go",
                  "1": "8.995165",
                  "2": "80.0",
                  "3": "178.0",
                  "4": "0",
                  "5": "137",
                  "6": "2019-01-17",
                  "7": "220.55",
                  "8": "499.99",
                  "9": "14240.0"
                },
                {
                  "0": "surface.laptop3",
                  "1": "8.030084",
                  "2": "30.0",
                  "3": "366.0",
                  "4": "0",
                  "5": "110",
                  "6": "2017-01-03",
                  "7": "623.15",
                  "8": "1199.99",
                  "9": "10980.0"
                },
                {
                  "0": "surface.laptop3",
                  "1": "8.435549",
                  "2": "46.0",
                  "3": "318.0",
                  "4": "1",
                  "5": "123",
                  "6": "2019-01-27",
                  "7": "623.15",
                  "8": "1199.99",
                  "9": "14628.0"
                },
                {
                  "0": "surface.pro7",
                  "1": "8.1101265",
                  "2": "33.0",
                  "3": "259.0",
                  "4": "0",
                  "5": "130",
                  "6": "2018-01-08",
                  "7": "400.83",
                  "8": "899.99",
                  "9": "8547.0"
                },
                {
                  "0": "surface.pro7",
                  "1": "9.579418",
                  "2": "144.0",
                  "3": "239.0",
                  "4": "1",
                  "5": "117",
                  "6": "2017-01-03",
                  "7": "400.83",
                  "8": "899.99",
                  "9": "34416.0"
                },
                {
                  "0": "surface.go",
                  "1": "9.888983",
                  "2": "197.0",
                  "3": "100.0",
                  "4": "0",
                  "5": "21",
                  "6": "2019-01-14",
                  "7": "220.55",
                  "8": "499.99",
                  "9": "19700.0"
                },
                {
                  "0": "surface.laptop3",
                  "1": "8.743851",
                  "2": "62.0",
                  "3": "286.0",
                  "4": "0",
                  "5": "132",
                  "6": "2019-01-03",
                  "7": "623.15",
                  "8": "1199.99",
                  "9": "17732.0"
                },
                {
                  "0": "surface.go",
                  "1": "7.336937",
                  "2": "15.0",
                  "3": "219.0",
                  "4": "1",
                  "5": "56",
                  "6": "2018-01-26",
                  "7": "220.55",
                  "8": "499.99",
                  "9": "3285.0"
                },
                {
                  "0": "surface.laptop3",
                  "1": "8.841014",
                  "2": "69.0",
                  "3": "229.0",
                  "4": "0",
                  "5": "118",
                  "6": "2019-01-10",
                  "7": "623.15",
                  "8": "1199.99",
                  "9": "15801.0"
                },
                {
                  "0": "surface.laptop3",
                  "1": "8.723231",
                  "2": "61.0",
                  "3": "250.0",
                  "4": "0",
                  "5": "88",
                  "6": "2019-01-11",
                  "7": "623.15",
                  "8": "1199.99",
                  "9": "15250.0"
                },
                {
                  "0": "surface.laptop3",
                  "1": "9.142489",
                  "2": "93.0",
                  "3": "387.0",
                  "4": "0",
                  "5": "32",
                  "6": "2017-01-06",
                  "7": "623.15",
                  "8": "1199.99",
                  "9": "35991.0"
                },
                {
                  "0": "surface.laptop3",
                  "1": "8.553332",
                  "2": "51.0",
                  "3": "273.0",
                  "4": "0",
                  "5": "83",
                  "6": "2018-01-01",
                  "7": "623.15",
                  "8": "1199.99",
                  "9": "13923.0"
                },
                {
                  "0": "surface.pro7",
                  "1": "8.363576",
                  "2": "42.0",
                  "3": "239.0",
                  "4": "0",
                  "5": "72",
                  "6": "2018-01-08",
                  "7": "400.83",
                  "8": "899.99",
                  "9": "10038.0"
                },
                {
                  "0": "surface.go",
                  "1": "11.083495",
                  "2": "650.0",
                  "3": "158.0",
                  "4": "1",
                  "5": "53",
                  "6": "2019-01-07",
                  "7": "220.55",
                  "8": "499.99",
                  "9": "102700.0"
                },
                {
                  "0": "surface.laptop3",
                  "1": "7.8477626",
                  "2": "25.0",
                  "3": "339.0",
                  "4": "0",
                  "5": "110",
                  "6": "2018-01-22",
                  "7": "623.15",
                  "8": "1199.99",
                  "9": "8475.0"
                },
                {
                  "0": "surface.pro7",
                  "1": "10.955707",
                  "2": "572.0",
                  "3": "199.0",
                  "4": "1",
                  "5": "107",
                  "6": "2018-01-25",
                  "7": "400.83",
                  "8": "899.99",
                  "9": "113828.0"
                },
                {
                  "0": "surface.pro7",
                  "1": "9.601301",
                  "2": "147.0",
                  "3": "169.0",
                  "4": "0",
                  "5": "128",
                  "6": "2018-01-16",
                  "7": "400.83",
                  "8": "899.99",
                  "9": "24843.0"
                },
                {
                  "0": "surface.laptop3",
                  "1": "9.135617",
                  "2": "92.0",
                  "3": "299.0",
                  "4": "0",
                  "5": "5",
                  "6": "2019-01-09",
                  "7": "623.15",
                  "8": "1199.99",
                  "9": "27508.0"
                },
                {
                  "0": "surface.pro7",
                  "1": "10.135234",
                  "2": "252.0",
                  "3": "199.0",
                  "4": "1",
                  "5": "53",
                  "6": "2019-01-14",
                  "7": "400.83",
                  "8": "899.99",
                  "9": "50148.0"
                },
                {
                  "0": "surface.pro7",
                  "1": "8.680672",
                  "2": "58.0",
                  "3": "317.0",
                  "4": "0",
                  "5": "52",
                  "6": "2017-01-31",
                  "7": "400.83",
                  "8": "899.99",
                  "9": "18386.0"
                },
                {
                  "0": "surface.laptop3",
                  "1": "8.803274",
                  "2": "66.0",
                  "3": "273.0",
                  "4": "0",
                  "5": "59",
                  "6": "2018-01-15",
                  "7": "623.15",
                  "8": "1199.99",
                  "9": "18018.0"
                },
                {
                  "0": "surface.go",
                  "1": "7.4910874",
                  "2": "17.0",
                  "3": "219.0",
                  "4": "1",
                  "5": "47",
                  "6": "2018-01-26",
                  "7": "220.55",
                  "8": "499.99",
                  "9": "3723.0"
                },
                {
                  "0": "surface.laptop3",
                  "1": "9.195836",
                  "2": "98.0",
                  "3": "259.0",
                  "4": "0",
                  "5": "104",
                  "6": "2018-01-11",
                  "7": "623.15",
                  "8": "1199.99",
                  "9": "25382.0"
                },
                {
                  "0": "surface.go",
                  "1": "9.561561",
                  "2": "142.0",
                  "3": "99.0",
                  "4": "0",
                  "5": "5",
                  "6": "2017-01-16",
                  "7": "220.55",
                  "8": "499.99",
                  "9": "14058.0"
                },
                {
                  "0": "surface.laptop3",
                  "1": "10.712816",
                  "2": "449.0",
                  "3": "249.0",
                  "4": "1",
                  "5": "92",
                  "6": "2019-01-06",
                  "7": "623.15",
                  "8": "1199.99",
                  "9": "111801.0"
                },
                {
                  "0": "surface.laptop3",
                  "1": "9.282847",
                  "2": "107.0",
                  "3": "269.0",
                  "4": "0",
                  "5": "130",
                  "6": "2019-01-04",
                  "7": "623.15",
                  "8": "1199.99",
                  "9": "28783.0"
                },
                {
                  "0": "surface.go",
                  "1": "8.723231",
                  "2": "61.0",
                  "3": "159.0",
                  "4": "1",
                  "5": "40",
                  "6": "2018-01-29",
                  "7": "220.55",
                  "8": "499.99",
                  "9": "9699.0"
                },
                {
                  "0": "surface.go",
                  "1": "9.835637",
                  "2": "186.0",
                  "3": "169.0",
                  "4": "0",
                  "5": "8",
                  "6": "2019-01-23",
                  "7": "220.55",
                  "8": "499.99",
                  "9": "31434.0"
                },
                {
                  "0": "surface.pro7",
                  "1": "9.264829",
                  "2": "105.0",
                  "3": "262.0",
                  "4": "0",
                  "5": "121",
                  "6": "2017-01-27",
                  "7": "400.83",
                  "8": "899.99",
                  "9": "27510.0"
                },
                {
                  "0": "surface.go",
                  "1": "9.252633",
                  "2": "104.0",
                  "3": "159.0",
                  "4": "1",
                  "5": "104",
                  "6": "2018-01-29",
                  "7": "220.55",
                  "8": "499.99",
                  "9": "16536.0"
                },
                {
                  "0": "surface.pro7",
                  "1": "8.030084",
                  "2": "30.0",
                  "3": "299.0",
                  "4": "0",
                  "5": "116",
                  "6": "2017-01-27",
                  "7": "400.83",
                  "8": "899.99",
                  "9": "8970.0"
                },
                {
                  "0": "surface.laptop3",
                  "1": "8.702178",
                  "2": "60.0",
                  "3": "239.0",
                  "4": "0",
                  "5": "28",
                  "6": "2018-01-27",
                  "7": "623.15",
                  "8": "1199.99",
                  "9": "14340.0"
                },
                {
                  "0": "surface.go",
                  "1": "8.850231",
                  "2": "69.0",
                  "3": "159.0",
                  "4": "0",
                  "5": "123",
                  "6": "2018-01-19",
                  "7": "220.55",
                  "8": "499.99",
                  "9": "10971.0"
                },
                {
                  "0": "surface.pro7",
                  "1": "10.391331",
                  "2": "325.0",
                  "3": "199.0",
                  "4": "1",
                  "5": "131",
                  "6": "2018-01-27",
                  "7": "400.83",
                  "8": "899.99",
                  "9": "64675.0"
                },
                {
                  "0": "surface.pro7",
                  "1": "9.761002",
                  "2": "173.0",
                  "3": "199.0",
                  "4": "0",
                  "5": "84",
                  "6": "2017-01-21",
                  "7": "400.83",
                  "8": "899.99",
                  "9": "34427.0"
                },
                {
                  "0": "surface.pro7",
                  "1": "11.403825",
                  "2": "896.0",
                  "3": "199.0",
                  "4": "1",
                  "5": "115",
                  "6": "2019-01-21",
                  "7": "400.83",
                  "8": "899.99",
                  "9": "178304.0"
                },
                {
                  "0": "surface.laptop3",
                  "1": "8.236421",
                  "2": "37.0",
                  "3": "299.0",
                  "4": "0",
                  "5": "114",
                  "6": "2018-01-15",
                  "7": "623.15",
                  "8": "1199.99",
                  "9": "11063.0"
                },
                {
                  "0": "surface.pro7",
                  "1": "8.63622",
                  "2": "56.0",
                  "3": "262.0",
                  "4": "0",
                  "5": "70",
                  "6": "2017-01-24",
                  "7": "400.83",
                  "8": "899.99",
                  "9": "14672.0"
                },
                {
                  "0": "surface.laptop3",
                  "1": "7.8477626",
                  "2": "25.0",
                  "3": "366.0",
                  "4": "0",
                  "5": "89",
                  "6": "2017-01-17",
                  "7": "623.15",
                  "8": "1199.99",
                  "9": "9150.0"
                },
                {
                  "0": "surface.go",
                  "1": "10.367473",
                  "2": "318.0",
                  "3": "158.0",
                  "4": "0",
                  "5": "73",
                  "6": "2018-01-20",
                  "7": "220.55",
                  "8": "499.99",
                  "9": "50244.0"
                },
                {
                  "0": "surface.laptop3",
                  "1": "9.107643",
                  "2": "90.0",
                  "3": "359.0",
                  "4": "0",
                  "5": "53",
                  "6": "2018-01-27",
                  "7": "623.15",
                  "8": "1199.99",
                  "9": "32310.0"
                },
                {
                  "0": "surface.go",
                  "1": "8.502688",
                  "2": "49.0",
                  "3": "149.0",
                  "4": "0",
                  "5": "71",
                  "6": "2018-01-23",
                  "7": "220.55",
                  "8": "499.99",
                  "9": "7301.0"
                },
                {
                  "0": "surface.pro7",
                  "1": "8.754003",
                  "2": "63.0",
                  "3": "317.0",
                  "4": "0",
                  "5": "128",
                  "6": "2017-01-07",
                  "7": "400.83",
                  "8": "899.99",
                  "9": "19971.0"
                },
                {
                  "0": "surface.laptop3",
                  "1": "9.100526",
                  "2": "89.0",
                  "3": "260.0",
                  "4": "0",
                  "5": "101",
                  "6": "2019-01-12",
                  "7": "623.15",
                  "8": "1199.99",
                  "9": "23140.0"
                },
                {
                  "0": "surface.laptop3",
                  "1": "9.018696",
                  "2": "82.0",
                  "3": "273.0",
                  "4": "0",
                  "5": "122",
                  "6": "2018-01-25",
                  "7": "623.15",
                  "8": "1199.99",
                  "9": "22386.0"
                },
                {
                  "0": "surface.pro7",
                  "1": "9.169518",
                  "2": "96.0",
                  "3": "150.0",
                  "4": "0",
                  "5": "103",
                  "6": "2018-01-16",
                  "7": "400.83",
                  "8": "899.99",
                  "9": "14400.0"
                },
                {
                  "0": "surface.laptop3",
                  "1": "9.264829",
                  "2": "105.0",
                  "3": "296.0",
                  "4": "0",
                  "5": "126",
                  "6": "2018-01-08",
                  "7": "623.15",
                  "8": "1199.99",
                  "9": "31080.0"
                },
                {
                  "0": "surface.pro7",
                  "1": "9.25875",
                  "2": "104.0",
                  "3": "317.0",
                  "4": "0",
                  "5": "123",
                  "6": "2017-01-05",
                  "7": "400.83",
                  "8": "899.99",
                  "9": "32968.0"
                },
                {
                  "0": "surface.pro7",
                  "1": "10.450452",
                  "2": "345.0",
                  "3": "199.0",
                  "4": "1",
                  "5": "118",
                  "6": "2017-01-07",
                  "7": "400.83",
                  "8": "899.99",
                  "9": "68655.0"
                },
                {
                  "0": "surface.go",
                  "1": "10.564112",
                  "2": "387.0",
                  "3": "99.0",
                  "4": "0",
                  "5": "130",
                  "6": "2018-01-09",
                  "7": "220.55",
                  "8": "499.99",
                  "9": "38313.0"
                },
                {
                  "0": "surface.laptop3",
                  "1": "9.35738",
                  "2": "115.0",
                  "3": "259.0",
                  "4": "1",
                  "5": "80",
                  "6": "2019-01-22",
                  "7": "623.15",
                  "8": "1199.99",
                  "9": "29785.0"
                },
                {
                  "0": "surface.pro7",
                  "1": "9.00307",
                  "2": "81.0",
                  "3": "199.0",
                  "4": "0",
                  "5": "77",
                  "6": "2017-01-23",
                  "7": "400.83",
                  "8": "899.99",
                  "9": "16119.0"
                },
                {
                  "0": "surface.go",
                  "1": "10.305212",
                  "2": "298.0",
                  "3": "185.0",
                  "4": "1",
                  "5": "40",
                  "6": "2017-01-31",
                  "7": "220.55",
                  "8": "499.99",
                  "9": "55130.0"
                },
                {
                  "0": "surface.go",
                  "1": "8.449343",
                  "2": "46.0",
                  "3": "158.0",
                  "4": "1",
                  "5": "28",
                  "6": "2018-01-27",
                  "7": "220.55",
                  "8": "499.99",
                  "9": "7268.0"
                },
                {
                  "0": "surface.go",
                  "1": "10.053286",
                  "2": "232.0",
                  "3": "149.0",
                  "4": "1",
                  "5": "48",
                  "6": "2018-01-01",
                  "7": "220.55",
                  "8": "499.99",
                  "9": "34568.0"
                },
                {
                  "0": "surface.laptop3",
                  "1": "8.363576",
                  "2": "42.0",
                  "3": "309.0",
                  "4": "0",
                  "5": "51",
                  "6": "2018-01-04",
                  "7": "623.15",
                  "8": "1199.99",
                  "9": "12978.0"
                },
                {
                  "0": "surface.go",
                  "1": "9.472089",
                  "2": "129.0",
                  "3": "139.0",
                  "4": "0",
                  "5": "132",
                  "6": "2018-01-30",
                  "7": "220.55",
                  "8": "499.99",
                  "9": "17931.0"
                },
                {
                  "0": "surface.pro7",
                  "1": "9.614204",
                  "2": "149.0",
                  "3": "189.0",
                  "4": "0",
                  "5": "107",
                  "6": "2018-01-27",
                  "7": "400.83",
                  "8": "899.99",
                  "9": "28161.0"
                },
                {
                  "0": "surface.laptop3",
                  "1": "8.7936125",
                  "2": "65.0",
                  "3": "299.0",
                  "4": "0",
                  "5": "45",
                  "6": "2018-01-15",
                  "7": "623.15",
                  "8": "1199.99",
                  "9": "19435.0"
                },
                {
                  "0": "surface.pro7",
                  "1": "9.505991",
                  "2": "134.0",
                  "3": "199.0",
                  "4": "0",
                  "5": "44",
                  "6": "2017-01-14",
                  "7": "400.83",
                  "8": "899.99",
                  "9": "26666.0"
                },
                {
                  "0": "surface.pro7",
                  "1": "10.868187",
                  "2": "524.0",
                  "3": "219.0",
                  "4": "1",
                  "5": "68",
                  "6": "2019-01-03",
                  "7": "400.83",
                  "8": "899.99",
                  "9": "114756.0"
                },
                {
                  "0": "surface.laptop3",
                  "1": "9.35738",
                  "2": "115.0",
                  "3": "229.0",
                  "4": "0",
                  "5": "123",
                  "6": "2019-01-10",
                  "7": "623.15",
                  "8": "1199.99",
                  "9": "26335.0"
                },
                {
                  "0": "surface.go",
                  "1": "12.264492",
                  "2": "2120.0",
                  "3": "94.0",
                  "4": "1",
                  "5": "102",
                  "6": "2018-01-08",
                  "7": "220.55",
                  "8": "499.99",
                  "9": "199280.0"
                },
                {
                  "0": "surface.go",
                  "1": "9.53878",
                  "2": "138.0",
                  "3": "179.0",
                  "4": "0",
                  "5": "83",
                  "6": "2017-01-21",
                  "7": "220.55",
                  "8": "499.99",
                  "9": "24702.0"
                },
                {
                  "0": "surface.laptop3",
                  "1": "10.328494",
                  "2": "305.0",
                  "3": "279.0",
                  "4": "1",
                  "5": "128",
                  "6": "2019-01-22",
                  "7": "623.15",
                  "8": "1199.99",
                  "9": "85095.0"
                },
                {
                  "0": "surface.pro7",
                  "1": "9.930325",
                  "2": "205.0",
                  "3": "262.0",
                  "4": "0",
                  "5": "102",
                  "6": "2017-01-30",
                  "7": "400.83",
                  "8": "899.99",
                  "9": "53710.0"
                },
                {
                  "0": "surface.pro7",
                  "1": "8.5897",
                  "2": "53.0",
                  "3": "199.0",
                  "4": "0",
                  "5": "117",
                  "6": "2017-01-28",
                  "7": "400.83",
                  "8": "899.99",
                  "9": "10547.0"
                },
                {
                  "0": "surface.pro7",
                  "1": "7.049255",
                  "2": "11.0",
                  "3": "226.0",
                  "4": "0",
                  "5": "89",
                  "6": "2018-01-26",
                  "7": "400.83",
                  "8": "899.99",
                  "9": "2486.0"
                },
                {
                  "0": "surface.laptop3",
                  "1": "9.547955",
                  "2": "140.0",
                  "3": "387.0",
                  "4": "0",
                  "5": "53",
                  "6": "2017-01-16",
                  "7": "623.15",
                  "8": "1199.99",
                  "9": "54180.0"
                },
                {
                  "0": "surface.laptop3",
                  "1": "9.692272",
                  "2": "161.0",
                  "3": "250.0",
                  "4": "0",
                  "5": "8",
                  "6": "2019-01-11",
                  "7": "623.15",
                  "8": "1199.99",
                  "9": "40250.0"
                },
                {
                  "0": "surface.go",
                  "1": "9.55251",
                  "2": "140.0",
                  "3": "179.0",
                  "4": "0",
                  "5": "110",
                  "6": "2019-01-22",
                  "7": "220.55",
                  "8": "499.99",
                  "9": "25060.0"
                },
                {
                  "0": "surface.laptop3",
                  "1": "8.764053",
                  "2": "64.0",
                  "3": "299.0",
                  "4": "0",
                  "5": "116",
                  "6": "2019-01-25",
                  "7": "623.15",
                  "8": "1199.99",
                  "9": "19136.0"
                },
                {
                  "0": "surface.go",
                  "1": "10.184749",
                  "2": "264.0",
                  "3": "139.0",
                  "4": "1",
                  "5": "64",
                  "6": "2019-01-07",
                  "7": "220.55",
                  "8": "499.99",
                  "9": "36696.0"
                },
                {
                  "0": "surface.laptop3",
                  "1": "9.221478",
                  "2": "101.0",
                  "3": "319.0",
                  "4": "0",
                  "5": "73",
                  "6": "2017-01-06",
                  "7": "623.15",
                  "8": "1199.99",
                  "9": "32219.0"
                },
                {
                  "0": "surface.go",
                  "1": "8.613231",
                  "2": "55.0",
                  "3": "199.0",
                  "4": "0",
                  "5": "47",
                  "6": "2019-01-03",
                  "7": "220.55",
                  "8": "499.99",
                  "9": "10945.0"
                },
                {
                  "0": "surface.laptop3",
                  "1": "7.920083",
                  "2": "27.0",
                  "3": "339.0",
                  "4": "0",
                  "5": "117",
                  "6": "2018-01-23",
                  "7": "623.15",
                  "8": "1199.99",
                  "9": "9153.0"
                },
                {
                  "0": "surface.pro7",
                  "1": "8.37839",
                  "2": "43.0",
                  "3": "226.0",
                  "4": "0",
                  "5": "126",
                  "6": "2018-01-19",
                  "7": "400.83",
                  "8": "899.99",
                  "9": "9718.0"
                },
                {
                  "0": "surface.go",
                  "1": "9.329367",
                  "2": "112.0",
                  "3": "179.0",
                  "4": "0",
                  "5": "75",
                  "6": "2017-01-21",
                  "7": "220.55",
                  "8": "499.99",
                  "9": "20048.0"
                },
                {
                  "0": "surface.go",
                  "1": "10.234229",
                  "2": "278.0",
                  "3": "159.0",
                  "4": "1",
                  "5": "51",
                  "6": "2018-01-24",
                  "7": "220.55",
                  "8": "499.99",
                  "9": "44202.0"
                },
                {
                  "0": "surface.go",
                  "1": "10.513253",
                  "2": "368.0",
                  "3": "149.0",
                  "4": "1",
                  "5": "33",
                  "6": "2018-01-01",
                  "7": "220.55",
                  "8": "499.99",
                  "9": "54832.0"
                },
                {
                  "0": "surface.go",
                  "1": "9.583833",
                  "2": "145.0",
                  "3": "189.0",
                  "4": "0",
                  "5": "124",
                  "6": "2017-01-14",
                  "7": "220.55",
                  "8": "499.99",
                  "9": "27405.0"
                },
                {
                  "0": "surface.pro7",
                  "1": "7.9655457",
                  "2": "28.0",
                  "3": "249.0",
                  "4": "0",
                  "5": "92",
                  "6": "2019-01-31",
                  "7": "400.83",
                  "8": "899.99",
                  "9": "6972.0"
                },
                {
                  "0": "surface.laptop3",
                  "1": "8.54091",
                  "2": "51.0",
                  "3": "299.0",
                  "4": "0",
                  "5": "49",
                  "6": "2019-01-25",
                  "7": "623.15",
                  "8": "1199.99",
                  "9": "15249.0"
                },
                {
                  "0": "surface.laptop3",
                  "1": "8.00903",
                  "2": "30.0",
                  "3": "339.0",
                  "4": "0",
                  "5": "105",
                  "6": "2018-01-16",
                  "7": "623.15",
                  "8": "1199.99",
                  "9": "10170.0"
                },
                {
                  "0": "surface.pro7",
                  "1": "7.5600805",
                  "2": "19.0",
                  "3": "219.0",
                  "4": "1",
                  "5": "91",
                  "6": "2019-01-11",
                  "7": "400.83",
                  "8": "899.99",
                  "9": "4161.0"
                },
                {
                  "0": "surface.go",
                  "1": "9.149316",
                  "2": "94.0",
                  "3": "99.0",
                  "4": "0",
                  "5": "52",
                  "6": "2018-01-09",
                  "7": "220.55",
                  "8": "499.99",
                  "9": "9306.0"
                },
                {
                  "0": "surface.pro7",
                  "1": "9.329367",
                  "2": "112.0",
                  "3": "239.0",
                  "4": "1",
                  "5": "49",
                  "6": "2017-01-03",
                  "7": "400.83",
                  "8": "899.99",
                  "9": "26768.0"
                },
                {
                  "0": "surface.go",
                  "1": "8.5777235",
                  "2": "53.0",
                  "3": "179.0",
                  "4": "0",
                  "5": "103",
                  "6": "2019-01-27",
                  "7": "220.55",
                  "8": "499.99",
                  "9": "9487.0"
                },
                {
                  "0": "surface.pro7",
                  "1": "8.1101265",
                  "2": "33.0",
                  "3": "299.0",
                  "4": "0",
                  "5": "91",
                  "6": "2017-01-15",
                  "7": "400.83",
                  "8": "899.99",
                  "9": "9867.0"
                },
                {
                  "0": "surface.pro7",
                  "1": "9.462188",
                  "2": "128.0",
                  "3": "199.0",
                  "4": "0",
                  "5": "5",
                  "6": "2017-01-14",
                  "7": "400.83",
                  "8": "899.99",
                  "9": "25472.0"
                },
                {
                  "0": "surface.laptop3",
                  "1": "7.822445",
                  "2": "24.0",
                  "3": "339.0",
                  "4": "0",
                  "5": "117",
                  "6": "2018-01-08",
                  "7": "623.15",
                  "8": "1199.99",
                  "9": "8136.0"
                },
                {
                  "0": "surface.go",
                  "1": "9.609921",
                  "2": "149.0",
                  "3": "199.0",
                  "4": "0",
                  "5": "74",
                  "6": "2019-01-13",
                  "7": "220.55",
                  "8": "499.99",
                  "9": "29651.0"
                },
                {
                  "0": "surface.go",
                  "1": "10.383442",
                  "2": "323.0",
                  "3": "158.0",
                  "4": "0",
                  "5": "86",
                  "6": "2019-01-24",
                  "7": "220.55",
                  "8": "499.99",
                  "9": "51034.0"
                },
                {
                  "0": "surface.go",
                  "1": "8.050703",
                  "2": "31.0",
                  "3": "213.0",
                  "4": "0",
                  "5": "48",
                  "6": "2019-01-03",
                  "7": "220.55",
                  "8": "499.99",
                  "9": "6603.0"
                },
                {
                  "0": "surface.laptop3",
                  "1": "9.018696",
                  "2": "82.0",
                  "3": "299.0",
                  "4": "0",
                  "5": "94",
                  "6": "2018-01-27",
                  "7": "623.15",
                  "8": "1199.99",
                  "9": "24518.0"
                },
                {
                  "0": "surface.go",
                  "1": "8.363576",
                  "2": "42.0",
                  "3": "174.0",
                  "4": "0",
                  "5": "64",
                  "6": "2019-01-10",
                  "7": "220.55",
                  "8": "499.99",
                  "9": "7308.0"
                },
                {
                  "0": "surface.laptop3",
                  "1": "10.002427",
                  "2": "220.0",
                  "3": "217.0",
                  "4": "0",
                  "5": "59",
                  "6": "2019-01-13",
                  "7": "623.15",
                  "8": "1199.99",
                  "9": "47740.0"
                },
                {
                  "0": "surface.go",
                  "1": "8.743851",
                  "2": "62.0",
                  "3": "269.0",
                  "4": "0",
                  "5": "130",
                  "6": "2017-01-27",
                  "7": "220.55",
                  "8": "499.99",
                  "9": "16678.0"
                },
                {
                  "0": "surface.go",
                  "1": "10.135234",
                  "2": "252.0",
                  "3": "159.0",
                  "4": "1",
                  "5": "78",
                  "6": "2017-01-23",
                  "7": "220.55",
                  "8": "499.99",
                  "9": "40068.0"
                },
                {
                  "0": "surface.pro7",
                  "1": "8.979165",
                  "2": "79.0",
                  "3": "199.0",
                  "4": "0",
                  "5": "45",
                  "6": "2019-01-03",
                  "7": "400.83",
                  "8": "899.99",
                  "9": "15721.0"
                },
                {
                  "0": "surface.laptop3",
                  "1": "9.660141",
                  "2": "156.0",
                  "3": "216.0",
                  "4": "1",
                  "5": "103",
                  "6": "2019-01-02",
                  "7": "623.15",
                  "8": "1199.99",
                  "9": "33696.0"
                },
                {
                  "0": "surface.go",
                  "1": "9.524859",
                  "2": "136.0",
                  "3": "149.0",
                  "4": "1",
                  "5": "45",
                  "6": "2018-01-16",
                  "7": "220.55",
                  "8": "499.99",
                  "9": "20264.0"
                },
                {
                  "0": "surface.pro7",
                  "1": "11.47277",
                  "2": "960.0",
                  "3": "169.0",
                  "4": "1",
                  "5": "122",
                  "6": "2018-01-18",
                  "7": "400.83",
                  "8": "899.99",
                  "9": "162240.0"
                },
                {
                  "0": "surface.laptop3",
                  "1": "8.201935",
                  "2": "36.0",
                  "3": "339.0",
                  "4": "0",
                  "5": "49",
                  "6": "2018-01-13",
                  "7": "623.15",
                  "8": "1199.99",
                  "9": "12204.0"
                },
                {
                  "0": "surface.go",
                  "1": "7.336937",
                  "2": "15.0",
                  "3": "209.0",
                  "4": "0",
                  "5": "103",
                  "6": "2017-01-24",
                  "7": "220.55",
                  "8": "499.99",
                  "9": "3135.0"
                },
                {
                  "0": "surface.go",
                  "1": "8.995165",
                  "2": "80.0",
                  "3": "158.0",
                  "4": "0",
                  "5": "110",
                  "6": "2018-01-18",
                  "7": "220.55",
                  "8": "499.99",
                  "9": "12640.0"
                },
                {
                  "0": "surface.pro7",
                  "1": "8.00903",
                  "2": "30.0",
                  "3": "169.0",
                  "4": "0",
                  "5": "76",
                  "6": "2019-01-05",
                  "7": "400.83",
                  "8": "899.99",
                  "9": "5070.0"
                },
                {
                  "0": "surface.pro7",
                  "1": "8.528331",
                  "2": "50.0",
                  "3": "199.0",
                  "4": "0",
                  "5": "64",
                  "6": "2018-01-22",
                  "7": "400.83",
                  "8": "899.99",
                  "9": "9950.0"
                },
                {
                  "0": "surface.go",
                  "1": "8.733594",
                  "2": "62.0",
                  "3": "159.0",
                  "4": "1",
                  "5": "72",
                  "6": "2017-01-23",
                  "7": "220.55",
                  "8": "499.99",
                  "9": "9858.0"
                },
                {
                  "0": "surface.go",
                  "1": "10.053286",
                  "2": "232.0",
                  "3": "159.0",
                  "4": "1",
                  "5": "101",
                  "6": "2017-01-23",
                  "7": "220.55",
                  "8": "499.99",
                  "9": "36888.0"
                },
                {
                  "0": "surface.pro7",
                  "1": "9.715712",
                  "2": "165.0",
                  "3": "199.0",
                  "4": "1",
                  "5": "103",
                  "6": "2018-01-01",
                  "7": "400.83",
                  "8": "899.99",
                  "9": "32835.0"
                },
                {
                  "0": "surface.pro7",
                  "1": "8.553332",
                  "2": "51.0",
                  "3": "245.0",
                  "4": "1",
                  "5": "94",
                  "6": "2019-01-08",
                  "7": "400.83",
                  "8": "899.99",
                  "9": "12495.0"
                },
                {
                  "0": "surface.pro7",
                  "1": "9.078864",
                  "2": "87.0",
                  "3": "289.0",
                  "4": "0",
                  "5": "137",
                  "6": "2019-01-20",
                  "7": "400.83",
                  "8": "899.99",
                  "9": "25143.0"
                },
                {
                  "0": "surface.pro7",
                  "1": "8.929567",
                  "2": "75.0",
                  "3": "169.0",
                  "4": "0",
                  "5": "64",
                  "6": "2018-01-05",
                  "7": "400.83",
                  "8": "899.99",
                  "9": "12675.0"
                },
                {
                  "0": "surface.pro7",
                  "1": "9.927204",
                  "2": "204.0",
                  "3": "179.0",
                  "4": "0",
                  "5": "12",
                  "6": "2018-01-11",
                  "7": "400.83",
                  "8": "899.99",
                  "9": "36516.0"
                },
                {
                  "0": "surface.go",
                  "1": "9.169518",
                  "2": "96.0",
                  "3": "141.0",
                  "4": "1",
                  "5": "45",
                  "6": "2018-01-14",
                  "7": "220.55",
                  "8": "499.99",
                  "9": "13536.0"
                },
                {
                  "0": "surface.pro7",
                  "1": "9.294682",
                  "2": "108.0",
                  "3": "317.0",
                  "4": "0",
                  "5": "68",
                  "6": "2017-01-05",
                  "7": "400.83",
                  "8": "899.99",
                  "9": "34236.0"
                },
                {
                  "0": "surface.go",
                  "1": "8.1101265",
                  "2": "33.0",
                  "3": "158.0",
                  "4": "0",
                  "5": "77",
                  "6": "2018-01-01",
                  "7": "220.55",
                  "8": "499.99",
                  "9": "5214.0"
                },
                {
                  "0": "surface.go",
                  "1": "9.121728",
                  "2": "91.0",
                  "3": "199.0",
                  "4": "0",
                  "5": "2",
                  "6": "2019-01-02",
                  "7": "220.55",
                  "8": "499.99",
                  "9": "18109.0"
                },
                {
                  "0": "surface.pro7",
                  "1": "8.184235",
                  "2": "35.0",
                  "3": "226.0",
                  "4": "0",
                  "5": "101",
                  "6": "2018-01-12",
                  "7": "400.83",
                  "8": "899.99",
                  "9": "7910.0"
                },
                {
                  "0": "surface.pro7",
                  "1": "9.142489",
                  "2": "93.0",
                  "3": "241.0",
                  "4": "0",
                  "5": "84",
                  "6": "2018-01-22",
                  "7": "400.83",
                  "8": "899.99",
                  "9": "22413.0"
                },
                {
                  "0": "surface.laptop3",
                  "1": "8.147867",
                  "2": "34.0",
                  "3": "339.0",
                  "4": "0",
                  "5": "84",
                  "6": "2017-01-07",
                  "7": "623.15",
                  "8": "1199.99",
                  "9": "11526.0"
                },
                {
                  "0": "surface.go",
                  "1": "8.489616",
                  "2": "48.0",
                  "3": "219.0",
                  "4": "0",
                  "5": "51",
                  "6": "2018-01-25",
                  "7": "220.55",
                  "8": "499.99",
                  "9": "10512.0"
                },
                {
                  "0": "surface.pro7",
                  "1": "8.669743",
                  "2": "58.0",
                  "3": "259.0",
                  "4": "0",
                  "5": "72",
                  "6": "2018-01-18",
                  "7": "400.83",
                  "8": "899.99",
                  "9": "15022.0"
                },
                {
                  "0": "surface.laptop3",
                  "1": "9.11471",
                  "2": "90.0",
                  "3": "387.0",
                  "4": "0",
                  "5": "12",
                  "6": "2017-01-28",
                  "7": "623.15",
                  "8": "1199.99",
                  "9": "34830.0"
                },
                {
                  "0": "surface.laptop3",
                  "1": "8.269757",
                  "2": "39.0",
                  "3": "294.0",
                  "4": "0",
                  "5": "117",
                  "6": "2018-01-25",
                  "7": "623.15",
                  "8": "1199.99",
                  "9": "11466.0"
                },
                {
                  "0": "surface.pro7",
                  "1": "9.55251",
                  "2": "140.0",
                  "3": "209.0",
                  "4": "0",
                  "5": "128",
                  "6": "2018-01-19",
                  "7": "400.83",
                  "8": "899.99",
                  "9": "29260.0"
                },
                {
                  "0": "surface.pro7",
                  "1": "10.427979",
                  "2": "337.0",
                  "3": "199.0",
                  "4": "1",
                  "5": "115",
                  "6": "2018-01-01",
                  "7": "400.83",
                  "8": "899.99",
                  "9": "67063.0"
                },
                {
                  "0": "surface.go",
                  "1": "9.574984",
                  "2": "144.0",
                  "3": "134.0",
                  "4": "0",
                  "5": "33",
                  "6": "2019-01-22",
                  "7": "220.55",
                  "8": "499.99",
                  "9": "19296.0"
                },
                {
                  "0": "surface.laptop3",
                  "1": "8.723231",
                  "2": "61.0",
                  "3": "359.0",
                  "4": "0",
                  "5": "2",
                  "6": "2017-01-14",
                  "7": "623.15",
                  "8": "1199.99",
                  "9": "21899.0"
                },
                {
                  "0": "surface.pro7",
                  "1": "11.938768",
                  "2": "1530.0",
                  "3": "199.0",
                  "4": "1",
                  "5": "81",
                  "6": "2019-01-21",
                  "7": "400.83",
                  "8": "899.99",
                  "9": "304470.0"
                },
                {
                  "0": "surface.go",
                  "1": "10.191969",
                  "2": "266.0",
                  "3": "179.0",
                  "4": "0",
                  "5": "73",
                  "6": "2019-01-16",
                  "7": "220.55",
                  "8": "499.99",
                  "9": "47614.0"
                },
                {
                  "0": "surface.go",
                  "1": "8.392989",
                  "2": "44.0",
                  "3": "219.0",
                  "4": "0",
                  "5": "115",
                  "6": "2018-01-17",
                  "7": "220.55",
                  "8": "499.99",
                  "9": "9636.0"
                },
                {
                  "0": "surface.pro7",
                  "1": "9.221478",
                  "2": "101.0",
                  "3": "317.0",
                  "4": "0",
                  "5": "75",
                  "6": "2017-01-05",
                  "7": "400.83",
                  "8": "899.99",
                  "9": "32017.0"
                },
                {
                  "0": "surface.go",
                  "1": "8.219326",
                  "2": "37.0",
                  "3": "189.0",
                  "4": "0",
                  "5": "9",
                  "6": "2018-01-15",
                  "7": "220.55",
                  "8": "499.99",
                  "9": "6993.0"
                },
                {
                  "0": "surface.go",
                  "1": "9.583833",
                  "2": "145.0",
                  "3": "141.0",
                  "4": "1",
                  "5": "47",
                  "6": "2018-01-14",
                  "7": "220.55",
                  "8": "499.99",
                  "9": "20445.0"
                },
                {
                  "0": "surface.pro7",
                  "1": "9.195836",
                  "2": "98.0",
                  "3": "199.0",
                  "4": "0",
                  "5": "102",
                  "6": "2018-01-12",
                  "7": "400.83",
                  "8": "899.99",
                  "9": "19502.0"
                },
                {
                  "0": "surface.go",
                  "1": "8.449343",
                  "2": "46.0",
                  "3": "209.0",
                  "4": "0",
                  "5": "53",
                  "6": "2019-01-18",
                  "7": "220.55",
                  "8": "499.99",
                  "9": "9614.0"
                },
                {
                  "0": "surface.laptop3",
                  "1": "8.803274",
                  "2": "66.0",
                  "3": "282.0",
                  "4": "0",
                  "5": "124",
                  "6": "2019-01-29",
                  "7": "623.15",
                  "8": "1199.99",
                  "9": "18612.0"
                },
                {
                  "0": "surface.go",
                  "1": "10.328494",
                  "2": "305.0",
                  "3": "149.0",
                  "4": "0",
                  "5": "77",
                  "6": "2019-01-26",
                  "7": "220.55",
                  "8": "499.99",
                  "9": "45445.0"
                },
                {
                  "0": "surface.laptop3",
                  "1": "9.25875",
                  "2": "104.0",
                  "3": "359.0",
                  "4": "0",
                  "5": "128",
                  "6": "2018-01-08",
                  "7": "623.15",
                  "8": "1199.99",
                  "9": "37336.0"
                },
                {
                  "0": "surface.pro7",
                  "1": "9.790095",
                  "2": "178.0",
                  "3": "182.0",
                  "4": "0",
                  "5": "132",
                  "6": "2018-01-21",
                  "7": "400.83",
                  "8": "899.99",
                  "9": "32396.0"
                },
                {
                  "0": "surface.pro7",
                  "1": "8.743851",
                  "2": "62.0",
                  "3": "209.0",
                  "4": "0",
                  "5": "54",
                  "6": "2018-01-12",
                  "7": "400.83",
                  "8": "899.99",
                  "9": "12958.0"
                },
                {
                  "0": "surface.go",
                  "1": "7.9655457",
                  "2": "28.0",
                  "3": "219.0",
                  "4": "0",
                  "5": "113",
                  "6": "2018-01-03",
                  "7": "220.55",
                  "8": "499.99",
                  "9": "6132.0"
                },
                {
                  "0": "surface.pro7",
                  "1": "8.764053",
                  "2": "64.0",
                  "3": "199.0",
                  "4": "0",
                  "5": "116",
                  "6": "2018-01-29",
                  "7": "400.83",
                  "8": "899.99",
                  "9": "12736.0"
                },
                {
                  "0": "surface.laptop3",
                  "1": "8.201935",
                  "2": "36.0",
                  "3": "319.0",
                  "4": "0",
                  "5": "111",
                  "6": "2019-01-07",
                  "7": "623.15",
                  "8": "1199.99",
                  "9": "11484.0"
                },
                {
                  "0": "surface.laptop3",
                  "1": "9.764685",
                  "2": "174.0",
                  "3": "359.0",
                  "4": "0",
                  "5": "33",
                  "6": "2018-01-19",
                  "7": "623.15",
                  "8": "1199.99",
                  "9": "62466.0"
                },
                {
                  "0": "surface.laptop3",
                  "1": "9.078864",
                  "2": "87.0",
                  "3": "299.0",
                  "4": "0",
                  "5": "73",
                  "6": "2018-01-15",
                  "7": "623.15",
                  "8": "1199.99",
                  "9": "26013.0"
                },
                {
                  "0": "surface.go",
                  "1": "6.7979403",
                  "2": "8.0",
                  "3": "269.0",
                  "4": "0",
                  "5": "12",
                  "6": "2017-01-12",
                  "7": "220.55",
                  "8": "499.99",
                  "9": "2152.0"
                },
                {
                  "0": "surface.go",
                  "1": "10.234229",
                  "2": "278.0",
                  "3": "159.0",
                  "4": "0",
                  "5": "88",
                  "6": "2018-01-31",
                  "7": "220.55",
                  "8": "499.99",
                  "9": "44202.0"
                },
                {
                  "0": "surface.go",
                  "1": "9.35184",
                  "2": "115.0",
                  "3": "129.0",
                  "4": "0",
                  "5": "56",
                  "6": "2019-01-25",
                  "7": "220.55",
                  "8": "499.99",
                  "9": "14835.0"
                },
                {
                  "0": "surface.pro7",
                  "1": "8.050703",
                  "2": "31.0",
                  "3": "317.0",
                  "4": "0",
                  "5": "75",
                  "6": "2017-01-09",
                  "7": "400.83",
                  "8": "899.99",
                  "9": "9827.0"
                },
                {
                  "0": "surface.laptop3",
                  "1": "10.956823",
                  "2": "573.0",
                  "3": "199.0",
                  "4": "1",
                  "5": "132",
                  "6": "2018-01-26",
                  "7": "623.15",
                  "8": "1199.99",
                  "9": "114027.0"
                },
                {
                  "0": "surface.go",
                  "1": "9.635346",
                  "2": "152.0",
                  "3": "129.0",
                  "4": "0",
                  "5": "86",
                  "6": "2019-01-25",
                  "7": "220.55",
                  "8": "499.99",
                  "9": "19608.0"
                },
                {
                  "0": "surface.pro7",
                  "1": "7.8477626",
                  "2": "25.0",
                  "3": "226.0",
                  "4": "0",
                  "5": "45",
                  "6": "2018-01-19",
                  "7": "400.83",
                  "8": "899.99",
                  "9": "5650.0"
                },
                {
                  "0": "surface.laptop3",
                  "1": "9.566055",
                  "2": "142.0",
                  "3": "359.0",
                  "4": "0",
                  "5": "33",
                  "6": "2018-01-04",
                  "7": "623.15",
                  "8": "1199.99",
                  "9": "50978.0"
                },
                {
                  "0": "surface.laptop3",
                  "1": "9.346269",
                  "2": "114.0",
                  "3": "307.0",
                  "4": "0",
                  "5": "33",
                  "6": "2018-01-01",
                  "7": "623.15",
                  "8": "1199.99",
                  "9": "34998.0"
                },
                {
                  "0": "surface.pro7",
                  "1": "10.01967",
                  "2": "224.0",
                  "3": "149.0",
                  "4": "0",
                  "5": "33",
                  "6": "2018-01-01",
                  "7": "400.83",
                  "8": "899.99",
                  "9": "33376.0"
                },
                {
                  "0": "surface.pro7",
                  "1": "10.862071",
                  "2": "521.0",
                  "3": "199.0",
                  "4": "1",
                  "5": "98",
                  "6": "2017-01-12",
                  "7": "400.83",
                  "8": "899.99",
                  "9": "103679.0"
                },
                {
                  "0": "surface.go",
                  "1": "8.812843",
                  "2": "67.0",
                  "3": "158.0",
                  "4": "0",
                  "5": "76",
                  "6": "2018-01-25",
                  "7": "220.55",
                  "8": "499.99",
                  "9": "10586.0"
                },
                {
                  "0": "surface.go",
                  "1": "8.286017",
                  "2": "39.0",
                  "3": "229.0",
                  "4": "0",
                  "5": "8",
                  "6": "2017-01-29",
                  "7": "220.55",
                  "8": "499.99",
                  "9": "8931.0"
                },
                {
                  "0": "surface.laptop3",
                  "1": "7.2499256",
                  "2": "14.0",
                  "3": "316.0",
                  "4": "0",
                  "5": "97",
                  "6": "2018-01-04",
                  "7": "623.15",
                  "8": "1199.99",
                  "9": "4424.0"
                },
                {
                  "0": "surface.laptop3",
                  "1": "9.246479",
                  "2": "103.0",
                  "3": "359.0",
                  "4": "0",
                  "5": "52",
                  "6": "2018-01-10",
                  "7": "623.15",
                  "8": "1199.99",
                  "9": "36977.0"
                },
                {
                  "0": "surface.pro7",
                  "1": "8.954674",
                  "2": "77.0",
                  "3": "199.0",
                  "4": "0",
                  "5": "50",
                  "6": "2019-01-11",
                  "7": "400.83",
                  "8": "899.99",
                  "9": "15323.0"
                },
                {
                  "0": "surface.pro7",
                  "1": "9.227787",
                  "2": "101.0",
                  "3": "199.0",
                  "4": "0",
                  "5": "101",
                  "6": "2017-01-28",
                  "7": "400.83",
                  "8": "899.99",
                  "9": "20099.0"
                },
                {
                  "0": "surface.laptop3",
                  "1": "9.55251",
                  "2": "140.0",
                  "3": "249.0",
                  "4": "0",
                  "5": "113",
                  "6": "2019-01-12",
                  "7": "623.15",
                  "8": "1199.99",
                  "9": "34860.0"
                },
                {
                  "0": "surface.laptop3",
                  "1": "9.496421",
                  "2": "133.0",
                  "3": "359.0",
                  "4": "0",
                  "5": "124",
                  "6": "2018-01-05",
                  "7": "623.15",
                  "8": "1199.99",
                  "9": "47747.0"
                },
                {
                  "0": "surface.go",
                  "1": "9.276876",
                  "2": "106.0",
                  "3": "189.0",
                  "4": "0",
                  "5": "48",
                  "6": "2017-01-07",
                  "7": "220.55",
                  "8": "499.99",
                  "9": "20034.0"
                },
                {
                  "0": "surface.go",
                  "1": "8.764053",
                  "2": "64.0",
                  "3": "192.0",
                  "4": "0",
                  "5": "54",
                  "6": "2019-01-09",
                  "7": "220.55",
                  "8": "499.99",
                  "9": "12288.0"
                },
                {
                  "0": "surface.laptop3",
                  "1": "8.954674",
                  "2": "77.0",
                  "3": "339.0",
                  "4": "0",
                  "5": "113",
                  "6": "2018-01-13",
                  "7": "623.15",
                  "8": "1199.99",
                  "9": "26103.0"
                },
                {
                  "0": "surface.pro7",
                  "1": "9.176163",
                  "2": "96.0",
                  "3": "209.0",
                  "4": "0",
                  "5": "137",
                  "6": "2018-01-12",
                  "7": "400.83",
                  "8": "899.99",
                  "9": "20064.0"
                },
                {
                  "0": "surface.go",
                  "1": "10.838482",
                  "2": "509.0",
                  "3": "179.0",
                  "4": "1",
                  "5": "130",
                  "6": "2017-01-28",
                  "7": "220.55",
                  "8": "499.99",
                  "9": "91111.0"
                },
                {
                  "0": "surface.pro7",
                  "1": "9.121728",
                  "2": "91.0",
                  "3": "239.0",
                  "4": "0",
                  "5": "18",
                  "6": "2019-01-07",
                  "7": "400.83",
                  "8": "899.99",
                  "9": "21749.0"
                },
                {
                  "0": "surface.go",
                  "1": "8.929567",
                  "2": "75.0",
                  "3": "219.0",
                  "4": "0",
                  "5": "131",
                  "6": "2018-01-17",
                  "7": "220.55",
                  "8": "499.99",
                  "9": "16425.0"
                },
                {
                  "0": "surface.pro7",
                  "1": "11.808576",
                  "2": "1344.0",
                  "3": "196.0",
                  "4": "1",
                  "5": "124",
                  "6": "2019-01-21",
                  "7": "400.83",
                  "8": "899.99",
                  "9": "263424.0"
                },
                {
                  "0": "surface.laptop3",
                  "1": "8.565602",
                  "2": "52.0",
                  "3": "366.0",
                  "4": "0",
                  "5": "126",
                  "6": "2017-01-28",
                  "7": "623.15",
                  "8": "1199.99",
                  "9": "19032.0"
                },
                {
                  "0": "surface.laptop3",
                  "1": "9.25875",
                  "2": "104.0",
                  "3": "387.0",
                  "4": "0",
                  "5": "128",
                  "6": "2017-01-06",
                  "7": "623.15",
                  "8": "1199.99",
                  "9": "40248.0"
                },
                {
                  "0": "surface.pro7",
                  "1": "9.914625",
                  "2": "202.0",
                  "3": "199.0",
                  "4": "1",
                  "5": "51",
                  "6": "2019-01-12",
                  "7": "400.83",
                  "8": "899.99",
                  "9": "40198.0"
                },
                {
                  "0": "surface.go",
                  "1": "8.236421",
                  "2": "37.0",
                  "3": "156.0",
                  "4": "0",
                  "5": "121",
                  "6": "2019-01-11",
                  "7": "220.55",
                  "8": "499.99",
                  "9": "5772.0"
                },
                {
                  "0": "surface.pro7",
                  "1": "9.276876",
                  "2": "106.0",
                  "3": "199.0",
                  "4": "0",
                  "5": "89",
                  "6": "2017-01-23",
                  "7": "400.83",
                  "8": "899.99",
                  "9": "21094.0"
                },
                {
                  "0": "surface.go",
                  "1": "9.688313",
                  "2": "161.0",
                  "3": "141.0",
                  "4": "1",
                  "5": "89",
                  "6": "2018-01-14",
                  "7": "220.55",
                  "8": "499.99",
                  "9": "22701.0"
                },
                {
                  "0": "surface.laptop3",
                  "1": "9.862665",
                  "2": "192.0",
                  "3": "199.0",
                  "4": "0",
                  "5": "102",
                  "6": "2018-01-14",
                  "7": "623.15",
                  "8": "1199.99",
                  "9": "38208.0"
                },
                {
                  "0": "surface.go",
                  "1": "8.921057",
                  "2": "74.0",
                  "3": "147.0",
                  "4": "0",
                  "5": "121",
                  "6": "2018-01-13",
                  "7": "220.55",
                  "8": "499.99",
                  "9": "10878.0"
                },
                {
                  "0": "surface.pro7",
                  "1": "11.018498",
                  "2": "609.0",
                  "3": "149.0",
                  "4": "0",
                  "5": "9",
                  "6": "2018-01-01",
                  "7": "400.83",
                  "8": "899.99",
                  "9": "90741.0"
                },
                {
                  "0": "surface.laptop3",
                  "1": "8.201935",
                  "2": "36.0",
                  "3": "273.0",
                  "4": "0",
                  "5": "21",
                  "6": "2018-01-22",
                  "7": "623.15",
                  "8": "1199.99",
                  "9": "9828.0"
                },
                {
                  "0": "surface.go",
                  "1": "9.00307",
                  "2": "81.0",
                  "3": "199.0",
                  "4": "0",
                  "5": "81",
                  "6": "2019-01-13",
                  "7": "220.55",
                  "8": "499.99",
                  "9": "16119.0"
                },
                {
                  "0": "surface.laptop3",
                  "1": "8.219326",
                  "2": "37.0",
                  "3": "339.0",
                  "4": "0",
                  "5": "88",
                  "6": "2018-01-15",
                  "7": "623.15",
                  "8": "1199.99",
                  "9": "12543.0"
                },
                {
                  "0": "surface.laptop3",
                  "1": "10.083138",
                  "2": "239.0",
                  "3": "359.0",
                  "4": "0",
                  "5": "62",
                  "6": "2018-01-28",
                  "7": "623.15",
                  "8": "1199.99",
                  "9": "85801.0"
                },
                {
                  "0": "surface.go",
                  "1": "6.7238326",
                  "2": "8.0",
                  "3": "229.0",
                  "4": "0",
                  "5": "67",
                  "6": "2017-01-12",
                  "7": "220.55",
                  "8": "499.99",
                  "9": "1832.0"
                },
                {
                  "0": "surface.laptop3",
                  "1": "9.234056",
                  "2": "102.0",
                  "3": "329.0",
                  "4": "0",
                  "5": "93",
                  "6": "2017-01-07",
                  "7": "623.15",
                  "8": "1199.99",
                  "9": "33558.0"
                },
                {
                  "0": "surface.laptop3",
                  "1": "11.123018",
                  "2": "677.0",
                  "3": "169.0",
                  "4": "1",
                  "5": "5",
                  "6": "2018-01-29",
                  "7": "623.15",
                  "8": "1199.99",
                  "9": "114413.0"
                },
                {
                  "0": "surface.pro7",
                  "1": "9.835637",
                  "2": "186.0",
                  "3": "199.0",
                  "4": "1",
                  "5": "115",
                  "6": "2019-01-14",
                  "7": "400.83",
                  "8": "899.99",
                  "9": "37014.0"
                },
                {
                  "0": "surface.laptop3",
                  "1": "7.5600805",
                  "2": "19.0",
                  "3": "294.0",
                  "4": "0",
                  "5": "103",
                  "6": "2018-01-11",
                  "7": "623.15",
                  "8": "1199.99",
                  "9": "5586.0"
                },
                {
                  "0": "surface.pro7",
                  "1": "10.625028",
                  "2": "411.0",
                  "3": "219.0",
                  "4": "1",
                  "5": "76",
                  "6": "2019-01-03",
                  "7": "400.83",
                  "8": "899.99",
                  "9": "90009.0"
                },
                {
                  "0": "surface.go",
                  "1": "9.40063",
                  "2": "120.0",
                  "3": "129.0",
                  "4": "0",
                  "5": "80",
                  "6": "2019-01-25",
                  "7": "220.55",
                  "8": "499.99",
                  "9": "15480.0"
                },
                {
                  "0": "surface.laptop3",
                  "1": "7.9875245",
                  "2": "29.0",
                  "3": "273.0",
                  "4": "0",
                  "5": "21",
                  "6": "2017-01-07",
                  "7": "623.15",
                  "8": "1199.99",
                  "9": "7917.0"
                },
                {
                  "0": "surface.laptop3",
                  "1": "7.2943773",
                  "2": "14.0",
                  "3": "366.0",
                  "4": "0",
                  "5": "97",
                  "6": "2017-01-26",
                  "7": "623.15",
                  "8": "1199.99",
                  "9": "5124.0"
                },
                {
                  "0": "surface.pro7",
                  "1": "7.41698",
                  "2": "16.0",
                  "3": "269.0",
                  "4": "0",
                  "5": "110",
                  "6": "2019-01-06",
                  "7": "400.83",
                  "8": "899.99",
                  "9": "4304.0"
                },
                {
                  "0": "surface.laptop3",
                  "1": "8.407378",
                  "2": "44.0",
                  "3": "319.0",
                  "4": "0",
                  "5": "132",
                  "6": "2017-01-07",
                  "7": "623.15",
                  "8": "1199.99",
                  "9": "14036.0"
                },
                {
                  "0": "surface.laptop3",
                  "1": "10.37149",
                  "2": "319.0",
                  "3": "199.0",
                  "4": "1",
                  "5": "104",
                  "6": "2019-01-28",
                  "7": "623.15",
                  "8": "1199.99",
                  "9": "63481.0"
                },
                {
                  "0": "surface.pro7",
                  "1": "9.529521",
                  "2": "137.0",
                  "3": "199.0",
                  "4": "1",
                  "5": "47",
                  "6": "2018-01-27",
                  "7": "400.83",
                  "8": "899.99",
                  "9": "27263.0"
                },
                {
                  "0": "surface.pro7",
                  "1": "7.6852436",
                  "2": "21.0",
                  "3": "299.0",
                  "4": "0",
                  "5": "49",
                  "6": "2017-01-20",
                  "7": "400.83",
                  "8": "899.99",
                  "9": "6279.0"
                },
                {
                  "0": "surface.pro7",
                  "1": "8.269757",
                  "2": "39.0",
                  "3": "262.0",
                  "4": "0",
                  "5": "102",
                  "6": "2017-01-24",
                  "7": "400.83",
                  "8": "899.99",
                  "9": "10218.0"
                },
                {
                  "0": "surface.laptop3",
                  "1": "8.407378",
                  "2": "44.0",
                  "3": "319.0",
                  "4": "0",
                  "5": "134",
                  "6": "2018-01-19",
                  "7": "623.15",
                  "8": "1199.99",
                  "9": "14036.0"
                },
                {
                  "0": "surface.pro7",
                  "1": "8.253227",
                  "2": "38.0",
                  "3": "262.0",
                  "4": "0",
                  "5": "86",
                  "6": "2017-01-10",
                  "7": "400.83",
                  "8": "899.99",
                  "9": "9956.0"
                },
                {
                  "0": "surface.pro7",
                  "1": "9.182764",
                  "2": "97.0",
                  "3": "199.0",
                  "4": "0",
                  "5": "132",
                  "6": "2019-01-14",
                  "7": "400.83",
                  "8": "899.99",
                  "9": "19303.0"
                },
                {
                  "0": "surface.pro7",
                  "1": "9.811372",
                  "2": "182.0",
                  "3": "184.0",
                  "4": "0",
                  "5": "137",
                  "6": "2019-01-05",
                  "7": "400.83",
                  "8": "899.99",
                  "9": "33488.0"
                },
                {
                  "0": "surface.pro7",
                  "1": "8.822322",
                  "2": "67.0",
                  "3": "299.0",
                  "4": "0",
                  "5": "129",
                  "6": "2017-01-30",
                  "7": "400.83",
                  "8": "899.99",
                  "9": "20033.0"
                },
                {
                  "0": "surface.go",
                  "1": "9.335032",
                  "2": "113.0",
                  "3": "159.0",
                  "4": "0",
                  "5": "112",
                  "6": "2018-01-12",
                  "7": "220.55",
                  "8": "499.99",
                  "9": "17967.0"
                },
                {
                  "0": "surface.laptop3",
                  "1": "9.86931",
                  "2": "193.0",
                  "3": "199.0",
                  "4": "1",
                  "5": "64",
                  "6": "2018-01-22",
                  "7": "623.15",
                  "8": "1199.99",
                  "9": "38407.0"
                },
                {
                  "0": "surface.go",
                  "1": "11.154649",
                  "2": "698.0",
                  "3": "229.0",
                  "4": "1",
                  "5": "112",
                  "6": "2017-01-30",
                  "7": "220.55",
                  "8": "499.99",
                  "9": "159842.0"
                },
                {
                  "0": "surface.laptop3",
                  "1": "8.7936125",
                  "2": "65.0",
                  "3": "299.0",
                  "4": "0",
                  "5": "45",
                  "6": "2018-01-15",
                  "7": "623.15",
                  "8": "1199.99",
                  "9": "19435.0"
                },
                {
                  "0": "surface.go",
                  "1": "11.269579",
                  "2": "784.0",
                  "3": "99.0",
                  "4": "1",
                  "5": "14",
                  "6": "2018-01-19",
                  "7": "220.55",
                  "8": "499.99",
                  "9": "77616.0"
                },
                {
                  "0": "surface.go",
                  "1": "10.824567",
                  "2": "502.0",
                  "3": "158.0",
                  "4": "1",
                  "5": "76",
                  "6": "2018-01-29",
                  "7": "220.55",
                  "8": "499.99",
                  "9": "79316.0"
                },
                {
                  "0": "surface.go",
                  "1": "7.872455",
                  "2": "26.0",
                  "3": "199.0",
                  "4": "1",
                  "5": "117",
                  "6": "2018-01-01",
                  "7": "220.55",
                  "8": "499.99",
                  "9": "5174.0"
                },
                {
                  "0": "surface.go",
                  "1": "9.892224",
                  "2": "197.0",
                  "3": "159.0",
                  "4": "1",
                  "5": "132",
                  "6": "2018-01-20",
                  "7": "220.55",
                  "8": "499.99",
                  "9": "31323.0"
                },
                {
                  "0": "surface.go",
                  "1": "9.010913",
                  "2": "81.0",
                  "3": "158.0",
                  "4": "0",
                  "5": "91",
                  "6": "2019-01-07",
                  "7": "220.55",
                  "8": "499.99",
                  "9": "12798.0"
                },
                {
                  "0": "surface.pro7",
                  "1": "8.803274",
                  "2": "66.0",
                  "3": "262.0",
                  "4": "0",
                  "5": "102",
                  "6": "2017-01-31",
                  "7": "400.83",
                  "8": "899.99",
                  "9": "17292.0"
                },
                {
                  "0": "surface.go",
                  "1": "9.618468",
                  "2": "150.0",
                  "3": "158.0",
                  "4": "0",
                  "5": "90",
                  "6": "2019-01-21",
                  "7": "220.55",
                  "8": "499.99",
                  "9": "23700.0"
                },
                {
                  "0": "surface.laptop3",
                  "1": "10.525353",
                  "2": "372.0",
                  "3": "199.0",
                  "4": "1",
                  "5": "95",
                  "6": "2018-01-26",
                  "7": "623.15",
                  "8": "1199.99",
                  "9": "74028.0"
                },
                {
                  "0": "surface.go",
                  "1": "9.651944",
                  "2": "155.0",
                  "3": "143.0",
                  "4": "0",
                  "5": "122",
                  "6": "2019-01-14",
                  "7": "220.55",
                  "8": "499.99",
                  "9": "22165.0"
                },
                {
                  "0": "surface.go",
                  "1": "9.312175",
                  "2": "110.0",
                  "3": "158.0",
                  "4": "0",
                  "5": "77",
                  "6": "2019-01-24",
                  "7": "220.55",
                  "8": "499.99",
                  "9": "17380.0"
                },
                {
                  "0": "surface.laptop3",
                  "1": "8.929567",
                  "2": "75.0",
                  "3": "366.0",
                  "4": "0",
                  "5": "54",
                  "6": "2017-01-15",
                  "7": "623.15",
                  "8": "1199.99",
                  "9": "27450.0"
                },
                {
                  "0": "surface.go",
                  "1": "7.2034054",
                  "2": "13.0",
                  "3": "269.0",
                  "4": "1",
                  "5": "68",
                  "6": "2018-01-26",
                  "7": "220.55",
                  "8": "499.99",
                  "9": "3497.0"
                }
              ],
              "schema": [
                {
                  "key": "0",
                  "name": "productCode",
                  "type": "string"
                },
                {
                  "key": "1",
                  "name": "logQuantity",
                  "type": "float"
                },
                {
                  "key": "2",
                  "name": "quantity",
                  "type": "float"
                },
                {
                  "key": "3",
                  "name": "price",
                  "type": "float"
                },
                {
                  "key": "4",
                  "name": "advertising",
                  "type": "bigint"
                },
                {
                  "key": "5",
                  "name": "storeId",
                  "type": "bigint"
                },
                {
                  "key": "6",
                  "name": "weekStarting",
                  "type": "date"
                },
                {
                  "key": "7",
                  "name": "wholeSaleCost",
                  "type": "float"
                },
                {
                  "key": "8",
                  "name": "basePrice",
                  "type": "float"
                },
                {
                  "key": "9",
                  "name": "sales",
                  "type": "float"
                }
              ]
            },
            "isSummary": false,
            "language": "scala"
          },
          "persist_state": {
            "view": {
              "type": "details",
              "tableOptions": {},
              "chartOptions": {
                "chartType": "line",
                "aggregationType": "sum",
                "categoryFieldKeys": [
                  "6"
                ],
                "seriesFieldKeys": [
                  "2"
                ],
                "isStacked": false,
                "pivotFieldKey": "0"
              }
            }
          }
        }
      }
    }
  },
  "nbformat": 4,
  "nbformat_minor": 2
}