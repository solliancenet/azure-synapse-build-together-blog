{
  "cells": [
    {
      "cell_type": "markdown",
      "source": [
        "For this notebook, it might be preferable to increase the number of executors for the session. With the `livedemo` pool, you can allocate up to 9 executors."
      ],
      "metadata": {
        "nteract": {
          "transient": {
            "deleting": false
          }
        }
      }
    },
    {
      "cell_type": "markdown",
      "source": [
        "###### Load the NYC Safety Dataset from Azure Open Datasets, which contains roughly 10 million rows."
      ],
      "metadata": {
        "nteract": {
          "transient": {
            "deleting": false
          }
        }
      }
    },
    {
      "cell_type": "code",
      "source": [
        "# This is a package in preview.\r\n",
        "from azureml.opendatasets import NycSafety\r\n",
        "\r\n",
        "from datetime import datetime\r\n",
        "from dateutil import parser\r\n",
        "\r\n",
        "start_date = parser.parse(\"2015-01-01\")\r\n",
        "end_date = parser.parse(\"2019-01-01\")\r\n",
        "\r\n",
        "safety = NycSafety(start_date=start_date, end_date=end_date)\r\n",
        "safety = safety.to_spark_dataframe()"
      ],
      "outputs": [
        {
          "output_type": "display_data",
          "data": {
            "application/vnd.livy.statement-meta+json": {
              "spark_pool": "livedemo",
              "session_id": 11,
              "statement_id": 1,
              "state": "finished",
              "livy_statement_state": "available",
              "queued_time": "2021-08-24T04:23:56.666016Z",
              "session_start_time": "2021-08-24T04:23:56.6952207Z",
              "execution_start_time": "2021-08-24T04:26:16.4987776Z",
              "execution_finish_time": "2021-08-24T04:26:45.6120006Z"
            },
            "text/plain": "StatementMeta(livedemo, 11, 1, Finished, Available)"
          },
          "metadata": {}
        },
        {
          "output_type": "stream",
          "name": "stdout",
          "text": []
        }
      ],
      "execution_count": 1,
      "metadata": {}
    },
    {
      "cell_type": "code",
      "source": [
        "print(safety.count())"
      ],
      "outputs": [
        {
          "output_type": "display_data",
          "data": {
            "application/vnd.livy.statement-meta+json": {
              "spark_pool": "livedemo",
              "session_id": 11,
              "statement_id": 2,
              "state": "finished",
              "livy_statement_state": "available",
              "queued_time": "2021-08-24T04:26:50.1164192Z",
              "session_start_time": null,
              "execution_start_time": "2021-08-24T04:26:50.2211129Z",
              "execution_finish_time": "2021-08-24T04:27:58.3189791Z"
            },
            "text/plain": "StatementMeta(livedemo, 11, 2, Finished, Available)"
          },
          "metadata": {}
        },
        {
          "output_type": "stream",
          "name": "stdout",
          "text": [
            "9931558"
          ]
        }
      ],
      "execution_count": 2,
      "metadata": {
        "jupyter": {
          "source_hidden": false,
          "outputs_hidden": false
        },
        "nteract": {
          "transient": {
            "deleting": false
          }
        },
        "collapsed": true
      }
    },
    {
      "cell_type": "markdown",
      "source": [
        "Determine the number of partitions and view how the DataFrame's contents are distributed among the partitions."
      ],
      "metadata": {
        "nteract": {
          "transient": {
            "deleting": false
          }
        }
      }
    },
    {
      "cell_type": "code",
      "source": [
        "print(safety.rdd.getNumPartitions())"
      ],
      "outputs": [
        {
          "output_type": "display_data",
          "data": {
            "application/vnd.livy.statement-meta+json": {
              "spark_pool": "livedemo",
              "session_id": 11,
              "statement_id": 3,
              "state": "finished",
              "livy_statement_state": "available",
              "queued_time": "2021-08-24T04:28:04.7240275Z",
              "session_start_time": null,
              "execution_start_time": "2021-08-24T04:28:04.8221441Z",
              "execution_finish_time": "2021-08-24T04:28:04.9705563Z"
            },
            "text/plain": "StatementMeta(livedemo, 11, 3, Finished, Available)"
          },
          "metadata": {}
        },
        {
          "output_type": "stream",
          "name": "stdout",
          "text": [
            "33"
          ]
        }
      ],
      "execution_count": 3,
      "metadata": {
        "jupyter": {
          "source_hidden": false,
          "outputs_hidden": false
        },
        "nteract": {
          "transient": {
            "deleting": false
          }
        },
        "collapsed": true
      }
    },
    {
      "cell_type": "code",
      "source": [
        "print('Data Distribution: ' + str(safety.rdd.glom().map(len).collect()))"
      ],
      "outputs": [
        {
          "output_type": "display_data",
          "data": {
            "application/vnd.livy.statement-meta+json": {
              "spark_pool": "livedemo",
              "session_id": 11,
              "statement_id": 4,
              "state": "finished",
              "livy_statement_state": "available",
              "queued_time": "2021-08-24T04:28:15.6894794Z",
              "session_start_time": null,
              "execution_start_time": "2021-08-24T04:28:15.7755914Z",
              "execution_finish_time": "2021-08-24T04:28:46.8936839Z"
            },
            "text/plain": "StatementMeta(livedemo, 11, 4, Finished, Available)"
          },
          "metadata": {}
        },
        {
          "output_type": "stream",
          "name": "stdout",
          "text": [
            "Data Distribution: [297665, 300079, 297454, 300552, 0, 1240727, 0, 0, 1241253, 0, 0, 1242133, 0, 0, 1241342, 0, 0, 1242400, 0, 0, 1242229, 0, 0, 1241482, 0, 0, 0, 0, 0, 0, 0, 0, 44242]"
          ]
        }
      ],
      "execution_count": 4,
      "metadata": {
        "jupyter": {
          "source_hidden": false,
          "outputs_hidden": false
        },
        "nteract": {
          "transient": {
            "deleting": false
          }
        },
        "collapsed": true
      }
    },
    {
      "cell_type": "markdown",
      "source": [
        "The following code cells will repartition the `safety` DataFrame and save the partitions as Parquet files. Please edit the `PARTITIONS_EXPERIMENT_ROOT` before running the cells below. Specify your ADLS Gen2 account and the root container name."
      ],
      "metadata": {
        "nteract": {
          "transient": {
            "deleting": false
          }
        }
      }
    },
    {
      "cell_type": "code",
      "source": [
        "PARTITIONS_EXPERIMENT_ROOT = 'abfss://users@saisynapsebloglake.dfs.core.windows.net/SafetyDataPartitions/'"
      ],
      "outputs": [
        {
          "output_type": "display_data",
          "data": {
            "application/vnd.livy.statement-meta+json": {
              "spark_pool": "livedemo",
              "session_id": 11,
              "statement_id": 5,
              "state": "finished",
              "livy_statement_state": "available",
              "queued_time": "2021-08-24T04:29:02.1332982Z",
              "session_start_time": null,
              "execution_start_time": "2021-08-24T04:29:02.2316914Z",
              "execution_finish_time": "2021-08-24T04:29:02.3820064Z"
            },
            "text/plain": "StatementMeta(livedemo, 11, 5, Finished, Available)"
          },
          "metadata": {}
        },
        {
          "output_type": "stream",
          "name": "stdout",
          "text": []
        }
      ],
      "execution_count": 5,
      "metadata": {
        "jupyter": {
          "source_hidden": false,
          "outputs_hidden": false
        },
        "nteract": {
          "transient": {
            "deleting": false
          }
        },
        "collapsed": true
      }
    },
    {
      "cell_type": "code",
      "source": [
        "safety_1 = safety.repartition(1)\r\n",
        "safety_1.write.mode('overwrite').parquet(PARTITIONS_EXPERIMENT_ROOT + '1')"
      ],
      "outputs": [
        {
          "output_type": "display_data",
          "data": {
            "application/vnd.livy.statement-meta+json": {
              "spark_pool": "livedemo",
              "session_id": 11,
              "statement_id": 6,
              "state": "finished",
              "livy_statement_state": "available",
              "queued_time": "2021-08-24T04:29:09.0216047Z",
              "session_start_time": null,
              "execution_start_time": "2021-08-24T04:29:09.1120864Z",
              "execution_finish_time": "2021-08-24T04:30:07.2739905Z"
            },
            "text/plain": "StatementMeta(livedemo, 11, 6, Finished, Available)"
          },
          "metadata": {}
        },
        {
          "output_type": "stream",
          "name": "stdout",
          "text": []
        }
      ],
      "execution_count": 6,
      "metadata": {
        "jupyter": {
          "source_hidden": false,
          "outputs_hidden": false
        },
        "nteract": {
          "transient": {
            "deleting": false
          }
        },
        "collapsed": true
      }
    },
    {
      "cell_type": "code",
      "source": [
        "safety_10 = safety.repartition(10)\r\n",
        "safety_10.write.mode('overwrite').parquet(PARTITIONS_EXPERIMENT_ROOT + '10')"
      ],
      "outputs": [
        {
          "output_type": "display_data",
          "data": {
            "application/vnd.livy.statement-meta+json": {
              "spark_pool": "livedemo",
              "session_id": 11,
              "statement_id": 7,
              "state": "finished",
              "livy_statement_state": "available",
              "queued_time": "2021-08-24T04:30:36.2655257Z",
              "session_start_time": null,
              "execution_start_time": "2021-08-24T04:30:36.3543294Z",
              "execution_finish_time": "2021-08-24T04:31:09.6505622Z"
            },
            "text/plain": "StatementMeta(livedemo, 11, 7, Finished, Available)"
          },
          "metadata": {}
        },
        {
          "output_type": "stream",
          "name": "stdout",
          "text": []
        }
      ],
      "execution_count": 7,
      "metadata": {
        "jupyter": {
          "source_hidden": false,
          "outputs_hidden": false
        },
        "nteract": {
          "transient": {
            "deleting": false
          }
        },
        "collapsed": true
      }
    },
    {
      "cell_type": "code",
      "source": [
        "safety_100 = safety.repartition(100)\r\n",
        "safety_100.write.mode('overwrite').parquet(PARTITIONS_EXPERIMENT_ROOT + '100')"
      ],
      "outputs": [
        {
          "output_type": "display_data",
          "data": {
            "application/vnd.livy.statement-meta+json": {
              "spark_pool": "livedemo",
              "session_id": 11,
              "statement_id": 8,
              "state": "finished",
              "livy_statement_state": "available",
              "queued_time": "2021-08-24T04:31:35.732957Z",
              "session_start_time": null,
              "execution_start_time": "2021-08-24T04:31:35.8291526Z",
              "execution_finish_time": "2021-08-24T04:31:56.6313181Z"
            },
            "text/plain": "StatementMeta(livedemo, 11, 8, Finished, Available)"
          },
          "metadata": {}
        },
        {
          "output_type": "stream",
          "name": "stdout",
          "text": []
        }
      ],
      "execution_count": 8,
      "metadata": {
        "jupyter": {
          "source_hidden": false,
          "outputs_hidden": false
        },
        "nteract": {
          "transient": {
            "deleting": false
          }
        },
        "collapsed": true
      }
    },
    {
      "cell_type": "code",
      "source": [
        "safety_1k = safety.repartition(1000)\r\n",
        "safety_1k.write.mode('overwrite').parquet(PARTITIONS_EXPERIMENT_ROOT + '1k')"
      ],
      "outputs": [
        {
          "output_type": "display_data",
          "data": {
            "application/vnd.livy.statement-meta+json": {
              "spark_pool": "livedemo",
              "session_id": 11,
              "statement_id": 9,
              "state": "finished",
              "livy_statement_state": "available",
              "queued_time": "2021-08-24T04:33:05.8780482Z",
              "session_start_time": null,
              "execution_start_time": "2021-08-24T04:33:05.9749087Z",
              "execution_finish_time": "2021-08-24T04:33:33.0063514Z"
            },
            "text/plain": "StatementMeta(livedemo, 11, 9, Finished, Available)"
          },
          "metadata": {}
        },
        {
          "output_type": "stream",
          "name": "stdout",
          "text": []
        }
      ],
      "execution_count": 1,
      "metadata": {
        "jupyter": {
          "source_hidden": false,
          "outputs_hidden": false
        },
        "nteract": {
          "transient": {
            "deleting": false
          }
        },
        "collapsed": true
      }
    },
    {
      "cell_type": "code",
      "source": [
        "safety_10k = safety.repartition(10000)\r\n",
        "safety_10k.write.mode('overwrite').parquet(PARTITIONS_EXPERIMENT_ROOT + '10k')"
      ],
      "outputs": [
        {
          "output_type": "display_data",
          "data": {
            "application/vnd.livy.statement-meta+json": {
              "spark_pool": "livedemo",
              "session_id": 11,
              "statement_id": 10,
              "state": "finished",
              "livy_statement_state": "available",
              "queued_time": "2021-08-24T04:33:41.7979208Z",
              "session_start_time": null,
              "execution_start_time": "2021-08-24T04:33:41.8867423Z",
              "execution_finish_time": "2021-08-24T04:34:35.7047039Z"
            },
            "text/plain": "StatementMeta(livedemo, 11, 10, Finished, Available)"
          },
          "metadata": {}
        },
        {
          "output_type": "stream",
          "name": "stdout",
          "text": []
        }
      ],
      "execution_count": 2,
      "metadata": {
        "jupyter": {
          "source_hidden": false,
          "outputs_hidden": false
        },
        "nteract": {
          "transient": {
            "deleting": false
          }
        },
        "collapsed": true
      }
    },
    {
      "cell_type": "code",
      "source": [
        "safety_100k = safety.repartition(100000)\r\n",
        "safety_100k.write.mode('overwrite').parquet(PARTITIONS_EXPERIMENT_ROOT + '100k')"
      ],
      "outputs": [
        {
          "output_type": "display_data",
          "data": {
            "application/vnd.livy.statement-meta+json": {
              "spark_pool": "livedemo",
              "session_id": 11,
              "statement_id": 11,
              "state": "submitted",
              "livy_statement_state": "running",
              "queued_time": "2021-08-24T04:35:14.9182329Z",
              "session_start_time": null,
              "execution_start_time": "2021-08-24T04:35:15.0195457Z",
              "execution_finish_time": null
            },
            "text/plain": "StatementMeta(livedemo, 11, 11, Submitted, Running)"
          },
          "metadata": {}
        },
        {
          "output_type": "stream",
          "name": "stdout",
          "text": []
        }
      ],
      "execution_count": 3,
      "metadata": {
        "jupyter": {
          "source_hidden": false,
          "outputs_hidden": false
        },
        "nteract": {
          "transient": {
            "deleting": false
          }
        },
        "collapsed": true
      }
    },
    {
      "cell_type": "markdown",
      "source": [
        "Here is a summary of what you should see from the running the previous cells. These results assume that your notebook is allocated nine executors with eight cores each.\r\n",
        "- When dealing with 1,000 or less partitions, the cells should execute within one minute (results within 30 s are likely)\r\n",
        "- The 10,000 partitions cell may require slightly more time, above one minute\r\n",
        "- The 100,000 partitions cell needs 6 minutes to execute, a considerable performance decrease\r\n",
        "\r\n",
        "For the sake of brevity, we did not test this on Small or Large executors. However, the negative performance impact of writing a very large number of partitions is evident among all executor sizes."
      ],
      "metadata": {
        "nteract": {
          "transient": {
            "deleting": false
          }
        }
      }
    },
    {
      "cell_type": "markdown",
      "source": [
        "Now, test read performance by executing the cells below."
      ],
      "metadata": {
        "nteract": {
          "transient": {
            "deleting": false
          }
        }
      }
    },
    {
      "cell_type": "code",
      "source": [
        "safety_read_1 = spark.read.load(PARTITIONS_EXPERIMENT_ROOT + '1', format='parquet')\r\n",
        "print(safety_read_1.count())"
      ],
      "outputs": [
        {
          "output_type": "display_data",
          "data": {
            "application/vnd.livy.statement-meta+json": {
              "spark_pool": "livedemo",
              "session_id": 11,
              "statement_id": 12,
              "state": "finished",
              "livy_statement_state": "available",
              "queued_time": "2021-08-24T04:41:43.3170338Z",
              "session_start_time": null,
              "execution_start_time": "2021-08-24T04:41:43.4263201Z",
              "execution_finish_time": "2021-08-24T04:41:44.4864001Z"
            },
            "text/plain": "StatementMeta(livedemo, 11, 12, Finished, Available)"
          },
          "metadata": {}
        },
        {
          "output_type": "stream",
          "name": "stdout",
          "text": [
            "9931558"
          ]
        }
      ],
      "execution_count": 4,
      "metadata": {
        "jupyter": {
          "source_hidden": false,
          "outputs_hidden": false
        },
        "nteract": {
          "transient": {
            "deleting": false
          }
        },
        "collapsed": true
      }
    },
    {
      "cell_type": "code",
      "source": [
        "safety_read_10 = spark.read.load(PARTITIONS_EXPERIMENT_ROOT + '10', format='parquet')\r\n",
        "print(safety_read_10.count())"
      ],
      "outputs": [
        {
          "output_type": "display_data",
          "data": {
            "application/vnd.livy.statement-meta+json": {
              "spark_pool": "livedemo",
              "session_id": 11,
              "statement_id": 13,
              "state": "finished",
              "livy_statement_state": "available",
              "queued_time": "2021-08-24T04:41:50.0585059Z",
              "session_start_time": null,
              "execution_start_time": "2021-08-24T04:41:50.1448509Z",
              "execution_finish_time": "2021-08-24T04:41:51.2459322Z"
            },
            "text/plain": "StatementMeta(livedemo, 11, 13, Finished, Available)"
          },
          "metadata": {}
        },
        {
          "output_type": "stream",
          "name": "stdout",
          "text": [
            "9931558"
          ]
        }
      ],
      "execution_count": 5,
      "metadata": {
        "jupyter": {
          "source_hidden": false,
          "outputs_hidden": false
        },
        "nteract": {
          "transient": {
            "deleting": false
          }
        },
        "collapsed": true
      }
    },
    {
      "cell_type": "code",
      "source": [
        "safety_read_100 = spark.read.load(PARTITIONS_EXPERIMENT_ROOT + '100', format='parquet')\r\n",
        "print(safety_read_100.count())"
      ],
      "outputs": [
        {
          "output_type": "display_data",
          "data": {
            "application/vnd.livy.statement-meta+json": {
              "spark_pool": "livedemo",
              "session_id": 11,
              "statement_id": 14,
              "state": "finished",
              "livy_statement_state": "available",
              "queued_time": "2021-08-24T04:41:58.687229Z",
              "session_start_time": null,
              "execution_start_time": "2021-08-24T04:41:58.782826Z",
              "execution_finish_time": "2021-08-24T04:41:59.8519957Z"
            },
            "text/plain": "StatementMeta(livedemo, 11, 14, Finished, Available)"
          },
          "metadata": {}
        },
        {
          "output_type": "stream",
          "name": "stdout",
          "text": [
            "9931558"
          ]
        }
      ],
      "execution_count": 6,
      "metadata": {
        "jupyter": {
          "source_hidden": false,
          "outputs_hidden": false
        },
        "nteract": {
          "transient": {
            "deleting": false
          }
        },
        "collapsed": true
      }
    },
    {
      "cell_type": "code",
      "source": [
        "safety_read_1k = spark.read.load(PARTITIONS_EXPERIMENT_ROOT + '1k', format='parquet')\r\n",
        "print(safety_read_1k.count())"
      ],
      "outputs": [
        {
          "output_type": "display_data",
          "data": {
            "application/vnd.livy.statement-meta+json": {
              "spark_pool": "livedemo",
              "session_id": 11,
              "statement_id": 15,
              "state": "finished",
              "livy_statement_state": "available",
              "queued_time": "2021-08-24T04:42:09.4238256Z",
              "session_start_time": null,
              "execution_start_time": "2021-08-24T04:42:09.5373101Z",
              "execution_finish_time": "2021-08-24T04:42:13.4533688Z"
            },
            "text/plain": "StatementMeta(livedemo, 11, 15, Finished, Available)"
          },
          "metadata": {}
        },
        {
          "output_type": "stream",
          "name": "stdout",
          "text": [
            "9931558"
          ]
        }
      ],
      "execution_count": 7,
      "metadata": {
        "jupyter": {
          "source_hidden": false,
          "outputs_hidden": false
        },
        "nteract": {
          "transient": {
            "deleting": false
          }
        },
        "collapsed": true
      }
    },
    {
      "cell_type": "code",
      "source": [
        "safety_read_10k = spark.read.load(PARTITIONS_EXPERIMENT_ROOT + '10k', format='parquet')\r\n",
        "print(safety_read_10k.count())"
      ],
      "outputs": [
        {
          "output_type": "display_data",
          "data": {
            "application/vnd.livy.statement-meta+json": {
              "spark_pool": "livedemo",
              "session_id": 11,
              "statement_id": 16,
              "state": "finished",
              "livy_statement_state": "available",
              "queued_time": "2021-08-24T04:42:55.3911889Z",
              "session_start_time": null,
              "execution_start_time": "2021-08-24T04:42:55.4799363Z",
              "execution_finish_time": "2021-08-24T04:43:10.9468642Z"
            },
            "text/plain": "StatementMeta(livedemo, 11, 16, Finished, Available)"
          },
          "metadata": {}
        },
        {
          "output_type": "stream",
          "name": "stdout",
          "text": [
            "9931558"
          ]
        }
      ],
      "execution_count": 1,
      "metadata": {
        "jupyter": {
          "source_hidden": false,
          "outputs_hidden": false
        },
        "nteract": {
          "transient": {
            "deleting": false
          }
        },
        "collapsed": true
      }
    },
    {
      "cell_type": "code",
      "source": [
        "safety_read_100k = spark.read.load(PARTITIONS_EXPERIMENT_ROOT + '100k', format='parquet')\r\n",
        "print(safety_read_100k.count())"
      ],
      "outputs": [
        {
          "output_type": "display_data",
          "data": {
            "application/vnd.livy.statement-meta+json": {
              "spark_pool": "livedemo",
              "session_id": 11,
              "statement_id": 17,
              "state": "finished",
              "livy_statement_state": "available",
              "queued_time": "2021-08-24T04:43:25.2136616Z",
              "session_start_time": null,
              "execution_start_time": "2021-08-24T04:43:25.3016877Z",
              "execution_finish_time": "2021-08-24T04:45:38.8210695Z"
            },
            "text/plain": "StatementMeta(livedemo, 11, 17, Finished, Available)"
          },
          "metadata": {}
        },
        {
          "output_type": "stream",
          "name": "stdout",
          "text": [
            "9931558"
          ]
        }
      ],
      "execution_count": 2,
      "metadata": {
        "jupyter": {
          "source_hidden": false,
          "outputs_hidden": false
        },
        "nteract": {
          "transient": {
            "deleting": false
          }
        },
        "collapsed": true
      }
    },
    {
      "cell_type": "markdown",
      "source": [
        "Again, with nine executors and eight cores per executor, expect the following read results:\r\n",
        "- For 1 to 100 partitions, the time is negligible, at roughly 1 second\r\n",
        "- For 1,000 partitions, the read time increases to 3 seconds\r\n",
        "- For 10,000 partitions, the read time increases to 14 seconds\r\n",
        "- For 100,000 partitions, the read time increases to about 2 minutes"
      ],
      "metadata": {
        "nteract": {
          "transient": {
            "deleting": false
          }
        }
      }
    },
    {
      "cell_type": "markdown",
      "source": [
        "Lastly, let's consider the effects of column partitions. In this case, in the hierarchical structure of Azure Data Lake Storage Gen2, each individual unique combination of `dataSubtype`, `category`, `subcategory`, and `status` is represented as a Parquet file.\r\n",
        "\r\n",
        "With nine executors and eight cores per executor, the command will take roughly 8 minutes. It is the least performant operation, though removing periods from the selected column names may also play a role in the poor performance (recall Spark's lazy execution model)."
      ],
      "metadata": {
        "nteract": {
          "transient": {
            "deleting": false
          }
        }
      }
    },
    {
      "cell_type": "code",
      "source": [
        "display(safety.limit(10))"
      ],
      "outputs": [
        {
          "output_type": "display_data",
          "data": {
            "application/vnd.livy.statement-meta+json": {
              "spark_pool": "livedemo",
              "session_id": 11,
              "statement_id": 18,
              "state": "finished",
              "livy_statement_state": "available",
              "queued_time": "2021-08-24T04:46:43.8666165Z",
              "session_start_time": null,
              "execution_start_time": "2021-08-24T04:46:43.9495087Z",
              "execution_finish_time": "2021-08-24T04:47:09.2559342Z"
            },
            "text/plain": "StatementMeta(livedemo, 11, 18, Finished, Available)"
          },
          "metadata": {}
        },
        {
          "output_type": "display_data",
          "data": {
            "application/vnd.synapse.widget-view+json": {
              "widget_id": "2cfe28e5-bcca-425d-99fc-1462a40c6fe1",
              "widget_type": "Synapse.DataFrame"
            },
            "text/plain": "SynapseWidget(Synapse.DataFrame, 2cfe28e5-bcca-425d-99fc-1462a40c6fe1)"
          },
          "metadata": {}
        },
        {
          "output_type": "execute_result",
          "execution_count": 1,
          "data": {},
          "metadata": {}
        }
      ],
      "execution_count": 1,
      "metadata": {
        "jupyter": {
          "source_hidden": false,
          "outputs_hidden": false
        },
        "nteract": {
          "transient": {
            "deleting": false
          }
        },
        "collapsed": false
      }
    },
    {
      "cell_type": "markdown",
      "source": [
        "To avoid any problems when writing to ADLS Gen2, remove periods. To save time, we are replacing them with empty characters, and only performing this operation on the columns in the `partitionBy()` clause."
      ],
      "metadata": {
        "nteract": {
          "transient": {
            "deleting": false
          }
        }
      }
    },
    {
      "cell_type": "code",
      "source": [
        "from pyspark.sql.functions import translate\r\n",
        "\r\n",
        "safety = safety.withColumn('dataSubtype', translate('dataSubtype', '.', '')) \\\r\n",
        "                .withColumn('category', translate('category', '.', '')) \\\r\n",
        "                .withColumn('subcategory', translate('subcategory', '.', '')) \\\r\n",
        "                .withColumn('status', translate('status', '.', ''))"
      ],
      "outputs": [
        {
          "output_type": "display_data",
          "data": {
            "application/vnd.livy.statement-meta+json": {
              "spark_pool": "livedemo",
              "session_id": 11,
              "statement_id": 20,
              "state": "finished",
              "livy_statement_state": "available",
              "queued_time": "2021-08-24T05:02:52.4838632Z",
              "session_start_time": null,
              "execution_start_time": "2021-08-24T05:02:52.5714978Z",
              "execution_finish_time": "2021-08-24T05:02:52.7241013Z"
            },
            "text/plain": "StatementMeta(livedemo, 11, 20, Finished, Available)"
          },
          "metadata": {}
        },
        {
          "output_type": "stream",
          "name": "stdout",
          "text": []
        }
      ],
      "execution_count": 3,
      "metadata": {
        "collapsed": true,
        "jupyter": {
          "source_hidden": false,
          "outputs_hidden": false
        },
        "nteract": {
          "transient": {
            "deleting": false
          }
        }
      }
    },
    {
      "cell_type": "code",
      "source": [
        "safety.write.mode('overwrite').partitionBy('dataSubtype', 'category', 'subcategory', 'status').parquet(PARTITIONS_EXPERIMENT_ROOT + '4Parts')"
      ],
      "outputs": [
        {
          "output_type": "display_data",
          "data": {
            "application/vnd.livy.statement-meta+json": {
              "spark_pool": "livedemo",
              "session_id": 11,
              "statement_id": 21,
              "state": "finished",
              "livy_statement_state": "available",
              "queued_time": "2021-08-24T05:02:59.5369288Z",
              "session_start_time": null,
              "execution_start_time": "2021-08-24T05:02:59.6256209Z",
              "execution_finish_time": "2021-08-24T05:10:58.0329238Z"
            },
            "text/plain": "StatementMeta(livedemo, 11, 21, Finished, Available)"
          },
          "metadata": {}
        },
        {
          "output_type": "stream",
          "name": "stdout",
          "text": []
        }
      ],
      "execution_count": 4,
      "metadata": {
        "jupyter": {
          "source_hidden": false,
          "outputs_hidden": false
        },
        "nteract": {
          "transient": {
            "deleting": false
          }
        },
        "collapsed": true
      }
    },
    {
      "cell_type": "markdown",
      "source": [
        "Read performance is not very poor. You may see different performance penalities with other datasets. The goal of this notebook is simply to introduce you to the performance considerations Apache Spark developers must keep in mind and provides some guidance for you to benchmark your own data engineering workflows."
      ],
      "metadata": {
        "nteract": {
          "transient": {
            "deleting": false
          }
        }
      }
    },
    {
      "cell_type": "code",
      "source": [
        "safety_4parts = spark.read.load(PARTITIONS_EXPERIMENT_ROOT + '4Parts')\r\n",
        "print(safety_4parts.rdd.getNumPartitions())"
      ],
      "outputs": [
        {
          "output_type": "display_data",
          "data": {
            "application/vnd.livy.statement-meta+json": {
              "spark_pool": "livedemo",
              "session_id": 11,
              "statement_id": 25,
              "state": "finished",
              "livy_statement_state": "available",
              "queued_time": "2021-08-24T05:23:47.7336137Z",
              "session_start_time": null,
              "execution_start_time": "2021-08-24T05:23:47.9424732Z",
              "execution_finish_time": "2021-08-24T05:23:54.7484685Z"
            },
            "text/plain": "StatementMeta(livedemo, 11, 25, Finished, Available)"
          },
          "metadata": {}
        },
        {
          "output_type": "stream",
          "name": "stdout",
          "text": [
            "852"
          ]
        }
      ],
      "execution_count": 8,
      "metadata": {
        "jupyter": {
          "source_hidden": false,
          "outputs_hidden": false
        },
        "nteract": {
          "transient": {
            "deleting": false
          }
        },
        "collapsed": true
      }
    }
  ],
  "metadata": {
    "kernelspec": {
      "name": "synapse_pyspark",
      "language": "Python",
      "display_name": "Synapse PySpark"
    },
    "language_info": {
      "name": "python"
    },
    "kernel_info": {
      "name": "synapse_pyspark"
    },
    "save_output": false,
    "synapse_widget": {
      "version": "0.1",
      "state": {
        "2cfe28e5-bcca-425d-99fc-1462a40c6fe1": {
          "type": "Synapse.DataFrame",
          "sync_state": {
            "table": {
              "rows": [
                {
                  "0": "Safety",
                  "1": "311_All",
                  "2": "2018-06-15 22:17:32",
                  "3": "Noise - Street/Sidewalk",
                  "4": "Loud Music/Party",
                  "5": "Closed",
                  "6": "181 WEST TREMONT AVENUE",
                  "7": "40.85167812876717",
                  "8": "-73.91570574312267",
                  "10": ""
                },
                {
                  "0": "Safety",
                  "1": "311_All",
                  "2": "2018-05-06 16:27:17",
                  "3": "Noise - Residential",
                  "4": "Loud Music/Party",
                  "5": "Closed",
                  "6": "289 19 STREET",
                  "7": "40.66150603349162",
                  "8": "-73.99064305325221",
                  "10": ""
                },
                {
                  "0": "Safety",
                  "1": "311_All",
                  "2": "2016-05-21 02:03:46",
                  "3": "Noise - Residential",
                  "4": "Loud Music/Party",
                  "5": "Closed",
                  "6": "2925 BRIGHTON 7 STREET",
                  "7": "40.58088276695528",
                  "8": "-73.96170298823773",
                  "10": ""
                },
                {
                  "0": "Safety",
                  "1": "311_All",
                  "2": "2016-10-31 13:11:20",
                  "3": "Street Sign - Missing",
                  "4": "One Way",
                  "5": "Closed",
                  "6": "200 ADELAIDE AVENUE",
                  "7": "40.5616902523158",
                  "8": "-74.12462211525013",
                  "10": ""
                },
                {
                  "0": "Safety",
                  "1": "311_All",
                  "2": "2015-07-19 02:11:52",
                  "3": "Noise - Residential",
                  "4": "Loud Music/Party",
                  "5": "Open",
                  "6": "151-169 IRVING AVE",
                  "10": ""
                },
                {
                  "0": "Safety",
                  "1": "311_All",
                  "2": "2015-07-15 21:02:48",
                  "3": "UNSANITARY CONDITION",
                  "4": "PESTS",
                  "5": "Closed",
                  "6": "2067 VYSE AVENUE",
                  "7": "40.84312815676421",
                  "8": "-73.88117553537687",
                  "10": ""
                },
                {
                  "0": "Safety",
                  "1": "311_All",
                  "2": "2016-04-12 09:25:09",
                  "3": "Street Sign - Missing",
                  "4": "No Parking, Standing, Stopping",
                  "5": "Closed",
                  "6": "1872 AMSTERDAM AVENUE",
                  "7": "40.830036886269355",
                  "8": "-73.94410637372228",
                  "10": ""
                },
                {
                  "0": "Safety",
                  "1": "311_All",
                  "2": "2017-03-02 13:16:54",
                  "3": "Consumer Complaint",
                  "4": "Exchange/Refund/Return",
                  "5": "Closed",
                  "6": "165-21 JAMAICA AVENUE",
                  "7": "40.7055744092262",
                  "8": "-73.79462404894542",
                  "10": ""
                },
                {
                  "0": "Safety",
                  "1": "311_All",
                  "2": "2017-01-10 11:04:00",
                  "3": "Electronics Waste",
                  "4": "Recycling Electronics",
                  "5": "Closed",
                  "6": "72 JEROME ROAD",
                  "7": "40.59358752470898",
                  "8": "-74.0857724013059",
                  "10": ""
                },
                {
                  "0": "Safety",
                  "1": "311_All",
                  "2": "2018-06-09 10:05:13",
                  "3": "Damaged Tree",
                  "4": "Tree Alive - in Poor Condition",
                  "5": "Closed",
                  "6": "24-33 CRESCENT STREET",
                  "7": "40.774282710686364",
                  "8": "-73.91991965542599",
                  "10": ""
                }
              ],
              "schema": [
                {
                  "key": "0",
                  "name": "dataType",
                  "type": "string"
                },
                {
                  "key": "1",
                  "name": "dataSubtype",
                  "type": "string"
                },
                {
                  "key": "2",
                  "name": "dateTime",
                  "type": "int"
                },
                {
                  "key": "3",
                  "name": "category",
                  "type": "string"
                },
                {
                  "key": "4",
                  "name": "subcategory",
                  "type": "string"
                },
                {
                  "key": "5",
                  "name": "status",
                  "type": "string"
                },
                {
                  "key": "6",
                  "name": "address",
                  "type": "string"
                },
                {
                  "key": "7",
                  "name": "latitude",
                  "type": "double"
                },
                {
                  "key": "8",
                  "name": "longitude",
                  "type": "double"
                },
                {
                  "key": "9",
                  "name": "source",
                  "type": "string"
                },
                {
                  "key": "10",
                  "name": "extendedProperties",
                  "type": "string"
                }
              ]
            },
            "isSummary": false,
            "language": "scala"
          },
          "persist_state": {
            "view": {
              "type": "details",
              "tableOptions": {},
              "chartOptions": {
                "chartType": "bar",
                "aggregationType": "sum",
                "categoryFieldKeys": [
                  "0"
                ],
                "seriesFieldKeys": [
                  "2"
                ],
                "isStacked": false
              }
            }
          }
        }
      }
    }
  },
  "nbformat": 4,
  "nbformat_minor": 2
}