{
  "cells": [
    {
      "cell_type": "code",
      "source": [
        "# Data and column metadata\r\n",
        "columns = [\"database\", \"users_count\"]\r\n",
        "data = [(\"Spark\", \"20000\"), (\"SQL\", \"10000\"), (\"CosmosDB\", \"3000\")]\r\n",
        "\r\n",
        "# Parallel distribution\r\n",
        "rdd = sc.parallelize(data)\r\n",
        "\r\n",
        "# Generate a DataFrame\r\n",
        "sdf1 = rdd.toDF(columns)\r\n",
        "sdf1.printSchema()"
      ],
      "outputs": [
        {
          "output_type": "display_data",
          "data": {
            "application/vnd.livy.statement-meta+json": {
              "spark_pool": "livedemo",
              "session_id": 0,
              "statement_id": 17,
              "state": "finished",
              "livy_statement_state": "available",
              "queued_time": "2021-08-04T05:17:03.0129846Z",
              "session_start_time": null,
              "execution_start_time": "2021-08-04T05:17:03.1363406Z",
              "execution_finish_time": "2021-08-04T05:17:03.6510558Z"
            },
            "text/plain": "StatementMeta(livedemo, 0, 17, Finished, Available)"
          },
          "metadata": {}
        },
        {
          "output_type": "stream",
          "name": "stdout",
          "text": [
            "root\n",
            " |-- database: string (nullable = true)\n",
            " |-- users_count: string (nullable = true)"
          ]
        }
      ],
      "execution_count": 17,
      "metadata": {}
    },
    {
      "cell_type": "code",
      "source": [
        "print(sdf1.rdd.getNumPartitions())"
      ],
      "outputs": [
        {
          "output_type": "display_data",
          "data": {
            "application/vnd.livy.statement-meta+json": {
              "spark_pool": "livedemo",
              "session_id": 0,
              "statement_id": 10,
              "state": "finished",
              "livy_statement_state": "available",
              "queued_time": "2021-08-04T05:13:52.4341085Z",
              "session_start_time": null,
              "execution_start_time": "2021-08-04T05:13:53.1003389Z",
              "execution_finish_time": "2021-08-04T05:13:53.2497569Z"
            },
            "text/plain": "StatementMeta(livedemo, 0, 10, Finished, Available)"
          },
          "metadata": {}
        },
        {
          "output_type": "stream",
          "name": "stdout",
          "text": [
            "16"
          ]
        }
      ],
      "execution_count": 10,
      "metadata": {
        "collapsed": true,
        "jupyter": {
          "source_hidden": false,
          "outputs_hidden": false
        },
        "nteract": {
          "transient": {
            "deleting": false
          }
        }
      }
    },
    {
      "cell_type": "code",
      "source": [
        "print('Data distribution: ', str(sdf1.rdd.glom().map(len).collect()))"
      ],
      "outputs": [
        {
          "output_type": "display_data",
          "data": {
            "application/vnd.livy.statement-meta+json": {
              "spark_pool": "livedemo",
              "session_id": 0,
              "statement_id": 11,
              "state": "finished",
              "livy_statement_state": "available",
              "queued_time": "2021-08-04T05:13:52.5480411Z",
              "session_start_time": null,
              "execution_start_time": "2021-08-04T05:13:53.3386449Z",
              "execution_finish_time": "2021-08-04T05:13:53.8429223Z"
            },
            "text/plain": "StatementMeta(livedemo, 0, 11, Finished, Available)"
          },
          "metadata": {}
        },
        {
          "output_type": "stream",
          "name": "stdout",
          "text": [
            "Data distribution:  [0, 0, 0, 0, 0, 1, 0, 0, 0, 0, 1, 0, 0, 0, 0, 1]"
          ]
        }
      ],
      "execution_count": 11,
      "metadata": {
        "collapsed": true,
        "jupyter": {
          "source_hidden": false,
          "outputs_hidden": false
        },
        "nteract": {
          "transient": {
            "deleting": false
          }
        }
      }
    },
    {
      "cell_type": "code",
      "source": [
        "sdf2 = sdf1.repartition(3)"
      ],
      "outputs": [
        {
          "output_type": "display_data",
          "data": {
            "application/vnd.livy.statement-meta+json": {
              "spark_pool": "livedemo",
              "session_id": 0,
              "statement_id": 12,
              "state": "finished",
              "livy_statement_state": "available",
              "queued_time": "2021-08-04T05:13:52.645419Z",
              "session_start_time": null,
              "execution_start_time": "2021-08-04T05:13:53.930444Z",
              "execution_finish_time": "2021-08-04T05:13:54.0824589Z"
            },
            "text/plain": "StatementMeta(livedemo, 0, 12, Finished, Available)"
          },
          "metadata": {}
        },
        {
          "output_type": "stream",
          "name": "stdout",
          "text": []
        }
      ],
      "execution_count": 12,
      "metadata": {
        "collapsed": true,
        "jupyter": {
          "source_hidden": false,
          "outputs_hidden": false
        },
        "nteract": {
          "transient": {
            "deleting": false
          }
        }
      }
    },
    {
      "cell_type": "code",
      "source": [
        "print('Data distribution: ', str(sdf2.rdd.glom().map(len).collect()))"
      ],
      "outputs": [
        {
          "output_type": "display_data",
          "data": {
            "application/vnd.livy.statement-meta+json": {
              "spark_pool": "livedemo",
              "session_id": 0,
              "statement_id": 13,
              "state": "finished",
              "livy_statement_state": "available",
              "queued_time": "2021-08-04T05:13:52.7887551Z",
              "session_start_time": null,
              "execution_start_time": "2021-08-04T05:13:54.1813236Z",
              "execution_finish_time": "2021-08-04T05:13:54.6892955Z"
            },
            "text/plain": "StatementMeta(livedemo, 0, 13, Finished, Available)"
          },
          "metadata": {}
        },
        {
          "output_type": "stream",
          "name": "stdout",
          "text": [
            "Data distribution:  [1, 2, 0]"
          ]
        }
      ],
      "execution_count": 13,
      "metadata": {
        "collapsed": true,
        "jupyter": {
          "source_hidden": false,
          "outputs_hidden": false
        },
        "nteract": {
          "transient": {
            "deleting": false
          }
        }
      }
    },
    {
      "cell_type": "code",
      "source": [
        "sdf1.cache()"
      ],
      "outputs": [
        {
          "output_type": "display_data",
          "data": {
            "application/vnd.livy.statement-meta+json": {
              "spark_pool": "livedemo",
              "session_id": 0,
              "statement_id": 14,
              "state": "finished",
              "livy_statement_state": "available",
              "queued_time": "2021-08-04T05:13:52.8595384Z",
              "session_start_time": null,
              "execution_start_time": "2021-08-04T05:13:54.776397Z",
              "execution_finish_time": "2021-08-04T05:13:54.9224934Z"
            },
            "text/plain": "StatementMeta(livedemo, 0, 14, Finished, Available)"
          },
          "metadata": {}
        },
        {
          "output_type": "stream",
          "name": "stdout",
          "text": [
            "DataFrame[database: string, users_count: string]"
          ]
        }
      ],
      "execution_count": 14,
      "metadata": {
        "collapsed": true,
        "jupyter": {
          "source_hidden": false,
          "outputs_hidden": false
        },
        "nteract": {
          "transient": {
            "deleting": false
          }
        }
      }
    },
    {
      "cell_type": "code",
      "source": [
        "from pyspark import StorageLevel\r\n",
        "\r\n",
        "sdf2.persist(StorageLevel.DISK_ONLY)"
      ],
      "outputs": [
        {
          "output_type": "display_data",
          "data": {
            "application/vnd.livy.statement-meta+json": {
              "spark_pool": "livedemo",
              "session_id": 0,
              "statement_id": 15,
              "state": "finished",
              "livy_statement_state": "available",
              "queued_time": "2021-08-04T05:13:52.9580779Z",
              "session_start_time": null,
              "execution_start_time": "2021-08-04T05:13:55.0098801Z",
              "execution_finish_time": "2021-08-04T05:13:55.1631988Z"
            },
            "text/plain": "StatementMeta(livedemo, 0, 15, Finished, Available)"
          },
          "metadata": {}
        },
        {
          "output_type": "stream",
          "name": "stdout",
          "text": [
            "DataFrame[database: string, users_count: string]"
          ]
        }
      ],
      "execution_count": 15,
      "metadata": {
        "collapsed": true,
        "jupyter": {
          "source_hidden": false,
          "outputs_hidden": false
        },
        "nteract": {
          "transient": {
            "deleting": false
          }
        }
      }
    },
    {
      "cell_type": "code",
      "source": [
        "print(sdf1.count())\r\n",
        "print(sdf2.count())"
      ],
      "outputs": [
        {
          "output_type": "display_data",
          "data": {
            "application/vnd.livy.statement-meta+json": {
              "spark_pool": "livedemo",
              "session_id": 0,
              "statement_id": 16,
              "state": "finished",
              "livy_statement_state": "available",
              "queued_time": "2021-08-04T05:13:53.0934057Z",
              "session_start_time": null,
              "execution_start_time": "2021-08-04T05:13:55.2491138Z",
              "execution_finish_time": "2021-08-04T05:13:56.3876595Z"
            },
            "text/plain": "StatementMeta(livedemo, 0, 16, Finished, Available)"
          },
          "metadata": {}
        },
        {
          "output_type": "stream",
          "name": "stdout",
          "text": [
            "3\n",
            "3"
          ]
        }
      ],
      "execution_count": 16,
      "metadata": {
        "collapsed": true,
        "jupyter": {
          "source_hidden": false,
          "outputs_hidden": false
        },
        "nteract": {
          "transient": {
            "deleting": false
          }
        }
      }
    }
  ],
  "metadata": {
    "language_info": {
      "name": "python"
    },
    "kernelspec": {
      "name": "synapse_pyspark",
      "language": "Python",
      "display_name": "Synapse PySpark"
    },
    "kernel_info": {
      "name": "synapse_pyspark"
    },
    "save_output": false,
    "synapse_widget": {
      "version": "0.1",
      "state": {}
    }
  },
  "nbformat": 4,
  "nbformat_minor": 2
}